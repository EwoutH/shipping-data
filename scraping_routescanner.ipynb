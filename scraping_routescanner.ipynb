{
 "cells": [
  {
   "cell_type": "markdown",
   "source": [
    "## Web scraping of RouteScanner\n",
    "\n",
    "This code is a work in progress and not even close to ready."
   ],
   "metadata": {
    "collapsed": false
   }
  },
  {
   "cell_type": "code",
   "execution_count": 1,
   "outputs": [],
   "source": [
    "import sys\n",
    "sys.path.append('C:\\\\Users\\\\Ewout\\\\Documents\\\\python_venv\\\\Py310')\n",
    "sys.path.append('C:\\\\Users\\\\Ewout\\\\Documents\\\\python_venv\\\\Py310\\\\lib\\\\site-packages')"
   ],
   "metadata": {
    "collapsed": false
   }
  },
  {
   "cell_type": "markdown",
   "source": [
    "### Try static stuf"
   ],
   "metadata": {
    "collapsed": false
   }
  },
  {
   "cell_type": "code",
   "execution_count": 2,
   "metadata": {
    "collapsed": true
   },
   "outputs": [],
   "source": [
    "import requests\n",
    "from bs4 import BeautifulSoup\n",
    "import re"
   ]
  },
  {
   "cell_type": "code",
   "execution_count": 3,
   "outputs": [
    {
     "name": "stdout",
     "output_type": "stream",
     "text": [
      "https://www.routescanner.com/voyages?limit=1000&from=NLRTM&fromType=locode&originsNearby=1&to=BRSSZ&toType=locode&destinationsNearby=1&departure=2022-09-29&sort=emission_co2\n"
     ]
    }
   ],
   "source": [
    "Limit = 1000\n",
    "Date = \"2022-09-29\"\n",
    "BASE_URL = 'https://www.routescanner.com/'\n",
    "Origin = \"NLRTM\"\n",
    "Destination = \"BRSSZ\"\n",
    "\n",
    "url = f\"https://www.routescanner.com/voyages?limit={Limit}&from={Origin}&fromType=locode&originsNearby=1&to={Destination}&toType=locode&destinationsNearby=1&departure={Date}&sort=emission_co2\"\n",
    "print(url)"
   ],
   "metadata": {
    "collapsed": false
   }
  },
  {
   "cell_type": "code",
   "execution_count": 4,
   "outputs": [],
   "source": [
    "page = requests.get(url)\n",
    "soup = BeautifulSoup(page.content, \"html.parser\")"
   ],
   "metadata": {
    "collapsed": false
   }
  },
  {
   "cell_type": "code",
   "execution_count": 5,
   "outputs": [
    {
     "data": {
      "text/plain": "<bound method Response.json of <Response [200]>>"
     },
     "execution_count": 5,
     "metadata": {},
     "output_type": "execute_result"
    }
   ],
   "source": [
    "page.json"
   ],
   "metadata": {
    "collapsed": false
   }
  },
  {
   "cell_type": "code",
   "execution_count": 6,
   "outputs": [
    {
     "data": {
      "text/plain": "<!DOCTYPE html>\n<html lang=\"en\" translate=\"no\" xmlns:fb=\"http://ogp.me/ns/fb#\"><head><meta content=\"width=device-width,initial-scale=1,shrink-to-fit=no\" name=\"viewport\"/><meta content=\"notranslate\" name=\"google\"/><meta charset=\"utf-8\"><title>Routescanner – Make better container shipping decisions</title><meta content=\"Find the best door-to-door shipping routes by sea and inland. Compare options on lead time and CO2 emissions.\" name=\"description\"/><meta content=\"routescanner, container shipping routes, maritime route, routeplanner, shortsea connections, deepsea connections, rail connections, barge connections\" name=\"keywords\"/><meta content=\"For the best container shipping route comparison, use Routescanner to find the best connection by deepsea, feeder, rail, barge and truck.\" itemprop=\"name\"/><meta content=\"Routescanner – Make better container shipping decisions\" property=\"og:title\"/><meta content=\"Routescanner – Plan your door-to-door container shipping route\" property=\"og:site_name\"/><meta content=\"Find the best door-to-door shipping routes by sea and inland. Compare options on lead time and CO2 emissions.\" property=\"og:description\"/><meta content=\"https://www.routescanner.com/assets/routescanner-thumbnail.jpg\" property=\"og:image\"><link href=\"/favicon.ico\" rel=\"shortcut icon\"/><link href=\"https://fonts.googleapis.com/css2?family=Lato:wght@300;400;700;900&amp;display=swap\" rel=\"stylesheet\"/><script src=\"https://secure.page9awry.com/js/218217.js\"></script><noscript><img alt=\"\" src=\"https://secure.page9awry.com/218217.png\" style=\"display:none;\"/></noscript><script async=\"\" src=\"https://www.googletagmanager.com/gtag/js?id=G-AW-10807702374\"></script><script>window.dataLayer = window.dataLayer || []\n    function gtag(){dataLayer.push(arguments)}\n    gtag('js', new Date())\n    gtag('config', 'AW-10807702374')</script><script>if (document.cookie.length > 0) {\n      let cStart = document.cookie.indexOf(`RTSdisclaimer=`)\n      if (cStart !== -1) {\n        cStart = cStart + `RTSdisclaimer=`.length\n        let cEnd = document.cookie.indexOf(';', cStart)\n        if (cEnd === -1) {\n          cEnd = document.cookie.length\n        }\n        const cookieSet = unescape(document.cookie.substring(cStart, cEnd)) === '1'\n        if (cookieSet) {\n          //- <!-- Google Tag Manager -->\n          (function(w,d,s,l,i){\n            w[l]=w[l]||[];\n            w[l].push({\n            'gtm.start': new Date().getTime(),event:'gtm.js'\n            });\n            var f=d.getElementsByTagName(s)[0],\n                j=d.createElement(s),\n                dl=l!='dataLayer'?'&l='+l:'';\n            j.async=true;\n            j.src='https://www.googletagmanager.com/gtm.js?id='+i+dl;\n            f.parentNode.insertBefore(j,f);\n          })(window,document,'script','dataLayer','GTM-KHPF32M');\n          //- <!-- End Google Tag Manager -->\n\n          // if cookie settings are accepted, set ga\n          (function(i, s, o, g, r, a, m) {\n            i['GoogleAnalyticsObject'] = r; i[r] = i[r] || function() {\n              (i[r].q = i[r].q || []).push(arguments)\n            }, i[r].l = 1 * new Date(); a = s.createElement(o),\n              m = s.getElementsByTagName(o)[0]; a.async = 1; a.src = g; m.parentNode.insertBefore(a, m)\n          })(window, document, 'script', 'https://www.google-analytics.com/analytics.js', 'ga')\n          ga('create', 'UA-180471736-1', 'auto')\n        }\n      }\n    } else {\n      var ga = undefined;\n    }</script><script defer=\"defer\" src=\"/runtime.b2e245491f19920ea060.js\"></script><script defer=\"defer\" src=\"/366.24b08a211f874f245956.js\"></script><script defer=\"defer\" src=\"/app.cb3fe2f18f50f053676d.js\"></script><link href=\"/366.1f0fbf8fd4a464df9ae7.css\" rel=\"stylesheet\"/><link href=\"/app.d5465480da02f77eda70.css\" rel=\"stylesheet\"/></meta></meta></head><body><noscript><iframe height=\"0\" src=\"https://www.googletagmanager.com/ns.html?id=GTM-KHPF32M\" style=\"display:none;visibility:hidden\" width=\"0\"></iframe></noscript><div id=\"routescanner\"></div><script>var blogPosts = !{blogPosts}</script><script>_linkedin_partner_id = \"dummy-value\"\n    window._linkedin_data_partner_ids = window._linkedin_data_partner_ids || []\n    window._linkedin_data_partner_ids.push(_linkedin_partner_id)</script><script>(() => {\n      var s = document.getElementsByTagName(\"script\")[0]\n      var b = document.createElement(\"script\")\n      b.type = \"text/javascript\"\n      b.async = true\n      b.src = \"https://snap.licdn.com/li.lms-analytics/insight.min.js\"\n      s.parentNode.insertBefore(b, s)\n    })()</script></body></html>"
     },
     "execution_count": 6,
     "metadata": {},
     "output_type": "execute_result"
    }
   ],
   "source": [
    "soup"
   ],
   "metadata": {
    "collapsed": false
   }
  },
  {
   "cell_type": "code",
   "execution_count": 7,
   "outputs": [],
   "source": [
    "dates = soup.find_all(\"div\", {\"class\" : re.compile('voyagesSection*')})"
   ],
   "metadata": {
    "collapsed": false
   }
  },
  {
   "cell_type": "code",
   "execution_count": 8,
   "outputs": [
    {
     "data": {
      "text/plain": "[]"
     },
     "execution_count": 8,
     "metadata": {},
     "output_type": "execute_result"
    }
   ],
   "source": [
    "dates"
   ],
   "metadata": {
    "collapsed": false
   }
  },
  {
   "cell_type": "code",
   "execution_count": 9,
   "outputs": [
    {
     "ename": "AttributeError",
     "evalue": "'NoneType' object has no attribute 'prettify'",
     "output_type": "error",
     "traceback": [
      "\u001B[1;31m---------------------------------------------------------------------------\u001B[0m",
      "\u001B[1;31mAttributeError\u001B[0m                            Traceback (most recent call last)",
      "Cell \u001B[1;32mIn [9], line 2\u001B[0m\n\u001B[0;32m      1\u001B[0m results \u001B[38;5;241m=\u001B[39m soup\u001B[38;5;241m.\u001B[39mfind(\u001B[38;5;28mid\u001B[39m\u001B[38;5;241m=\u001B[39m\u001B[38;5;124m\"\u001B[39m\u001B[38;5;124mvoyagesSection*\u001B[39m\u001B[38;5;124m\"\u001B[39m)\n\u001B[1;32m----> 2\u001B[0m \u001B[38;5;28mprint\u001B[39m(\u001B[43mresults\u001B[49m\u001B[38;5;241;43m.\u001B[39;49m\u001B[43mprettify\u001B[49m())\n",
      "\u001B[1;31mAttributeError\u001B[0m: 'NoneType' object has no attribute 'prettify'"
     ]
    }
   ],
   "source": [
    "results = soup.find(id=\"voyagesSection*\")\n",
    "print(results.prettify())"
   ],
   "metadata": {
    "collapsed": false
   }
  },
  {
   "cell_type": "markdown",
   "source": [
    "### Try some dynamic stuff"
   ],
   "metadata": {
    "collapsed": false
   }
  },
  {
   "cell_type": "code",
   "execution_count": 10,
   "outputs": [],
   "source": [
    "from selenium import webdriver\n",
    "from selenium.webdriver.chrome.options import Options\n",
    "from bs4 import BeautifulSoup\n",
    "import os"
   ],
   "metadata": {
    "collapsed": false
   }
  },
  {
   "cell_type": "markdown",
   "source": [
    "https://scrapingant.com/blog/scrape-dynamic-website-with-python"
   ],
   "metadata": {
    "collapsed": false
   }
  },
  {
   "cell_type": "code",
   "execution_count": 11,
   "outputs": [
    {
     "data": {
      "text/plain": "'C:\\\\Users\\\\Ewout\\\\Documents\\\\GitHub\\\\shipping-data'"
     },
     "execution_count": 11,
     "metadata": {},
     "output_type": "execute_result"
    }
   ],
   "source": [
    "os.getcwd()"
   ],
   "metadata": {
    "collapsed": false
   }
  },
  {
   "cell_type": "code",
   "execution_count": 14,
   "outputs": [
    {
     "name": "stderr",
     "output_type": "stream",
     "text": [
      "C:\\Users\\Ewout\\AppData\\Local\\Temp\\ipykernel_24856\\1137722133.py:10: DeprecationWarning: executable_path has been deprecated, please pass in a Service object\n",
      "  driver = webdriver.Chrome(options=opts, executable_path=chrome_driver)\n"
     ]
    },
    {
     "name": "stdout",
     "output_type": "stream",
     "text": [
      "[]\n"
     ]
    }
   ],
   "source": [
    "# Instantiate options\n",
    "opts = Options()\n",
    "# opts.add_argument(\" — headless\") # Uncomment if the headless version needed\n",
    "opts.binary_location = \"C:\\Program Files\\Google\\Chrome\\Application\\chrome.exe\"\n",
    "\n",
    "# Set the location of the webdriver\n",
    "chrome_driver = os.getcwd() + \"/drivers/chromedriver.exe\"\n",
    "\n",
    "# Instantiate a webdriver\n",
    "driver = webdriver.Chrome(options=opts, executable_path=chrome_driver)\n",
    "\n",
    "# Load the HTML page\n",
    "driver.get(url)\n",
    "\n",
    "# Parse processed webpage with BeautifulSoup\n",
    "soup = BeautifulSoup(driver.page_source)\n",
    "\n",
    "voyages = soup.find_all(\"div\", {\"class\" : re.compile('voyagesSection*')})\n",
    "print(voyages)"
   ],
   "metadata": {
    "collapsed": false
   }
  },
  {
   "cell_type": "code",
   "execution_count": 15,
   "outputs": [
    {
     "name": "stdout",
     "output_type": "stream",
     "text": [
      "<html lang=\"en\" translate=\"no\" xmlns:fb=\"http://ogp.me/ns/fb#\"><head><meta content=\"width=device-width,initial-scale=1,shrink-to-fit=no\" name=\"viewport\"/><meta content=\"notranslate\" name=\"google\"/><meta charset=\"utf-8\"/><title>Routescanner – Make better container shipping decisions</title><meta content=\"Find the best door-to-door shipping routes by sea and inland. Compare options on lead time and CO2 emissions.\" name=\"description\"/><meta content=\"routescanner, container shipping routes, maritime route, routeplanner, shortsea connections, deepsea connections, rail connections, barge connections\" name=\"keywords\"/><meta content=\"For the best container shipping route comparison, use Routescanner to find the best connection by deepsea, feeder, rail, barge and truck.\" itemprop=\"name\"/><meta content=\"Routescanner – Make better container shipping decisions\" property=\"og:title\"/><meta content=\"Routescanner – Plan your door-to-door container shipping route\" property=\"og:site_name\"/><meta content=\"Find the best door-to-door shipping routes by sea and inland. Compare options on lead time and CO2 emissions.\" property=\"og:description\"/><meta content=\"https://www.routescanner.com/assets/routescanner-thumbnail.jpg\" property=\"og:image\"/><link href=\"/favicon.ico\" rel=\"shortcut icon\"/><link href=\"https://fonts.googleapis.com/css2?family=Lato:wght@300;400;700;900&amp;display=swap\" rel=\"stylesheet\"/><script async=\"\" src=\"https://www.googleadservices.com/pagead/conversion_async.js\" type=\"text/javascript\"></script><script async=\"\" src=\"https://www.googletagmanager.com/gtag/js?id=AW-10807702374&amp;l=dataLayer&amp;cx=c\" type=\"text/javascript\"></script><script async=\"\" src=\"https://snap.licdn.com/li.lms-analytics/insight.min.js\" type=\"text/javascript\"></script><script src=\"https://secure.page9awry.com/js/218217.js\"></script><noscript><img alt=\"\" src=\"https://secure.page9awry.com/218217.png\" style=\"display:none;\"/></noscript><script async=\"\" src=\"https://www.googletagmanager.com/gtag/js?id=G-AW-10807702374\"></script><script>window.dataLayer = window.dataLayer || []\n",
      "    function gtag(){dataLayer.push(arguments)}\n",
      "    gtag('js', new Date())\n",
      "    gtag('config', 'AW-10807702374')</script><script>if (document.cookie.length > 0) {\n",
      "      let cStart = document.cookie.indexOf(`RTSdisclaimer=`)\n",
      "      if (cStart !== -1) {\n",
      "        cStart = cStart + `RTSdisclaimer=`.length\n",
      "        let cEnd = document.cookie.indexOf(';', cStart)\n",
      "        if (cEnd === -1) {\n",
      "          cEnd = document.cookie.length\n",
      "        }\n",
      "        const cookieSet = unescape(document.cookie.substring(cStart, cEnd)) === '1'\n",
      "        if (cookieSet) {\n",
      "          //- <!-- Google Tag Manager -->\n",
      "          (function(w,d,s,l,i){\n",
      "            w[l]=w[l]||[];\n",
      "            w[l].push({\n",
      "            'gtm.start': new Date().getTime(),event:'gtm.js'\n",
      "            });\n",
      "            var f=d.getElementsByTagName(s)[0],\n",
      "                j=d.createElement(s),\n",
      "                dl=l!='dataLayer'?'&l='+l:'';\n",
      "            j.async=true;\n",
      "            j.src='https://www.googletagmanager.com/gtm.js?id='+i+dl;\n",
      "            f.parentNode.insertBefore(j,f);\n",
      "          })(window,document,'script','dataLayer','GTM-KHPF32M');\n",
      "          //- <!-- End Google Tag Manager -->\n",
      "\n",
      "          // if cookie settings are accepted, set ga\n",
      "          (function(i, s, o, g, r, a, m) {\n",
      "            i['GoogleAnalyticsObject'] = r; i[r] = i[r] || function() {\n",
      "              (i[r].q = i[r].q || []).push(arguments)\n",
      "            }, i[r].l = 1 * new Date(); a = s.createElement(o),\n",
      "              m = s.getElementsByTagName(o)[0]; a.async = 1; a.src = g; m.parentNode.insertBefore(a, m)\n",
      "          })(window, document, 'script', 'https://www.google-analytics.com/analytics.js', 'ga')\n",
      "          ga('create', 'UA-180471736-1', 'auto')\n",
      "        }\n",
      "      }\n",
      "    } else {\n",
      "      var ga = undefined;\n",
      "    }</script><script defer=\"defer\" src=\"/runtime.b2e245491f19920ea060.js\"></script><script defer=\"defer\" src=\"/366.24b08a211f874f245956.js\"></script><script defer=\"defer\" src=\"/app.cb3fe2f18f50f053676d.js\"></script><link href=\"/366.1f0fbf8fd4a464df9ae7.css\" rel=\"stylesheet\"/><link href=\"/app.d5465480da02f77eda70.css\" rel=\"stylesheet\"/><meta content=\"A7bG5hJ4XpMV5a3V1wwAR0PalkFSxLOZeL9D/YBYdupYUIgUgGhfVJ1zBFOqGybb7gRhswfJ+AmO7S2rNK2IOwkAAAB7eyJvcmlnaW4iOiJodHRwczovL3d3dy5nb29nbGV0YWdtYW5hZ2VyLmNvbTo0NDMiLCJmZWF0dXJlIjoiUHJpdmFjeVNhbmRib3hBZHNBUElzIiwiZXhwaXJ5IjoxNjY5NzY2Mzk5LCJpc1RoaXJkUGFydHkiOnRydWV9\" http-equiv=\"origin-trial\"/><script async=\"\" src=\"https://googleads.g.doubleclick.net/pagead/viewthroughconversion/10807702374/?random=1664452243257&amp;cv=9&amp;fst=1664452243257&amp;num=1&amp;bg=ffffff&amp;guid=ON&amp;resp=GooglemKTybQhCsO&amp;u_h=1372&amp;u_w=2195&amp;u_ah=1324&amp;u_aw=2195&amp;u_cd=30&amp;u_his=2&amp;u_tz=120&amp;u_java=false&amp;u_nplug=5&amp;u_nmime=2&amp;gtm=2oa9q0&amp;sendb=1&amp;ig=1&amp;data=event%3Dgtag.config&amp;frm=0&amp;url=https%3A%2F%2Fwww.routescanner.com%2Fvoyages%3Flimit%3D1000%26from%3DNLRTM%26fromType%3Dlocode%26originsNearby%3D1%26to%3DBRSSZ%26toType%3Dlocode%26destinationsNearby%3D1%26departure%3D2022-09-29%26sort%3Demission_co2&amp;tiba=Routescanner%20%E2%80%93%20Make%20better%20container%20shipping%20decisions&amp;auid=1077254113.1664452243&amp;hn=www.googleadservices.com&amp;async=1&amp;rfmt=3&amp;fmt=4\" type=\"text/javascript\"></script></head><body><noscript><iframe height=\"0\" src=\"https://www.googletagmanager.com/ns.html?id=GTM-KHPF32M\" style=\"display:none;visibility:hidden\" width=\"0\"></iframe></noscript><div id=\"routescanner\"></div><script>var blogPosts = !{blogPosts}</script><script>_linkedin_partner_id = \"dummy-value\"\n",
      "    window._linkedin_data_partner_ids = window._linkedin_data_partner_ids || []\n",
      "    window._linkedin_data_partner_ids.push(_linkedin_partner_id)</script><script>(() => {\n",
      "      var s = document.getElementsByTagName(\"script\")[0]\n",
      "      var b = document.createElement(\"script\")\n",
      "      b.type = \"text/javascript\"\n",
      "      b.async = true\n",
      "      b.src = \"https://snap.licdn.com/li.lms-analytics/insight.min.js\"\n",
      "      s.parentNode.insertBefore(b, s)\n",
      "    })()</script></body></html>\n"
     ]
    }
   ],
   "source": [
    "print(soup)"
   ],
   "metadata": {
    "collapsed": false
   }
  }
 ],
 "metadata": {
  "kernelspec": {
   "display_name": "Python 3",
   "language": "python",
   "name": "python3"
  },
  "language_info": {
   "codemirror_mode": {
    "name": "ipython",
    "version": 2
   },
   "file_extension": ".py",
   "mimetype": "text/x-python",
   "name": "python",
   "nbconvert_exporter": "python",
   "pygments_lexer": "ipython2",
   "version": "2.7.6"
  }
 },
 "nbformat": 4,
 "nbformat_minor": 0
}
