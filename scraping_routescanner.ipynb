{
 "cells": [
  {
   "cell_type": "markdown",
   "source": [
    "## Web scraping of RouteScanner\n",
    "\n",
    "This code is a work in progress and not even close to ready."
   ],
   "metadata": {
    "collapsed": false
   }
  },
  {
   "cell_type": "code",
   "execution_count": 1,
   "outputs": [],
   "source": [
    "import sys\n",
    "sys.path.append('C:\\\\Users\\\\Ewout\\\\Documents\\\\python_venv\\\\Py310')\n",
    "sys.path.append('C:\\\\Users\\\\Ewout\\\\Documents\\\\python_venv\\\\Py310\\\\lib\\\\site-packages')"
   ],
   "metadata": {
    "collapsed": false
   }
  },
  {
   "cell_type": "markdown",
   "source": [
    "### Try static stuf"
   ],
   "metadata": {
    "collapsed": false
   }
  },
  {
   "cell_type": "code",
   "execution_count": 2,
   "metadata": {
    "collapsed": true
   },
   "outputs": [],
   "source": [
    "import requests\n",
    "from bs4 import BeautifulSoup\n",
    "import re"
   ]
  },
  {
   "cell_type": "code",
   "execution_count": 3,
   "outputs": [
    {
     "name": "stdout",
     "output_type": "stream",
     "text": [
      "https://www.routescanner.com/voyages?limit=1000&from=NLRTM&fromType=locode&originsNearby=1&to=BRSSZ&toType=locode&destinationsNearby=1&departure=2022-10-11&sort=emission_co2\n"
     ]
    }
   ],
   "source": [
    "Limit = 1000\n",
    "Date = \"2022-10-11\"\n",
    "BASE_URL = 'https://www.routescanner.com/'\n",
    "Origin = \"NLRTM\"\n",
    "Destination = \"BRSSZ\"\n",
    "\n",
    "url = f\"https://www.routescanner.com/voyages?limit={Limit}&from={Origin}&fromType=locode&originsNearby=1&to={Destination}&toType=locode&destinationsNearby=1&departure={Date}&sort=emission_co2\"\n",
    "print(url)"
   ],
   "metadata": {
    "collapsed": false
   }
  },
  {
   "cell_type": "code",
   "execution_count": 4,
   "outputs": [],
   "source": [
    "page = requests.get(url)\n",
    "soup = BeautifulSoup(page.content, \"html.parser\")"
   ],
   "metadata": {
    "collapsed": false
   }
  },
  {
   "cell_type": "code",
   "execution_count": 5,
   "outputs": [
    {
     "data": {
      "text/plain": "<bound method Response.json of <Response [200]>>"
     },
     "execution_count": 5,
     "metadata": {},
     "output_type": "execute_result"
    }
   ],
   "source": [
    "page.json"
   ],
   "metadata": {
    "collapsed": false
   }
  },
  {
   "cell_type": "code",
   "execution_count": 6,
   "outputs": [
    {
     "data": {
      "text/plain": "<!DOCTYPE html>\n<html lang=\"en\" translate=\"no\" xmlns:fb=\"http://ogp.me/ns/fb#\"><head><meta content=\"width=device-width,initial-scale=1,shrink-to-fit=no\" name=\"viewport\"/><meta content=\"notranslate\" name=\"google\"/><meta charset=\"utf-8\"><title>Routescanner – Make better container shipping decisions</title><meta content=\"Find the best door-to-door shipping routes by sea and inland. Compare options on lead time and CO2 emissions.\" name=\"description\"/><meta content=\"routescanner, container shipping routes, maritime route, routeplanner, shortsea connections, deepsea connections, rail connections, barge connections\" name=\"keywords\"/><meta content=\"For the best container shipping route comparison, use Routescanner to find the best connection by deepsea, feeder, rail, barge and truck.\" itemprop=\"name\"/><meta content=\"Routescanner – Make better container shipping decisions\" property=\"og:title\"/><meta content=\"Routescanner – Plan your door-to-door container shipping route\" property=\"og:site_name\"/><meta content=\"Find the best door-to-door shipping routes by sea and inland. Compare options on lead time and CO2 emissions.\" property=\"og:description\"/><meta content=\"https://www.routescanner.com/assets/routescanner-thumbnail.jpg\" property=\"og:image\"><link href=\"/favicon.ico\" rel=\"shortcut icon\"/><link href=\"https://fonts.googleapis.com/css2?family=Lato:wght@300;400;700;900&amp;display=swap\" rel=\"stylesheet\"/><script src=\"https://secure.page9awry.com/js/218217.js\"></script><noscript><img alt=\"\" src=\"https://secure.page9awry.com/218217.png\" style=\"display:none;\"/></noscript><script async=\"\" src=\"https://www.googletagmanager.com/gtag/js?id=G-AW-10807702374\"></script><script>window.dataLayer = window.dataLayer || []\n    function gtag(){dataLayer.push(arguments)}\n    gtag('js', new Date())\n    gtag('config', 'AW-10807702374')</script><script>if (document.cookie.length > 0) {\n      let cStart = document.cookie.indexOf(`RTSdisclaimer=`)\n      if (cStart !== -1) {\n        cStart = cStart + `RTSdisclaimer=`.length\n        let cEnd = document.cookie.indexOf(';', cStart)\n        if (cEnd === -1) {\n          cEnd = document.cookie.length\n        }\n        const cookieSet = unescape(document.cookie.substring(cStart, cEnd)) === '1'\n        if (cookieSet) {\n          //- <!-- Google Tag Manager -->\n          (function(w,d,s,l,i){\n            w[l]=w[l]||[];\n            w[l].push({\n            'gtm.start': new Date().getTime(),event:'gtm.js'\n            });\n            var f=d.getElementsByTagName(s)[0],\n                j=d.createElement(s),\n                dl=l!='dataLayer'?'&l='+l:'';\n            j.async=true;\n            j.src='https://www.googletagmanager.com/gtm.js?id='+i+dl;\n            f.parentNode.insertBefore(j,f);\n          })(window,document,'script','dataLayer','GTM-KHPF32M');\n          //- <!-- End Google Tag Manager -->\n\n          // if cookie settings are accepted, set ga\n          (function(i, s, o, g, r, a, m) {\n            i['GoogleAnalyticsObject'] = r; i[r] = i[r] || function() {\n              (i[r].q = i[r].q || []).push(arguments)\n            }, i[r].l = 1 * new Date(); a = s.createElement(o),\n              m = s.getElementsByTagName(o)[0]; a.async = 1; a.src = g; m.parentNode.insertBefore(a, m)\n          })(window, document, 'script', 'https://www.google-analytics.com/analytics.js', 'ga')\n          ga('create', 'UA-180471736-1', 'auto')\n        }\n      }\n    } else {\n      var ga = undefined;\n    }</script><script defer=\"defer\" src=\"/runtime.ea9725b4155144eba2b1.js\"></script><script defer=\"defer\" src=\"/366.24b08a211f874f245956.js\"></script><script defer=\"defer\" src=\"/app.e38457d008348265d7b5.js\"></script><link href=\"/366.1f0fbf8fd4a464df9ae7.css\" rel=\"stylesheet\"/><link href=\"/app.d5465480da02f77eda70.css\" rel=\"stylesheet\"/></meta></meta></head><body><noscript><iframe height=\"0\" src=\"https://www.googletagmanager.com/ns.html?id=GTM-KHPF32M\" style=\"display:none;visibility:hidden\" width=\"0\"></iframe></noscript><div id=\"routescanner\"></div><script>var blogPosts = !{blogPosts}</script><script>_linkedin_partner_id = \"dummy-value\"\n    window._linkedin_data_partner_ids = window._linkedin_data_partner_ids || []\n    window._linkedin_data_partner_ids.push(_linkedin_partner_id)</script><script>(() => {\n      var s = document.getElementsByTagName(\"script\")[0]\n      var b = document.createElement(\"script\")\n      b.type = \"text/javascript\"\n      b.async = true\n      b.src = \"https://snap.licdn.com/li.lms-analytics/insight.min.js\"\n      s.parentNode.insertBefore(b, s)\n    })()</script></body></html>"
     },
     "execution_count": 6,
     "metadata": {},
     "output_type": "execute_result"
    }
   ],
   "source": [
    "soup"
   ],
   "metadata": {
    "collapsed": false
   }
  },
  {
   "cell_type": "code",
   "execution_count": 7,
   "outputs": [],
   "source": [
    "dates = soup.find_all(\"div\", {\"class\" : re.compile('voyagesSection*')})"
   ],
   "metadata": {
    "collapsed": false
   }
  },
  {
   "cell_type": "code",
   "execution_count": 8,
   "outputs": [
    {
     "data": {
      "text/plain": "[]"
     },
     "execution_count": 8,
     "metadata": {},
     "output_type": "execute_result"
    }
   ],
   "source": [
    "dates"
   ],
   "metadata": {
    "collapsed": false
   }
  },
  {
   "cell_type": "code",
   "execution_count": 9,
   "outputs": [
    {
     "ename": "AttributeError",
     "evalue": "'NoneType' object has no attribute 'prettify'",
     "output_type": "error",
     "traceback": [
      "\u001B[1;31m---------------------------------------------------------------------------\u001B[0m",
      "\u001B[1;31mAttributeError\u001B[0m                            Traceback (most recent call last)",
      "Cell \u001B[1;32mIn [9], line 2\u001B[0m\n\u001B[0;32m      1\u001B[0m results \u001B[38;5;241m=\u001B[39m soup\u001B[38;5;241m.\u001B[39mfind(\u001B[38;5;28mid\u001B[39m\u001B[38;5;241m=\u001B[39m\u001B[38;5;124m\"\u001B[39m\u001B[38;5;124mvoyagesSection*\u001B[39m\u001B[38;5;124m\"\u001B[39m)\n\u001B[1;32m----> 2\u001B[0m \u001B[38;5;28mprint\u001B[39m(\u001B[43mresults\u001B[49m\u001B[38;5;241;43m.\u001B[39;49m\u001B[43mprettify\u001B[49m())\n",
      "\u001B[1;31mAttributeError\u001B[0m: 'NoneType' object has no attribute 'prettify'"
     ]
    }
   ],
   "source": [
    "results = soup.find(id=\"voyagesSection*\")\n",
    "print(results.prettify())"
   ],
   "metadata": {
    "collapsed": false
   }
  },
  {
   "cell_type": "markdown",
   "source": [
    "### Try some dynamic stuff"
   ],
   "metadata": {
    "collapsed": false
   }
  },
  {
   "cell_type": "code",
   "execution_count": 10,
   "outputs": [],
   "source": [
    "from selenium import webdriver\n",
    "from selenium.webdriver.chrome.options import Options\n",
    "from selenium.webdriver.support.ui import WebDriverWait\n",
    "from selenium.webdriver.support import expected_conditions as EC\n",
    "from selenium.webdriver.common.by import By\n",
    "from selenium.common.exceptions import TimeoutException\n",
    "from bs4 import BeautifulSoup\n",
    "import os\n",
    "import itertools\n",
    "import pandas as pd"
   ],
   "metadata": {
    "collapsed": false
   }
  },
  {
   "cell_type": "markdown",
   "source": [
    "https://scrapingant.com/blog/scrape-dynamic-website-with-python"
   ],
   "metadata": {
    "collapsed": false
   }
  },
  {
   "cell_type": "code",
   "execution_count": 11,
   "outputs": [
    {
     "data": {
      "text/plain": "'C:\\\\Users\\\\Ewout\\\\Documents\\\\GitHub\\\\shipping-data'"
     },
     "execution_count": 11,
     "metadata": {},
     "output_type": "execute_result"
    }
   ],
   "source": [
    "os.getcwd()"
   ],
   "metadata": {
    "collapsed": false
   }
  },
  {
   "cell_type": "code",
   "execution_count": 12,
   "outputs": [
    {
     "name": "stdout",
     "output_type": "stream",
     "text": [
      "[('BR', 'NL'), ('BR', 'BE')]\n"
     ]
    }
   ],
   "source": [
    "# Define origin and destination countries\n",
    "origin = [\"BR\"]\n",
    "destination = [\"NL\", \"BE\"]\n",
    "\n",
    "# Make list with all combinations\n",
    "od_list = list(itertools.product(origin, destination))\n",
    "print(od_list)\n",
    "\n",
    "# Create URL list to scrape\n",
    "urls = [f\"https://www.routescanner.com/services/direct-connections/results?destinationCountries={o}&originCountries={d}&search=advanced\" for o, d in od_list]"
   ],
   "metadata": {
    "collapsed": false
   }
  },
  {
   "cell_type": "code",
   "execution_count": 13,
   "outputs": [
    {
     "name": "stderr",
     "output_type": "stream",
     "text": [
      "C:\\Users\\Ewout\\AppData\\Local\\Temp\\ipykernel_6964\\815965137.py:12: DeprecationWarning: executable_path has been deprecated, please pass in a Service object\n",
      "  driver = webdriver.Chrome(options=opts, executable_path=chrome_driver)\n"
     ]
    },
    {
     "name": "stdout",
     "output_type": "stream",
     "text": [
      "Page is ready!\n"
     ]
    }
   ],
   "source": [
    "url1 = urls[0]\n",
    "\n",
    "# Instantiate options\n",
    "opts = Options()\n",
    "# opts.add_argument(\" — headless\") # Uncomment if the headless version needed\n",
    "opts.binary_location = \"C:\\Program Files\\Google\\Chrome\\Application\\chrome.exe\"\n",
    "\n",
    "# Set the location of the webdriver\n",
    "chrome_driver = os.getcwd() + \"/drivers/chromedriver.exe\"\n",
    "\n",
    "# Instantiate a webdriver\n",
    "driver = webdriver.Chrome(options=opts, executable_path=chrome_driver)\n",
    "\n",
    "# Load the HTML page\n",
    "driver.get(url1)\n",
    "\n",
    "# Accept cookies\n",
    "driver.implicitly_wait(2)\n",
    "driver.find_element(By.CLASS_NAME,\"acceptButton__P2szu\").click()\n",
    "\n",
    "# Wait untill route data is loaded\n",
    "elem = WebDriverWait(driver, 3).until(EC.presence_of_element_located((By.CLASS_NAME, 'card__hoI9D')))\n",
    "print(\"Page is ready!\")\n",
    "\n",
    "# Parse processed webpage with BeautifulSoup\n",
    "soup = BeautifulSoup(driver.page_source)"
   ],
   "metadata": {
    "collapsed": false
   }
  },
  {
   "cell_type": "markdown",
   "source": [
    "#### Extract data from HTML"
   ],
   "metadata": {
    "collapsed": false
   }
  },
  {
   "cell_type": "code",
   "execution_count": 15,
   "outputs": [
    {
     "name": "stdout",
     "output_type": "stream",
     "text": [
      "NWC TO SAEC - STRING I\n"
     ]
    }
   ],
   "source": [
    "# Create a list with all route cards\n",
    "routes = soup.find_all(\"div\", class_=\"card__hoI9D\")\n",
    "route = routes[1]\n",
    "\n",
    "# Find data for single route\n",
    "c = route.find(\"h6\").text\n",
    "o, d = route.find(\"small\", class_=\"locodes__tdIbs\").text.split(' - ')\n",
    "s = route.find(\"p\", class_=\"serviceCode__igooW\").text\n",
    "print(s)"
   ],
   "metadata": {
    "collapsed": false
   }
  },
  {
   "cell_type": "code",
   "execution_count": 16,
   "outputs": [
    {
     "ename": "ValueError",
     "evalue": "Shape of passed values is (5, 1), indices imply (5, 5)",
     "output_type": "error",
     "traceback": [
      "\u001B[1;31m---------------------------------------------------------------------------\u001B[0m",
      "\u001B[1;31mValueError\u001B[0m                                Traceback (most recent call last)",
      "Cell \u001B[1;32mIn [16], line 9\u001B[0m\n\u001B[0;32m      6\u001B[0m     route_dict[\u001B[38;5;124m\"\u001B[39m\u001B[38;5;124mOrigin\u001B[39m\u001B[38;5;124m\"\u001B[39m], route_dict[\u001B[38;5;124m\"\u001B[39m\u001B[38;5;124mDestination\u001B[39m\u001B[38;5;124m\"\u001B[39m] \u001B[38;5;241m=\u001B[39m route\u001B[38;5;241m.\u001B[39mfind(\u001B[38;5;124m\"\u001B[39m\u001B[38;5;124msmall\u001B[39m\u001B[38;5;124m\"\u001B[39m, class_\u001B[38;5;241m=\u001B[39m\u001B[38;5;124m\"\u001B[39m\u001B[38;5;124mlocodes__tdIbs\u001B[39m\u001B[38;5;124m\"\u001B[39m)\u001B[38;5;241m.\u001B[39mtext\u001B[38;5;241m.\u001B[39msplit(\u001B[38;5;124m'\u001B[39m\u001B[38;5;124m - \u001B[39m\u001B[38;5;124m'\u001B[39m)\n\u001B[0;32m      8\u001B[0m \u001B[38;5;66;03m# Create empty DataFrame\u001B[39;00m\n\u001B[1;32m----> 9\u001B[0m route_df \u001B[38;5;241m=\u001B[39m \u001B[43mpd\u001B[49m\u001B[38;5;241;43m.\u001B[39;49m\u001B[43mDataFrame\u001B[49m\u001B[38;5;241;43m.\u001B[39;49m\u001B[43mfrom_dict\u001B[49m\u001B[43m(\u001B[49m\u001B[43mroute_dict\u001B[49m\u001B[43m,\u001B[49m\u001B[43m \u001B[49m\u001B[43morient\u001B[49m\u001B[38;5;241;43m=\u001B[39;49m\u001B[38;5;124;43m\"\u001B[39;49m\u001B[38;5;124;43mindex\u001B[39;49m\u001B[38;5;124;43m\"\u001B[39;49m\u001B[43m,\u001B[49m\u001B[43m \u001B[49m\u001B[43mcolumns\u001B[49m\u001B[38;5;241;43m=\u001B[39;49m\u001B[43mkeys\u001B[49m\u001B[43m)\u001B[49m\n\u001B[0;32m     10\u001B[0m route_df\n",
      "File \u001B[1;32m~\\Documents\\python_venv\\Py310\\lib\\site-packages\\pandas\\core\\frame.py:1763\u001B[0m, in \u001B[0;36mDataFrame.from_dict\u001B[1;34m(cls, data, orient, dtype, columns)\u001B[0m\n\u001B[0;32m   1757\u001B[0m     \u001B[38;5;28;01mraise\u001B[39;00m \u001B[38;5;167;01mValueError\u001B[39;00m(\n\u001B[0;32m   1758\u001B[0m         \u001B[38;5;124mf\u001B[39m\u001B[38;5;124m\"\u001B[39m\u001B[38;5;124mExpected \u001B[39m\u001B[38;5;124m'\u001B[39m\u001B[38;5;124mindex\u001B[39m\u001B[38;5;124m'\u001B[39m\u001B[38;5;124m, \u001B[39m\u001B[38;5;124m'\u001B[39m\u001B[38;5;124mcolumns\u001B[39m\u001B[38;5;124m'\u001B[39m\u001B[38;5;124m or \u001B[39m\u001B[38;5;124m'\u001B[39m\u001B[38;5;124mtight\u001B[39m\u001B[38;5;124m'\u001B[39m\u001B[38;5;124m for orient parameter. \u001B[39m\u001B[38;5;124m\"\u001B[39m\n\u001B[0;32m   1759\u001B[0m         \u001B[38;5;124mf\u001B[39m\u001B[38;5;124m\"\u001B[39m\u001B[38;5;124mGot \u001B[39m\u001B[38;5;124m'\u001B[39m\u001B[38;5;132;01m{\u001B[39;00morient\u001B[38;5;132;01m}\u001B[39;00m\u001B[38;5;124m'\u001B[39m\u001B[38;5;124m instead\u001B[39m\u001B[38;5;124m\"\u001B[39m\n\u001B[0;32m   1760\u001B[0m     )\n\u001B[0;32m   1762\u001B[0m \u001B[38;5;28;01mif\u001B[39;00m orient \u001B[38;5;241m!=\u001B[39m \u001B[38;5;124m\"\u001B[39m\u001B[38;5;124mtight\u001B[39m\u001B[38;5;124m\"\u001B[39m:\n\u001B[1;32m-> 1763\u001B[0m     \u001B[38;5;28;01mreturn\u001B[39;00m \u001B[38;5;28;43mcls\u001B[39;49m\u001B[43m(\u001B[49m\u001B[43mdata\u001B[49m\u001B[43m,\u001B[49m\u001B[43m \u001B[49m\u001B[43mindex\u001B[49m\u001B[38;5;241;43m=\u001B[39;49m\u001B[43mindex\u001B[49m\u001B[43m,\u001B[49m\u001B[43m \u001B[49m\u001B[43mcolumns\u001B[49m\u001B[38;5;241;43m=\u001B[39;49m\u001B[43mcolumns\u001B[49m\u001B[43m,\u001B[49m\u001B[43m \u001B[49m\u001B[43mdtype\u001B[49m\u001B[38;5;241;43m=\u001B[39;49m\u001B[43mdtype\u001B[49m\u001B[43m)\u001B[49m\n\u001B[0;32m   1764\u001B[0m \u001B[38;5;28;01melse\u001B[39;00m:\n\u001B[0;32m   1765\u001B[0m     realdata \u001B[38;5;241m=\u001B[39m data[\u001B[38;5;124m\"\u001B[39m\u001B[38;5;124mdata\u001B[39m\u001B[38;5;124m\"\u001B[39m]\n",
      "File \u001B[1;32m~\\Documents\\python_venv\\Py310\\lib\\site-packages\\pandas\\core\\frame.py:761\u001B[0m, in \u001B[0;36mDataFrame.__init__\u001B[1;34m(self, data, index, columns, dtype, copy)\u001B[0m\n\u001B[0;32m    753\u001B[0m         mgr \u001B[38;5;241m=\u001B[39m arrays_to_mgr(\n\u001B[0;32m    754\u001B[0m             arrays,\n\u001B[0;32m    755\u001B[0m             columns,\n\u001B[1;32m   (...)\u001B[0m\n\u001B[0;32m    758\u001B[0m             typ\u001B[38;5;241m=\u001B[39mmanager,\n\u001B[0;32m    759\u001B[0m         )\n\u001B[0;32m    760\u001B[0m     \u001B[38;5;28;01melse\u001B[39;00m:\n\u001B[1;32m--> 761\u001B[0m         mgr \u001B[38;5;241m=\u001B[39m \u001B[43mndarray_to_mgr\u001B[49m\u001B[43m(\u001B[49m\n\u001B[0;32m    762\u001B[0m \u001B[43m            \u001B[49m\u001B[43mdata\u001B[49m\u001B[43m,\u001B[49m\n\u001B[0;32m    763\u001B[0m \u001B[43m            \u001B[49m\u001B[43mindex\u001B[49m\u001B[43m,\u001B[49m\n\u001B[0;32m    764\u001B[0m \u001B[43m            \u001B[49m\u001B[43mcolumns\u001B[49m\u001B[43m,\u001B[49m\n\u001B[0;32m    765\u001B[0m \u001B[43m            \u001B[49m\u001B[43mdtype\u001B[49m\u001B[38;5;241;43m=\u001B[39;49m\u001B[43mdtype\u001B[49m\u001B[43m,\u001B[49m\n\u001B[0;32m    766\u001B[0m \u001B[43m            \u001B[49m\u001B[43mcopy\u001B[49m\u001B[38;5;241;43m=\u001B[39;49m\u001B[43mcopy\u001B[49m\u001B[43m,\u001B[49m\n\u001B[0;32m    767\u001B[0m \u001B[43m            \u001B[49m\u001B[43mtyp\u001B[49m\u001B[38;5;241;43m=\u001B[39;49m\u001B[43mmanager\u001B[49m\u001B[43m,\u001B[49m\n\u001B[0;32m    768\u001B[0m \u001B[43m        \u001B[49m\u001B[43m)\u001B[49m\n\u001B[0;32m    769\u001B[0m \u001B[38;5;28;01melse\u001B[39;00m:\n\u001B[0;32m    770\u001B[0m     mgr \u001B[38;5;241m=\u001B[39m dict_to_mgr(\n\u001B[0;32m    771\u001B[0m         {},\n\u001B[0;32m    772\u001B[0m         index,\n\u001B[1;32m   (...)\u001B[0m\n\u001B[0;32m    775\u001B[0m         typ\u001B[38;5;241m=\u001B[39mmanager,\n\u001B[0;32m    776\u001B[0m     )\n",
      "File \u001B[1;32m~\\Documents\\python_venv\\Py310\\lib\\site-packages\\pandas\\core\\internals\\construction.py:350\u001B[0m, in \u001B[0;36mndarray_to_mgr\u001B[1;34m(values, index, columns, dtype, copy, typ)\u001B[0m\n\u001B[0;32m    345\u001B[0m \u001B[38;5;66;03m# _prep_ndarraylike ensures that values.ndim == 2 at this point\u001B[39;00m\n\u001B[0;32m    346\u001B[0m index, columns \u001B[38;5;241m=\u001B[39m _get_axes(\n\u001B[0;32m    347\u001B[0m     values\u001B[38;5;241m.\u001B[39mshape[\u001B[38;5;241m0\u001B[39m], values\u001B[38;5;241m.\u001B[39mshape[\u001B[38;5;241m1\u001B[39m], index\u001B[38;5;241m=\u001B[39mindex, columns\u001B[38;5;241m=\u001B[39mcolumns\n\u001B[0;32m    348\u001B[0m )\n\u001B[1;32m--> 350\u001B[0m \u001B[43m_check_values_indices_shape_match\u001B[49m\u001B[43m(\u001B[49m\u001B[43mvalues\u001B[49m\u001B[43m,\u001B[49m\u001B[43m \u001B[49m\u001B[43mindex\u001B[49m\u001B[43m,\u001B[49m\u001B[43m \u001B[49m\u001B[43mcolumns\u001B[49m\u001B[43m)\u001B[49m\n\u001B[0;32m    352\u001B[0m \u001B[38;5;28;01mif\u001B[39;00m typ \u001B[38;5;241m==\u001B[39m \u001B[38;5;124m\"\u001B[39m\u001B[38;5;124marray\u001B[39m\u001B[38;5;124m\"\u001B[39m:\n\u001B[0;32m    354\u001B[0m     \u001B[38;5;28;01mif\u001B[39;00m \u001B[38;5;28missubclass\u001B[39m(values\u001B[38;5;241m.\u001B[39mdtype\u001B[38;5;241m.\u001B[39mtype, \u001B[38;5;28mstr\u001B[39m):\n",
      "File \u001B[1;32m~\\Documents\\python_venv\\Py310\\lib\\site-packages\\pandas\\core\\internals\\construction.py:421\u001B[0m, in \u001B[0;36m_check_values_indices_shape_match\u001B[1;34m(values, index, columns)\u001B[0m\n\u001B[0;32m    419\u001B[0m passed \u001B[38;5;241m=\u001B[39m values\u001B[38;5;241m.\u001B[39mshape\n\u001B[0;32m    420\u001B[0m implied \u001B[38;5;241m=\u001B[39m (\u001B[38;5;28mlen\u001B[39m(index), \u001B[38;5;28mlen\u001B[39m(columns))\n\u001B[1;32m--> 421\u001B[0m \u001B[38;5;28;01mraise\u001B[39;00m \u001B[38;5;167;01mValueError\u001B[39;00m(\u001B[38;5;124mf\u001B[39m\u001B[38;5;124m\"\u001B[39m\u001B[38;5;124mShape of passed values is \u001B[39m\u001B[38;5;132;01m{\u001B[39;00mpassed\u001B[38;5;132;01m}\u001B[39;00m\u001B[38;5;124m, indices imply \u001B[39m\u001B[38;5;132;01m{\u001B[39;00mimplied\u001B[38;5;132;01m}\u001B[39;00m\u001B[38;5;124m\"\u001B[39m)\n",
      "\u001B[1;31mValueError\u001B[0m: Shape of passed values is (5, 1), indices imply (5, 5)"
     ]
    }
   ],
   "source": [
    "# Define dict keys / dataframe columns\n",
    "keys = [\"Origin\", \"Destination\", \"Company\", \"Duration\", \"Frequency\"]\n",
    "route_dict = dict.fromkeys(keys)\n",
    "\n",
    "for route in routes:\n",
    "    route_dict[\"Origin\"], route_dict[\"Destination\"] = route.find(\"small\", class_=\"locodes__tdIbs\").text.split(' - ')\n",
    "\n",
    "# Create empty DataFrame\n",
    "route_df = pd.DataFrame.from_dict(route_dict, orient=\"index\", columns=keys)\n",
    "route_df"
   ],
   "metadata": {
    "collapsed": false
   }
  },
  {
   "cell_type": "code",
   "execution_count": 17,
   "outputs": [
    {
     "data": {
      "text/plain": "{'Origin': 'NLRTM',\n 'Destination': 'BRFOR',\n 'Company': None,\n 'Duration': None,\n 'Frequency': None}"
     },
     "execution_count": 17,
     "metadata": {},
     "output_type": "execute_result"
    }
   ],
   "source": [
    "route_dict"
   ],
   "metadata": {
    "collapsed": false
   }
  }
 ],
 "metadata": {
  "kernelspec": {
   "display_name": "Python 3",
   "language": "python",
   "name": "python3"
  },
  "language_info": {
   "codemirror_mode": {
    "name": "ipython",
    "version": 2
   },
   "file_extension": ".py",
   "mimetype": "text/x-python",
   "name": "python",
   "nbconvert_exporter": "python",
   "pygments_lexer": "ipython2",
   "version": "2.7.6"
  }
 },
 "nbformat": 4,
 "nbformat_minor": 0
}
