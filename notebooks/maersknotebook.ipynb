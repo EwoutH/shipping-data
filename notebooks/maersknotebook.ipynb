{
 "cells": [
  {
   "cell_type": "code",
   "execution_count": 1,
   "outputs": [],
   "source": [
    "from selenium import webdriver\n",
    "from selenium.webdriver.common.by import By\n",
    "from selenium.webdriver.chrome.options import Options\n",
    "from selenium.webdriver.common.action_chains import ActionChains\n",
    "from bs4 import BeautifulSoup\n",
    "from selenium.webdriver.chrome.service import Service\n",
    "from webdriver_manager.chrome import ChromeDriverManager\n",
    "import time\n",
    "import pandas as pd\n",
    "import itertools\n",
    "from datetime import date\n",
    "from datetime import datetime"
   ],
   "metadata": {
    "collapsed": false,
    "pycharm": {
     "name": "#%%\n"
    }
   }
  },
  {
   "cell_type": "code",
   "execution_count": 2,
   "outputs": [],
   "source": [
    "# Some definitions in explanation of the code:\n",
    "# Connection: ALl possibilities from the origin port to the destination port\n",
    "# Route: A specific possibility from origin to destination on a specific departure date\n",
    "# Transfer: Within a route, the container can switch from one vessel to the other and continue journey"
   ],
   "metadata": {
    "collapsed": false,
    "pycharm": {
     "name": "#%%\n"
    }
   }
  },
  {
   "cell_type": "code",
   "execution_count": 3,
   "outputs": [
    {
     "name": "stderr",
     "output_type": "stream",
     "text": [
      "[WDM] - Downloading: 100%|██████████| 6.79M/6.79M [00:00<00:00, 33.4MB/s]\n"
     ]
    }
   ],
   "source": [
    "#sets up the options of the chromedriver\n",
    "opts = Options()\n",
    "opts.add_argument(\"window-size=1280,720\") #locks the window size\n",
    "opts.add_argument(\"user-agent=Chrome/106.0.5249.119\") #Prevents sites from blocking traffic\n",
    "headless = True\n",
    "\n",
    "if headless: #if True, open chrome on the background without window\n",
    "    opts.headless = True\n",
    "\n",
    "driver = webdriver.Chrome(service=Service(ChromeDriverManager().install()), options=opts)"
   ],
   "metadata": {
    "collapsed": false,
    "pycharm": {
     "name": "#%%\n"
    }
   }
  },
  {
   "cell_type": "code",
   "execution_count": 4,
   "outputs": [
    {
     "name": "stdout",
     "output_type": "stream",
     "text": [
      "330 combinations of ports (55 origins * 6 destinations)\n"
     ]
    }
   ],
   "source": [
    "#!!! Instructions on port selection start\n",
    "# The same ports and methods as for scraping_routscanner_v2 were used.\n",
    "#           origin = [\"BR\", \"CO\", \"VE\", \"SR\", \"CW\", \"GY\", \"GF\", \"UY\", \"AR\", \"CL\", \"PE\", \"EC\", \"VN\", \"PY\", \"GY\", \"KH\"]\n",
    "#           destination = [\"NL\", \"BE\"]\n",
    "# The UN-LOCODES were picked from the following CSV: (contains country codes\n",
    "#           country_df = pd.read_csv(\"../utils/country-codes.csv\")\n",
    "# Furthermore the ports in South-America, Vietnam and Benelux were selected\n",
    "#        with open('../pickles/msc_country_port_codes.pickle', 'rb') as handle:\n",
    "#                country_port_codes = pickle.load(handle)\n",
    "\n",
    "# However unlike scraping_routescanner_v2, the site of Maersk doesn't accept port-codes such as NLRTM\n",
    "# Therefore, the correct port names that work in the site of Maersk were selected by hand\n",
    "# Using both the port name according to the list above and the latitude and longitude\n",
    "#!!! Instructions on port selection end\n",
    "\n",
    "o_names = [\"Arica, Chile\",\"Belem (Para), Brazil\",\"Buenaventura (Valle Del Cauca), Colombia\",\"Buenos Aires (Buenos Aires), Argentina\",\"Asuncion, Paraguay\",\"Pilar, Paraguay\",\"Callao, Peru\",\"Campana (Buenos Aires), Argentina\",\"Cartagena (Bolivar), Colombia\",\"Coronel, Chile\",\"Da Nang (Da Nang), Vietnam\",\"Encarnacion, Paraguay\",\"Georgetown, Guyana\",\"Guayaquil, Ecuador\",\"Haiphong (Hai Phong), Vietnam\",\"Ho Chi Minh city - ICD Phuoc Long (Ho Chi Minh), Vietnam\",\"Iquique, Chile\",\"Itajai (Santa Catarina), Brazil\",\"Itapoa (Santa Catarina), Brazil\",\"Sihanoukville, Cambodia\",\"La Guaira, Venezuela\",\"Lirquen, Chile\",\"Manaus (Amazonas), Brazil\",\"Montevideo, Uruguay\",\"Navegantes (Santa Catarina), Brazil\",\"Nueva Palmira, Uruguay\",\"Paita, Peru\",\"Paramaribo, Suriname\",\"Paranagua (Parana), Brazil\",\"Pecem (Ceara), Brazil\",\"Phnom Penh, Cambodia\",\"Porto Velho (Rondonia), Brazil\",\"Posorja - Guayas, Ecuador\",\"Puerto Angamos, Chile\",\"Puerto Bolivar - El Oro, Ecuador\",\"Puerto Cabello, Venezuela\",\"Villeta, Paraguay\",\"Qui Nhon (Binh Dinh), Vietnam\",\"Rio de Janeiro (Rio de Janeiro), Brazil\",\"Rio Grande (Rio Grande do Sul), Brazil\",\"Rosario (Santa Fe), Argentina\",\"Salvador (Bahia), Brazil\",\"San Antonio, Chile\",\"San Vicente, Chile\",\"Santarem (Para), Brazil\",\"Santos (Sao Paulo), Brazil\",\"Suape (Pernambuco), Brazil\",\"Terport, Paraguay\",\"Turbo (Antioquia), Colombia\",\"Ushuaia (Tierra del Fuego), Argentina\",\"Valparaiso, Chile\",\"Vila do Conde (Para), Brazil\",\"Vitoria (Espirito Santo), Brazil\",\"Vung Tau (Ba Ria - Vung Tau), Vietnam\",\"ZARATE (Buenos Aires), Argentina\"]\n",
    "# Puerto seguro flavial has been moved to villeta. This place seemed more logical according to lat and long\n",
    "# Terport villeta paraguay had no latitude or longitude to check,\n",
    "# But luckily there was only one port called Terport in Maersk\n",
    "\n",
    "d_names = [\"Amsterdam (Noord-Holland), Netherlands\",\"Antwerp (Antwerp), Belgium\",\"Moerdijk (Noord-Brabant), Netherlands\",\"Rotterdam (Zuid-Holland), Netherlands\",\"Vlissingen (Zeeland), Netherlands\",\"Zeebrugge (West Flanders), Belgium\"]\n",
    "\n",
    "od_names = list(itertools.product(o_names, d_names))\n",
    "print(f\"{(n_combs := len(od_names))} combinations of ports ({len(o_names)} origins * {len(d_names)} destinations)\")"
   ],
   "metadata": {
    "collapsed": false,
    "pycharm": {
     "name": "#%%\n"
    }
   }
  },
  {
   "cell_type": "code",
   "execution_count": 5,
   "outputs": [],
   "source": [
    "def open_routes():\n",
    "    # All if statements check if a route has been found\n",
    "    # First button can already be clicked because that was already checked before opening this process\n",
    "    driver.find_element(By.XPATH, \"//*[@id='app']/div[2]/div[1]/div[3]/div/div[4]/button/span\").click()\n",
    "    if len(driver.find_elements(By.XPATH, \"//*[@id='app']/div[2]/div[1]/div[4]/div/div[4]/button/span\")) > 0:\n",
    "        driver.find_element(By.XPATH, \"//*[@id='app']/div[2]/div[1]/div[4]/div/div[4]/button/span\").click()\n",
    "        if len(driver.find_elements(By.XPATH, \"//*[@id='app']/div[2]/div[1]/div[5]/div/div[4]/button/span\")) > 0:\n",
    "            driver.find_element(By.XPATH, \"//*[@id='app']/div[2]/div[1]/div[5]/div/div[4]/button/span\").click()\n",
    "\n",
    "            if len(driver.find_elements(By.XPATH, \"//*[@id='app']/div[2]/div[1]/div[6]/div/div[4]/button/span\")) > 0:\n",
    "                driver.find_element(By.XPATH, \"//*[@id='app']/div[2]/div[1]/div[6]/div/div[4]/button/span\").click()\n",
    "\n",
    "                if len(driver.find_elements(By.XPATH,\"//*[@id='app']/div[2]/div[1]/div[7]/div/div[4]/button/span\")) > 0:\n",
    "                    driver.find_element(By.XPATH, \"//*[@id='app']/div[2]/div[1]/div[7]/div/div[4]/button/span\").click()\n",
    "    soup_page() # Soup the page"
   ],
   "metadata": {
    "collapsed": false,
    "pycharm": {
     "name": "#%%\n"
    }
   }
  },
  {
   "cell_type": "code",
   "execution_count": 6,
   "outputs": [],
   "source": [
    "def soup_page():\n",
    "    #Soup the page\n",
    "    page_source = driver.page_source\n",
    "    soup = BeautifulSoup(page_source)\n",
    "    soups.append(soup)"
   ],
   "metadata": {
    "collapsed": false,
    "pycharm": {
     "name": "#%%\n"
    }
   }
  },
  {
   "cell_type": "code",
   "execution_count": 7,
   "outputs": [
    {
     "name": "stdout",
     "output_type": "stream",
     "text": [
      "Starting to scrape 330 harbor combinations.\n",
      "Done with ('Arica, Chile', 'Amsterdam (Noord-Holland), Netherlands')\n",
      "Done with ('Arica, Chile', 'Antwerp (Antwerp), Belgium')\n",
      "Done with ('Arica, Chile', 'Moerdijk (Noord-Brabant), Netherlands')\n",
      "Done with ('Arica, Chile', 'Rotterdam (Zuid-Holland), Netherlands')\n",
      "No route found for: ('Arica, Chile', 'Vlissingen (Zeeland), Netherlands')\n",
      "No route found for: ('Arica, Chile', 'Zeebrugge (West Flanders), Belgium')\n",
      "No route found for: ('Belem (Para), Brazil', 'Amsterdam (Noord-Holland), Netherlands')\n",
      "No route found for: ('Belem (Para), Brazil', 'Antwerp (Antwerp), Belgium')\n",
      "No route found for: ('Belem (Para), Brazil', 'Moerdijk (Noord-Brabant), Netherlands')\n",
      "No route found for: ('Belem (Para), Brazil', 'Rotterdam (Zuid-Holland), Netherlands')\n",
      "No route found for: ('Belem (Para), Brazil', 'Vlissingen (Zeeland), Netherlands')\n",
      "No route found for: ('Belem (Para), Brazil', 'Zeebrugge (West Flanders), Belgium')\n",
      "Done with ('Buenaventura (Valle Del Cauca), Colombia', 'Amsterdam (Noord-Holland), Netherlands')\n"
     ]
    },
    {
     "ename": "KeyboardInterrupt",
     "evalue": "",
     "output_type": "error",
     "traceback": [
      "\u001B[1;31m---------------------------------------------------------------------------\u001B[0m",
      "\u001B[1;31mKeyboardInterrupt\u001B[0m                         Traceback (most recent call last)",
      "Cell \u001B[1;32mIn [7], line 68\u001B[0m\n\u001B[0;32m     65\u001B[0m     driver\u001B[38;5;241m.\u001B[39mstop_client()\n\u001B[0;32m     66\u001B[0m     driver\u001B[38;5;241m.\u001B[39mquit()\n\u001B[1;32m---> 68\u001B[0m \u001B[43mopen_webpages\u001B[49m\u001B[43m(\u001B[49m\u001B[43mod_names\u001B[49m\u001B[43m)\u001B[49m\n",
      "Cell \u001B[1;32mIn [7], line 49\u001B[0m, in \u001B[0;36mopen_webpages\u001B[1;34m(od_names)\u001B[0m\n\u001B[0;32m     41\u001B[0m search_button\u001B[38;5;241m.\u001B[39mclick()\n\u001B[0;32m     43\u001B[0m \u001B[38;5;66;03m# There are 2 known possibilities that result in not finding routes:\u001B[39;00m\n\u001B[0;32m     44\u001B[0m \u001B[38;5;66;03m# 1: There is no route\u001B[39;00m\n\u001B[0;32m     45\u001B[0m \u001B[38;5;66;03m# 2: Sometimes Maersk site gives an error for either origin or destination\u001B[39;00m\n\u001B[0;32m     46\u001B[0m \u001B[38;5;66;03m#    even when the names are correctly filled in. Error seems to appear randomly\u001B[39;00m\n\u001B[0;32m     47\u001B[0m \u001B[38;5;66;03m# Try makes sure the code doesn't fail even if a route is not found\u001B[39;00m\n\u001B[0;32m     48\u001B[0m \u001B[38;5;66;03m# It works by checking if the first button for 'show route details' can be clicked. If not, no route has been found\u001B[39;00m\n\u001B[1;32m---> 49\u001B[0m \u001B[43mtime\u001B[49m\u001B[38;5;241;43m.\u001B[39;49m\u001B[43msleep\u001B[49m\u001B[43m(\u001B[49m\u001B[38;5;241;43m5\u001B[39;49m\u001B[43m)\u001B[49m\n\u001B[0;32m     50\u001B[0m \u001B[38;5;28;01mif\u001B[39;00m \u001B[38;5;28mlen\u001B[39m(driver\u001B[38;5;241m.\u001B[39mfind_elements(By\u001B[38;5;241m.\u001B[39mXPATH,\u001B[38;5;124m\"\u001B[39m\u001B[38;5;124m//*[@id=\u001B[39m\u001B[38;5;124m'\u001B[39m\u001B[38;5;124mapp\u001B[39m\u001B[38;5;124m'\u001B[39m\u001B[38;5;124m]/div[2]/div[1]/div[3]/div/div[4]/button/span\u001B[39m\u001B[38;5;124m\"\u001B[39m)) \u001B[38;5;241m>\u001B[39m \u001B[38;5;241m0\u001B[39m:\n\u001B[0;32m     51\u001B[0m     open_routes() \u001B[38;5;66;03m#Expand all the show route details buttons\u001B[39;00m\n",
      "\u001B[1;31mKeyboardInterrupt\u001B[0m: "
     ]
    }
   ],
   "source": [
    "### This part fills in all the origin destination locations and saves the soup which will be processed later on\n",
    "soups = []\n",
    "\n",
    "def open_webpages(od_names):\n",
    "    print(f\"Starting to scrape {len(od_names)} harbor combinations.\")\n",
    "    #Open Maersk point to point site\n",
    "    driver.get(\"https://www.maersk.com/schedules/pointToPoint\")\n",
    "    time.sleep(3)\n",
    "    #Click to allow cookies\n",
    "    driver.find_element(By.XPATH,\"//*[@id='coiPage-1']/div[2]/button[3]\").click()\n",
    "\n",
    "    for i in od_names:\n",
    "        #Open the site again\n",
    "        driver.get(\"https://www.maersk.com/schedules/pointToPoint\")\n",
    "        time.sleep(3)\n",
    "\n",
    "        #fill in the origin location\n",
    "        originloc = driver.find_element(By.ID,'originLocation')\n",
    "        originloc.send_keys(i[0])\n",
    "\n",
    "        #a dropdown menu has to be clicked in order to confirm the origin location. This clicks the correct port\n",
    "        time.sleep(4) #Makes sure that the element is actually clickable\n",
    "        action = ActionChains(driver)\n",
    "        action.move_to_element_with_offset(originloc, 0, 50)\n",
    "        action.click()\n",
    "        action.perform()\n",
    "\n",
    "        #Fills in the destination location automatically.\n",
    "        destinationloc = driver.find_element(By.ID,'destinationLocation')\n",
    "        destinationloc.send_keys(i[1])\n",
    "\n",
    "        #a dropdown menu has to be clicked in order to confirm the origin location. This clicks the correct port\n",
    "        time.sleep(3)\n",
    "        action = ActionChains(driver)\n",
    "        action.move_to_element_with_offset(destinationloc, 0, 50)\n",
    "        action.click()\n",
    "        action.perform()\n",
    "\n",
    "        #Click the search button\n",
    "        search_button = driver.find_element(By.XPATH,'//*[@id=\"app\"]/div[2]/span/form/div[6]/button')\n",
    "        search_button.click()\n",
    "\n",
    "        # There are 2 known possibilities that result in not finding routes:\n",
    "        # 1: There is no route\n",
    "        # 2: Sometimes Maersk site gives an error for either origin or destination\n",
    "        #    even when the names are correctly filled in. Error seems to appear randomly\n",
    "        # Try makes sure the code doesn't fail even if a route is not found\n",
    "        # It works by checking if the first button for 'show route details' can be clicked. If not, no route has been found\n",
    "        time.sleep(5)\n",
    "        if len(driver.find_elements(By.XPATH,\"//*[@id='app']/div[2]/div[1]/div[3]/div/div[4]/button/span\")) > 0:\n",
    "            open_routes() #Expand all the show route details buttons\n",
    "            time.sleep(5)\n",
    "            if len(driver.find_elements(By.CLASS_NAME,\"load-more__text\")) > 0: #Check if even more routes have been found than just appearing on the first page\n",
    "                driver.find_elements(By.CLASS_NAME,\"load-more__text\")[1].click() #Click to open second page with routes\n",
    "                                                                                 # 'Earlier sailings' and 'Later sailings' have same class. We want to click 'Later sailings'\n",
    "                time.sleep(5) #Make sure that all buttons can open\n",
    "                if len(driver.find_elements(By.XPATH,\"//*[@id='app']/div[2]/div[1]/div[3]/div/div[4]/button/span\")) > 0:\n",
    "                    open_routes() #if statement above is not necessarily needed. It checks again if at least 1 route can be found.\n",
    "                                  # That should be the case because we are on the second page of routes. More of a failsafe.\n",
    "            print(f\"Done with {i}\")\n",
    "        else:\n",
    "            print(\"No route found for:\",i)\n",
    "\n",
    "    #Closes the webdriver after a few seconds\n",
    "    driver.stop_client()\n",
    "    driver.quit()\n",
    "\n",
    "open_webpages(od_names)"
   ],
   "metadata": {
    "collapsed": false,
    "pycharm": {
     "name": "#%%\n"
    }
   }
  },
  {
   "cell_type": "code",
   "execution_count": null,
   "outputs": [],
   "source": [
    "def process_data_route(route,list_ports,route_data):\n",
    "    #The origin port is the first port in the list, destination the last\n",
    "    origin = list_ports[0]\n",
    "    destination = list_ports[-1]\n",
    "\n",
    "    # The information about the destination and therefore arrival date can be found in the last box\n",
    "    info_destination = route.find(class_=\"ptp-results__transport-plan--item-final\")\n",
    "    arrival_date = info_destination.find(class_=\"transport-label font--small\")\n",
    "    arrival_date = arrival_date.find_all(class_=\"font--small\")\n",
    "    arrival_date = arrival_date[1].text\n",
    "\n",
    "    arrival_date = datetime.strptime(arrival_date,\"%d %b %Y %H:%M\") #converts date from format \"04 March 2023 10:00\" to \"2023-03-04 10:00\"\n",
    "\n",
    "    # Tip: find_all searches for all the elements\n",
    "    # find only searches for one element. It will stop searching when it finds an element\n",
    "    # This means that the line below will find only the departure from the origin, not from other transfer departures\n",
    "    # as it is the first departure that can be found\n",
    "    info_departure = route.find(class_=\"transport-label font--small\")\n",
    "\n",
    "    departure_date = info_departure.find(class_=\"font--small\").text\n",
    "\n",
    "    departure_date = datetime.strptime(departure_date,\"%d %b %Y %H:%M\") #converts date from format \"04 March 2023 10:00\" to \"2023-03-04 10:00\"\n",
    "\n",
    "    transittime = arrival_date - departure_date\n",
    "\n",
    "    # Make an empty list for all used vessels. If only 1 vessel is used only 1 item will be in this list\n",
    "    vessels = []\n",
    "\n",
    "    # The following code only works for the first vessel that is being stored\n",
    "    # Either 2 things can occur: ' Departing on [shipname]' or ' Transport via barge '\n",
    "    # If a ship is used, the shipname will be stored\n",
    "    # If barge is used, 'barge' will be stored (literally)\n",
    "    vessel_name = info_departure.find(class_=\"rich-text\").text\n",
    "    if vessel_name[:13] != ' Departing on': #If false: ' Transport via barge'\n",
    "        vessel_name = vessel_name.removeprefix(' Transport via ')\n",
    "        vessel_name = vessel_name.removesuffix(' ')\n",
    "    else: # If a ship is used\n",
    "        # The vessel name is intially given as ie. \"Departing on CAP SAN LORENZO / 249S\"\n",
    "        # This makes sure that only the Cap San Lorenzo part is stored\n",
    "        vessel_name = vessel_name.removeprefix(' Departing on ')\n",
    "        vessel_name = vessel_name.split()\n",
    "        if len(vessel_name) >= 2 and \"/\" in vessel_name:\n",
    "            vessel_name.remove(\"/\")\n",
    "            vessel_name.pop(-1)\n",
    "            vessel_name = ' '.join(vessel_name)\n",
    "\n",
    "    vessel_info = route.find(class_=\"vessel\")\n",
    "    if vessel_info is not None:\n",
    "        imo = vessel_info.find(class_=\"imo\").text\n",
    "        imo = imo.removeprefix('IMO Number')\n",
    "\n",
    "        service = vessel_info.find(class_=\"service\").text\n",
    "        service = service.removeprefix('Service')\n",
    "\n",
    "        flag = vessel_info.find(class_=\"flag\").text\n",
    "        flag = flag.removeprefix('Flag')\n",
    "\n",
    "        callsign = vessel_info.find(class_=\"callsign\").text\n",
    "        callsign = callsign.removeprefix('Call Sign')\n",
    "\n",
    "        built_year_ship = vessel_info.find(class_=\"built\").text\n",
    "        built_year_ship = built_year_ship.removeprefix('Built')\n",
    "\n",
    "        # Store the information about the first used vessel as a list\n",
    "        # If other vessels are also used, these will be also be stored as a list\n",
    "        vessels.append([vessel_name,imo,service,flag,callsign,built_year_ship])\n",
    "    else:\n",
    "        vessels.append([vessel_name])\n",
    "        print(\"vessel_info is None\")\n",
    "\n",
    "    if len(list_ports)>2: # If there is a transfer, store data and also run process_data_transfer\n",
    "        route_data.append([origin,destination,departure_date,arrival_date,transittime])\n",
    "        process_data_transfer(route,list_ports,route_data,vessels)\n",
    "    else:\n",
    "        # Just store the route_data\n",
    "        route_data.append([origin,destination,departure_date,arrival_date,transittime,[origin,destination],vessels,[departure_date,arrival_date]])\n",
    "        return route_data"
   ],
   "metadata": {
    "collapsed": false,
    "pycharm": {
     "name": "#%%\n"
    }
   }
  },
  {
   "cell_type": "code",
   "execution_count": null,
   "outputs": [],
   "source": [
    "def process_data_transfer(route,list_ports,route_data,vessels):\n",
    "    transfer_arrival_departure =[]\n",
    "\n",
    "    list_transfer_ports_and_ships = route.find_all(class_=\"ptp-results__transport-plan--item\")\n",
    "    for i in range(1,len(list_transfer_ports_and_ships)):\n",
    "        #item 1 is a port, 2 a ship, 3 a port and so on\n",
    "        #The following if statement makes sure that data of a port\n",
    "        #is actually read as a port\n",
    "        #Important note: The origin itself and and vessel are not read. They are both in the same ptp-results__transport-plan--item\n",
    "        #The rest of the vessels and ports are in separate ptp-results__transport-plan--item\n",
    "        #The destination is also not read because it is in ptp-results__transport-plan--item-final instead of ptp-results__transport-plan--item\n",
    "        if (i % 2) == 1:\n",
    "            transfer_port = list_transfer_ports_and_ships[i]\n",
    "\n",
    "            info_arrival = transfer_port.find(class_=\"transport-label font--small\")\n",
    "\n",
    "            arrival_date = info_arrival.find_all(class_=\"font--small\")[1].text\n",
    "\n",
    "            arrival_date = datetime.strptime(arrival_date,\"%d %b %Y %H:%M\") #converts date from format \"04 March 2023 10:00\" to \"2023-03-04 10:00\"\n",
    "\n",
    "            transfer_arrival_departure.append(arrival_date)\n",
    "\n",
    "            transfer_ship = list_transfer_ports_and_ships[i+1]\n",
    "\n",
    "            info_departure = transfer_ship.find(class_=\"transport-label font--small\")\n",
    "            departure_date = info_departure.find(class_=\"font--small\").text\n",
    "\n",
    "            departure_date = datetime.strptime(departure_date,\"%d %b %Y %H:%M\") #converts date from format \"04 March 2023 10:00\" to \"2023-03-04 10:00\"\n",
    "\n",
    "            transfer_arrival_departure.append(departure_date)\n",
    "\n",
    "            #Similar as for 1 ship, read description in process_data_route if unclear\n",
    "            vessel_name = info_departure.find(class_=\"rich-text\").text\n",
    "            if vessel_name[:13] != ' Departing on':\n",
    "                vessel_name = vessel_name.removeprefix(' Transport via ')\n",
    "                vessel_name = vessel_name.removesuffix(' ')\n",
    "            else:\n",
    "                vessel_name = vessel_name.removeprefix(' Departing on ')\n",
    "                vessel_name = vessel_name.split()\n",
    "                if len(vessel_name) >= 2 and \"/\" in vessel_name:\n",
    "                    vessel_name.remove(\"/\")\n",
    "                    vessel_name.pop(-1)\n",
    "                    vessel_name = ' '.join(vessel_name)\n",
    "\n",
    "            vessel_info = transfer_ship.find(class_=\"vessel\")\n",
    "\n",
    "            if vessel_info is not None:\n",
    "                imo = vessel_info.find(class_=\"imo\").text\n",
    "                imo = imo.removeprefix('IMO Number')\n",
    "\n",
    "                service = vessel_info.find(class_=\"service\").text\n",
    "                service = service.removeprefix('Service')\n",
    "\n",
    "                flag = vessel_info.find(class_=\"flag\").text\n",
    "                flag = flag.removeprefix('Flag')\n",
    "\n",
    "                callsign = vessel_info.find(class_=\"callsign\").text\n",
    "                callsign = callsign.removeprefix('Call Sign')\n",
    "\n",
    "                built_year_ship = vessel_info.find(class_=\"built\").text\n",
    "                built_year_ship = built_year_ship.removeprefix('Built')\n",
    "\n",
    "                vessels.append([vessel_name,imo,service,flag,callsign,built_year_ship])\n",
    "            else:\n",
    "                vessels.append([vessel_name])\n",
    "                print(\"vessel_info is None\")\n",
    "\n",
    "    # This part is quite complicated\n",
    "    # The data on the origin, destination and first vessel were already stored in route_data in process_data_route\n",
    "    # We will alter this data by adding the information about the transfer ports and vessels\n",
    "\n",
    "    # We first store the data on departure date that was already stored in process_data_route somewhere else\n",
    "    arrival_departure = []\n",
    "    arrival_departure.append(route_data[-1][2])\n",
    "\n",
    "    # Then store all the transfer arrival and departure date\n",
    "    for i in transfer_arrival_departure:\n",
    "        arrival_departure.append(i)\n",
    "\n",
    "    # Last store the arrival date for the whole route\n",
    "    arrival_departure.append(route_data[-1][3])\n",
    "\n",
    "    # Store the other transfer data in route_data\n",
    "    route_data[-1].append(list_ports)\n",
    "    route_data[-1].append(vessels)\n",
    "    # Store the data on all departure and arrival dates (including transfer) in the route_data\n",
    "    route_data[-1].append(arrival_departure)\n",
    "    return route_data"
   ],
   "metadata": {
    "collapsed": false,
    "pycharm": {
     "name": "#%%\n"
    }
   }
  },
  {
   "cell_type": "code",
   "execution_count": null,
   "outputs": [],
   "source": [
    "### Process_data_route, process_data_transfer and initialize_processing\n",
    "### all process the soups into usable data\n",
    "### First initialize_processing selects a soup and prepares it for processing\n",
    "### Then process_data_route will process the information about the origin, destination, arrival data en departure date and the first vessel\n",
    "### Last process_data_transfer will be used if a transfer takes place.\n",
    "### A transfer means that the container is moved from one vessel to the another and continues the journey\n",
    "\n",
    "# Make a list in which all the data of all routes can be stored\n",
    "route_data = []\n",
    "\n",
    "def initialize_processing(soups):\n",
    "    for i in range(len(soups)):\n",
    "        #Lists all the data on routes. The data on routes is already grouped.\n",
    "        routes = soups[i].find_all(\"div\", class_=\"ptp-results__transport-plan\")\n",
    "\n",
    "        #The Maersk site does not show all ports that are on the route\n",
    "        #It only provides information on ports which are either origin, destination or transfer ports\n",
    "        #Transfer in this context means a port where the container is moved to a different ship.\n",
    "        #The following few lines detects all ports in a route\n",
    "\n",
    "        for route in routes:\n",
    "            ports = route.find_all(\"div\", class_=\"location\")\n",
    "            list_ports =[]\n",
    "            for p in ports:\n",
    "                city = p.find(\"div\", class_=\"font--default--bold\").text\n",
    "                terminal = p.find(\"div\", class_=\"font--small\").text\n",
    "                port = city + ' ' + terminal\n",
    "                list_ports.append(port)\n",
    "\n",
    "            process_data_route(route,list_ports,route_data)"
   ],
   "metadata": {
    "collapsed": false,
    "pycharm": {
     "name": "#%%\n"
    }
   }
  },
  {
   "cell_type": "code",
   "execution_count": null,
   "outputs": [],
   "source": [
    "initialize_processing(soups)"
   ],
   "metadata": {
    "collapsed": false,
    "pycharm": {
     "name": "#%%\n"
    }
   }
  },
  {
   "cell_type": "code",
   "execution_count": null,
   "outputs": [],
   "source": [
    "# This turns the processed data into a Pandas dataframe\n",
    "columns = [\"Origin\",\"Destination\",\"LocalEstimatedDepartureTime\",\"LocalEstimatedArrivalTime\",\"EstimatedTotalTransitTimeDays\",\"Ports\",\"Vessels\",\"Dates\"]\n",
    "\n",
    "connection_df = pd.DataFrame(route_data, columns=columns)\n",
    "connection_df[\"ScrapingDate\"] = date.today()\n",
    "connection_df[\"ScrapingSite\"] = \"Maersk\"\n",
    "connection_df[\"EstimatedTotalTransitTimeDays\"] = connection_df.EstimatedTotalTransitTimeDays.round('d')\n",
    "\n",
    "display(connection_df)"
   ],
   "metadata": {
    "collapsed": false,
    "pycharm": {
     "name": "#%%\n"
    }
   }
  },
  {
   "cell_type": "code",
   "execution_count": null,
   "outputs": [],
   "source": [
    "# Store as both pickle and CSV\n",
    "today = date.today()\n",
    "connection_df.to_pickle(f\"../pickles/maersk_daily/pickles_before_merge/connections_{today}.pickle\")\n",
    "connection_df.to_csv(f\"../data/maersk_daily/csv_runs/connections_{today}.csv\")"
   ],
   "metadata": {
    "collapsed": false,
    "pycharm": {
     "name": "#%%\n"
    }
   }
  }
 ],
 "metadata": {
  "kernelspec": {
   "display_name": "Python 3",
   "language": "python",
   "name": "python3"
  },
  "language_info": {
   "codemirror_mode": {
    "name": "ipython",
    "version": 2
   },
   "file_extension": ".py",
   "mimetype": "text/x-python",
   "name": "python",
   "nbconvert_exporter": "python",
   "pygments_lexer": "ipython2",
   "version": "2.7.6"
  }
 },
 "nbformat": 4,
 "nbformat_minor": 0
}