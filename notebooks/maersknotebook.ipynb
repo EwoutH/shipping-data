{
 "cells": [
  {
   "cell_type": "code",
   "execution_count": 1,
   "metadata": {
    "collapsed": true,
    "pycharm": {
     "name": "#%%\n"
    }
   },
   "outputs": [],
   "source": [
    "from selenium import webdriver\n",
    "from selenium.webdriver.common.by import By\n",
    "from selenium.webdriver.chrome.options import Options\n",
    "from selenium.webdriver.common.action_chains import ActionChains\n",
    "from bs4 import BeautifulSoup\n",
    "from selenium.webdriver.chrome.service import Service\n",
    "from webdriver_manager.chrome import ChromeDriverManager\n",
    "import time\n",
    "import pandas as pd\n",
    "import itertools\n",
    "from datetime import date"
   ]
  },
  {
   "cell_type": "code",
   "execution_count": 2,
   "outputs": [],
   "source": [
    "# Some definitions in explanation of the code:\n",
    "# Connection: ALl possibilities from the origin port to the destination port\n",
    "# Route: A specific possibility from origin to destination on a specific departure date\n",
    "# Transfer: Within a route, the container can switch from one vessel to the other and continue journey"
   ],
   "metadata": {
    "collapsed": false,
    "pycharm": {
     "name": "#%%\n"
    }
   }
  },
  {
   "cell_type": "code",
   "execution_count": 3,
   "outputs": [],
   "source": [
    "#sets up the options of the chromedriver\n",
    "opts = Options()\n",
    "opts.add_argument(\"window-size=1280,720\") #locks the window size\n",
    "opts.add_argument(\"user-agent=Chrome/106.0.5249.119\") #Prevents sites from blocking traffic\n",
    "headless = False\n",
    "\n",
    "if headless: #if True, open chrome on the background without window\n",
    "    opts.headless = True\n",
    "\n",
    "driver = webdriver.Chrome(service=Service(ChromeDriverManager().install()), options=opts)"
   ],
   "metadata": {
    "collapsed": false,
    "pycharm": {
     "name": "#%%\n"
    }
   }
  },
  {
   "cell_type": "code",
   "execution_count": 4,
   "outputs": [
    {
     "name": "stdout",
     "output_type": "stream",
     "text": [
      "330 combinations of ports (55 origins * 6 destinations)\n"
     ]
    }
   ],
   "source": [
    "#!!! Instructions on port selection start\n",
    "# The same ports and methods as for scraping_routscanner_v2 were used.\n",
    "#           origin = [\"BR\", \"CO\", \"VE\", \"SR\", \"CW\", \"GY\", \"GF\", \"UY\", \"AR\", \"CL\", \"PE\", \"EC\", \"VN\", \"PY\", \"GY\", \"KH\"]\n",
    "#           destination = [\"NL\", \"BE\"]\n",
    "# The UN-LOCODES were picked from the following CSV: (contains country codes\n",
    "#           country_df = pd.read_csv(\"../utils/country-codes.csv\")\n",
    "# Furthermore the ports in South-America, Vietnam and Benelux were selected\n",
    "#        with open('../pickles/msc_country_port_codes.pickle', 'rb') as handle:\n",
    "#                country_port_codes = pickle.load(handle)\n",
    "\n",
    "# However unlike scraping_routescanner_v2, the site of Maersk doesn't accept port-codes such as NLRTM\n",
    "# Therefore, the correct port names that work in the site of Maersk were selected by hand\n",
    "# Using both the port name according to the list above and the latitude and longitude\n",
    "#!!! Instructions on port selection end\n",
    "\n",
    "o_names = [\"Arica, Chile\",\"Belem (Para), Brazil\",\"Buenaventura (Valle Del Cauca), Colombia\",\"Buenos Aires (Buenos Aires), Argentina\",\"Asuncion, Paraguay\",\"Pilar, Paraguay\",\"Callao, Peru\",\"Campana (Buenos Aires), Argentina\",\"Cartagena (Bolivar), Colombia\",\"Coronel, Chile\",\"Da Nang (Da Nang), Vietnam\",\"Encarnacion, Paraguay\",\"Georgetown, Guyana\",\"Guayaquil, Ecuador\",\"Haiphong (Hai Phong), Vietnam\",\"Ho Chi Minh city - ICD Phuoc Long (Ho Chi Minh), Vietnam\",\"Iquique, Chile\",\"Itajai (Santa Catarina), Brazil\",\"Itapoa (Santa Catarina), Brazil\",\"Sihanoukville, Cambodia\",\"La Guaira, Venezuela\",\"Lirquen, Chile\",\"Manaus (Amazonas), Brazil\",\"Montevideo, Uruguay\",\"Navegantes (Santa Catarina), Brazil\",\"Nueva Palmira, Uruguay\",\"Paita, Peru\",\"Paramaribo, Suriname\",\"Paranagua (Parana), Brazil\",\"Pecem (Ceara), Brazil\",\"Phnom Penh, Cambodia\",\"Porto Velho (Rondonia), Brazil\",\"Posorja - Guayas, Ecuador\",\"Puerto Angamos, Chile\",\"Puerto Bolivar - El Oro, Ecuador\",\"Puerto Cabello, Venezuela\",\"Villeta, Paraguay\",\"Qui Nhon (Binh Dinh), Vietnam\",\"Rio de Janeiro (Rio de Janeiro), Brazil\",\"Rio Grande (Rio Grande do Sul), Brazil\",\"Rosario (Santa Fe), Argentina\",\"Salvador (Bahia), Brazil\",\"San Antonio, Chile\",\"San Vicente, Chile\",\"Santarem (Para), Brazil\",\"Santos (Sao Paulo), Brazil\",\"Suape (Pernambuco), Brazil\",\"Terport, Paraguay\",\"Turbo (Antioquia), Colombia\",\"Ushuaia (Tierra del Fuego), Argentina\",\"Valparaiso, Chile\",\"Vila do Conde (Para), Brazil\",\"Vitoria (Espirito Santo), Brazil\",\"Vung Tau (Ba Ria - Vung Tau), Vietnam\",\"ZARATE (Buenos Aires), Argentina\"]\n",
    "\n",
    "# Puerto seguro flavial has been moved to villeta. This place seemed more logical according to lat and long\n",
    "# Terport villeta paraguay had no latitude or longitude to check,\n",
    "# But luckily there was only one port called Terport in Maersk\n",
    "\n",
    "d_names = [\"Amsterdam (Noord-Holland), Netherlands\",\"Antwerp (Antwerp), Belgium\",\"Moerdijk (Noord-Brabant), Netherlands\",\"Rotterdam (Zuid-Holland), Netherlands\",\"Vlissingen (Zeeland), Netherlands\",\"Zeebrugge (West Flanders), Belgium\"]\n",
    "\n",
    "od_names = list(itertools.product(o_names, d_names))\n",
    "print(f\"{(n_combs := len(od_names))} combinations of ports ({len(o_names)} origins * {len(d_names)} destinations)\")"
   ],
   "metadata": {
    "collapsed": false,
    "pycharm": {
     "name": "#%%\n"
    }
   }
  },
  {
   "cell_type": "code",
   "execution_count": 5,
   "outputs": [
    {
     "name": "stdout",
     "output_type": "stream",
     "text": [
      "No route found for: ('Arica, Chile', 'Zeebrugge (West Flanders), Belgium')\n",
      "No route found for: ('Belem (Para), Brazil', 'Amsterdam (Noord-Holland), Netherlands')\n",
      "No route found for: ('Belem (Para), Brazil', 'Antwerp (Antwerp), Belgium')\n",
      "No route found for: ('Belem (Para), Brazil', 'Moerdijk (Noord-Brabant), Netherlands')\n",
      "No route found for: ('Belem (Para), Brazil', 'Rotterdam (Zuid-Holland), Netherlands')\n",
      "No route found for: ('Belem (Para), Brazil', 'Vlissingen (Zeeland), Netherlands')\n"
     ]
    },
    {
     "ename": "NoSuchWindowException",
     "evalue": "Message: no such window: target window already closed\nfrom unknown error: web view not found\n  (Session info: chrome=107.0.5304.107)\nStacktrace:\nBacktrace:\n\tOrdinal0 [0x00D8ACD3+2075859]\n\tOrdinal0 [0x00D1EE61+1633889]\n\tOrdinal0 [0x00C1B7BD+571325]\n\tOrdinal0 [0x00C02E1A+470554]\n\tOrdinal0 [0x00C6AA0B+895499]\n\tOrdinal0 [0x00C7AC96+961686]\n\tOrdinal0 [0x00C67136+880950]\n\tOrdinal0 [0x00C3FEFD+720637]\n\tOrdinal0 [0x00C40F3F+724799]\n\tGetHandleVerifier [0x0103EED2+2769538]\n\tGetHandleVerifier [0x01030D95+2711877]\n\tGetHandleVerifier [0x00E1A03A+521194]\n\tGetHandleVerifier [0x00E18DA0+516432]\n\tOrdinal0 [0x00D2682C+1665068]\n\tOrdinal0 [0x00D2B128+1683752]\n\tOrdinal0 [0x00D2B215+1683989]\n\tOrdinal0 [0x00D36484+1729668]\n\tBaseThreadInitThunk [0x757AFEF9+25]\n\tRtlGetAppContainerNamedObjectPath [0x77507BBE+286]\n\tRtlGetAppContainerNamedObjectPath [0x77507B8E+238]\n",
     "output_type": "error",
     "traceback": [
      "\u001B[1;31m---------------------------------------------------------------------------\u001B[0m",
      "\u001B[1;31mNoSuchWindowException\u001B[0m                     Traceback (most recent call last)",
      "Cell \u001B[1;32mIn [5], line 76\u001B[0m\n\u001B[0;32m     73\u001B[0m     driver\u001B[38;5;241m.\u001B[39mstop_client()\n\u001B[0;32m     74\u001B[0m     driver\u001B[38;5;241m.\u001B[39mquit()\n\u001B[1;32m---> 76\u001B[0m \u001B[43mget_webpages\u001B[49m\u001B[43m(\u001B[49m\u001B[43mod_names\u001B[49m\u001B[43m)\u001B[49m\n",
      "Cell \u001B[1;32mIn [5], line 17\u001B[0m, in \u001B[0;36mget_webpages\u001B[1;34m(od_names)\u001B[0m\n\u001B[0;32m     14\u001B[0m time\u001B[38;5;241m.\u001B[39msleep(\u001B[38;5;241m3\u001B[39m)\n\u001B[0;32m     16\u001B[0m \u001B[38;5;66;03m#fill in the origin location\u001B[39;00m\n\u001B[1;32m---> 17\u001B[0m originloc \u001B[38;5;241m=\u001B[39m \u001B[43mdriver\u001B[49m\u001B[38;5;241;43m.\u001B[39;49m\u001B[43mfind_element\u001B[49m\u001B[43m(\u001B[49m\u001B[43mBy\u001B[49m\u001B[38;5;241;43m.\u001B[39;49m\u001B[43mID\u001B[49m\u001B[43m,\u001B[49m\u001B[38;5;124;43m'\u001B[39;49m\u001B[38;5;124;43moriginLocation\u001B[39;49m\u001B[38;5;124;43m'\u001B[39;49m\u001B[43m)\u001B[49m\n\u001B[0;32m     18\u001B[0m originloc\u001B[38;5;241m.\u001B[39msend_keys(i[\u001B[38;5;241m0\u001B[39m])\n\u001B[0;32m     20\u001B[0m \u001B[38;5;66;03m#a dropdown menu has to be clicked in order to confirm the origin location. This clicks the correct port\u001B[39;00m\n",
      "File \u001B[1;32m~\\Documents\\Github\\shipping-data\\venv\\lib\\site-packages\\selenium\\webdriver\\remote\\webdriver.py:856\u001B[0m, in \u001B[0;36mWebDriver.find_element\u001B[1;34m(self, by, value)\u001B[0m\n\u001B[0;32m    853\u001B[0m     by \u001B[38;5;241m=\u001B[39m By\u001B[38;5;241m.\u001B[39mCSS_SELECTOR\n\u001B[0;32m    854\u001B[0m     value \u001B[38;5;241m=\u001B[39m \u001B[38;5;124m'\u001B[39m\u001B[38;5;124m[name=\u001B[39m\u001B[38;5;124m\"\u001B[39m\u001B[38;5;132;01m%s\u001B[39;00m\u001B[38;5;124m\"\u001B[39m\u001B[38;5;124m]\u001B[39m\u001B[38;5;124m'\u001B[39m \u001B[38;5;241m%\u001B[39m value\n\u001B[1;32m--> 856\u001B[0m \u001B[38;5;28;01mreturn\u001B[39;00m \u001B[38;5;28;43mself\u001B[39;49m\u001B[38;5;241;43m.\u001B[39;49m\u001B[43mexecute\u001B[49m\u001B[43m(\u001B[49m\u001B[43mCommand\u001B[49m\u001B[38;5;241;43m.\u001B[39;49m\u001B[43mFIND_ELEMENT\u001B[49m\u001B[43m,\u001B[49m\u001B[43m \u001B[49m\u001B[43m{\u001B[49m\n\u001B[0;32m    857\u001B[0m \u001B[43m    \u001B[49m\u001B[38;5;124;43m'\u001B[39;49m\u001B[38;5;124;43musing\u001B[39;49m\u001B[38;5;124;43m'\u001B[39;49m\u001B[43m:\u001B[49m\u001B[43m \u001B[49m\u001B[43mby\u001B[49m\u001B[43m,\u001B[49m\n\u001B[0;32m    858\u001B[0m \u001B[43m    \u001B[49m\u001B[38;5;124;43m'\u001B[39;49m\u001B[38;5;124;43mvalue\u001B[39;49m\u001B[38;5;124;43m'\u001B[39;49m\u001B[43m:\u001B[49m\u001B[43m \u001B[49m\u001B[43mvalue\u001B[49m\u001B[43m}\u001B[49m\u001B[43m)\u001B[49m[\u001B[38;5;124m'\u001B[39m\u001B[38;5;124mvalue\u001B[39m\u001B[38;5;124m'\u001B[39m]\n",
      "File \u001B[1;32m~\\Documents\\Github\\shipping-data\\venv\\lib\\site-packages\\selenium\\webdriver\\remote\\webdriver.py:429\u001B[0m, in \u001B[0;36mWebDriver.execute\u001B[1;34m(self, driver_command, params)\u001B[0m\n\u001B[0;32m    427\u001B[0m response \u001B[38;5;241m=\u001B[39m \u001B[38;5;28mself\u001B[39m\u001B[38;5;241m.\u001B[39mcommand_executor\u001B[38;5;241m.\u001B[39mexecute(driver_command, params)\n\u001B[0;32m    428\u001B[0m \u001B[38;5;28;01mif\u001B[39;00m response:\n\u001B[1;32m--> 429\u001B[0m     \u001B[38;5;28;43mself\u001B[39;49m\u001B[38;5;241;43m.\u001B[39;49m\u001B[43merror_handler\u001B[49m\u001B[38;5;241;43m.\u001B[39;49m\u001B[43mcheck_response\u001B[49m\u001B[43m(\u001B[49m\u001B[43mresponse\u001B[49m\u001B[43m)\u001B[49m\n\u001B[0;32m    430\u001B[0m     response[\u001B[38;5;124m'\u001B[39m\u001B[38;5;124mvalue\u001B[39m\u001B[38;5;124m'\u001B[39m] \u001B[38;5;241m=\u001B[39m \u001B[38;5;28mself\u001B[39m\u001B[38;5;241m.\u001B[39m_unwrap_value(\n\u001B[0;32m    431\u001B[0m         response\u001B[38;5;241m.\u001B[39mget(\u001B[38;5;124m'\u001B[39m\u001B[38;5;124mvalue\u001B[39m\u001B[38;5;124m'\u001B[39m, \u001B[38;5;28;01mNone\u001B[39;00m))\n\u001B[0;32m    432\u001B[0m     \u001B[38;5;28;01mreturn\u001B[39;00m response\n",
      "File \u001B[1;32m~\\Documents\\Github\\shipping-data\\venv\\lib\\site-packages\\selenium\\webdriver\\remote\\errorhandler.py:243\u001B[0m, in \u001B[0;36mErrorHandler.check_response\u001B[1;34m(self, response)\u001B[0m\n\u001B[0;32m    241\u001B[0m         alert_text \u001B[38;5;241m=\u001B[39m value[\u001B[38;5;124m'\u001B[39m\u001B[38;5;124malert\u001B[39m\u001B[38;5;124m'\u001B[39m]\u001B[38;5;241m.\u001B[39mget(\u001B[38;5;124m'\u001B[39m\u001B[38;5;124mtext\u001B[39m\u001B[38;5;124m'\u001B[39m)\n\u001B[0;32m    242\u001B[0m     \u001B[38;5;28;01mraise\u001B[39;00m exception_class(message, screen, stacktrace, alert_text)  \u001B[38;5;66;03m# type: ignore[call-arg]  # mypy is not smart enough here\u001B[39;00m\n\u001B[1;32m--> 243\u001B[0m \u001B[38;5;28;01mraise\u001B[39;00m exception_class(message, screen, stacktrace)\n",
      "\u001B[1;31mNoSuchWindowException\u001B[0m: Message: no such window: target window already closed\nfrom unknown error: web view not found\n  (Session info: chrome=107.0.5304.107)\nStacktrace:\nBacktrace:\n\tOrdinal0 [0x00D8ACD3+2075859]\n\tOrdinal0 [0x00D1EE61+1633889]\n\tOrdinal0 [0x00C1B7BD+571325]\n\tOrdinal0 [0x00C02E1A+470554]\n\tOrdinal0 [0x00C6AA0B+895499]\n\tOrdinal0 [0x00C7AC96+961686]\n\tOrdinal0 [0x00C67136+880950]\n\tOrdinal0 [0x00C3FEFD+720637]\n\tOrdinal0 [0x00C40F3F+724799]\n\tGetHandleVerifier [0x0103EED2+2769538]\n\tGetHandleVerifier [0x01030D95+2711877]\n\tGetHandleVerifier [0x00E1A03A+521194]\n\tGetHandleVerifier [0x00E18DA0+516432]\n\tOrdinal0 [0x00D2682C+1665068]\n\tOrdinal0 [0x00D2B128+1683752]\n\tOrdinal0 [0x00D2B215+1683989]\n\tOrdinal0 [0x00D36484+1729668]\n\tBaseThreadInitThunk [0x757AFEF9+25]\n\tRtlGetAppContainerNamedObjectPath [0x77507BBE+286]\n\tRtlGetAppContainerNamedObjectPath [0x77507B8E+238]\n"
     ]
    }
   ],
   "source": [
    "### This part fills in all the origin destination locations and saves the soup which will be processed later on\n",
    "soups = []\n",
    "\n",
    "def get_webpages(od_names):\n",
    "    #Open Maersk point to point site\n",
    "    driver.get(\"https://www.maersk.com/schedules/pointToPoint\")\n",
    "    time.sleep(3)\n",
    "    #Click to allow cookies\n",
    "    driver.find_element(By.XPATH,\"//*[@id='coiPage-1']/div[2]/button[3]\").click()\n",
    "\n",
    "    for i in od_names:\n",
    "        #Open the site again\n",
    "        driver.get(\"https://www.maersk.com/schedules/pointToPoint\")\n",
    "        time.sleep(3)\n",
    "\n",
    "        #fill in the origin location\n",
    "        originloc = driver.find_element(By.ID,'originLocation')\n",
    "        originloc.send_keys(i[0])\n",
    "\n",
    "        #a dropdown menu has to be clicked in order to confirm the origin location. This clicks the correct port\n",
    "        time.sleep(4) #Makes sure that the element is actually clickable\n",
    "        action = ActionChains(driver)\n",
    "        action.move_to_element_with_offset(originloc, 0, 50)\n",
    "        action.click()\n",
    "        action.perform()\n",
    "\n",
    "        #Fills in the destination location automatically.\n",
    "        destinationloc = driver.find_element(By.ID,'destinationLocation')\n",
    "        destinationloc.send_keys(i[1])\n",
    "\n",
    "        #a dropdown menu has to be clicked in order to confirm the origin location. This clicks the correct port\n",
    "        time.sleep(3)\n",
    "        action = ActionChains(driver)\n",
    "        action.move_to_element_with_offset(destinationloc, 0, 50)\n",
    "        action.click()\n",
    "        action.perform()\n",
    "\n",
    "        #Click the search button\n",
    "        search_button = driver.find_element(By.XPATH,'//*[@id=\"app\"]/div[2]/span/form/div[6]/button')\n",
    "        search_button.click()\n",
    "\n",
    "        # There are 2 known possibilities that result in not finding routes:\n",
    "        # 1: There is no route\n",
    "        # 2: Sometimes Maersk site gives an error for either origin or destination\n",
    "        #    even when the names are correctly filled in. Error seems to appear randomly\n",
    "        # Try makes sure the code doesn't fail even if a route is not found\n",
    "        # It works by checking if the button for 'show route details' can be clicked\n",
    "        time.sleep(5)\n",
    "        if len(driver.find_elements(By.XPATH,\"//*[@id='app']/div[2]/div[1]/div[3]/div/div[4]/button/span\")) > 0:\n",
    "            driver.find_element(By.XPATH,\"//*[@id='app']/div[2]/div[1]/div[3]/div/div[4]/button/span\").click()\n",
    "\n",
    "            if len(driver.find_elements(By.XPATH,\"//*[@id='app']/div[2]/div[1]/div[4]/div/div[4]/button/span\")) > 0:\n",
    "                driver.find_element(By.XPATH,\"//*[@id='app']/div[2]/div[1]/div[4]/div/div[4]/button/span\").click()\n",
    "\n",
    "                if len(driver.find_elements(By.XPATH,\"//*[@id='app']/div[2]/div[1]/div[5]/div/div[4]/button/span\")) > 0:\n",
    "                    driver.find_element(By.XPATH,\"//*[@id='app']/div[2]/div[1]/div[5]/div/div[4]/button/span\").click()\n",
    "\n",
    "                    if len(driver.find_elements(By.XPATH,\"//*[@id='app']/div[2]/div[1]/div[6]/div/div[4]/button/span\")) > 0:\n",
    "                        driver.find_element(By.XPATH,\"//*[@id='app']/div[2]/div[1]/div[6]/div/div[4]/button/span\").click()\n",
    "\n",
    "                        if len(driver.find_elements(By.XPATH,\"//*[@id='app']/div[2]/div[1]/div[7]/div/div[4]/button/span\")) > 0:\n",
    "                            driver.find_element(By.XPATH,\"//*[@id='app']/div[2]/div[1]/div[7]/div/div[4]/button/span\").click()\n",
    "\n",
    "            #Copy's the page to use in Beautifulsoup\n",
    "            page_source = driver.page_source\n",
    "            soup = BeautifulSoup(page_source)\n",
    "            soups.append(soup)\n",
    "\n",
    "        else:\n",
    "            print(\"No route found for:\",i)\n",
    "\n",
    "    #Closes the webdriver after a few seconds\n",
    "    driver.stop_client()\n",
    "    driver.quit()\n",
    "\n",
    "get_webpages(od_names)"
   ],
   "metadata": {
    "collapsed": false,
    "pycharm": {
     "name": "#%%\n"
    }
   }
  },
  {
   "cell_type": "code",
   "execution_count": 6,
   "outputs": [],
   "source": [
    "def process_data_route(route,list_ports,route_data):\n",
    "    #The origin port is the first port in the list, destination the last\n",
    "    origin = list_ports[0]\n",
    "    destination = list_ports[-1]\n",
    "\n",
    "    # The information about the destination and therefore arrival date can be found in the last box\n",
    "    info_destination = route.find(class_=\"ptp-results__transport-plan--item-final\")\n",
    "    arrival_date = info_destination.find(class_=\"transport-label font--small\")\n",
    "    arrival_date = arrival_date.find_all(class_=\"font--small\")\n",
    "    arrival_date = arrival_date[1].text\n",
    "\n",
    "    info_departure = route.find(class_=\"transport-label font--small\")\n",
    "\n",
    "    departure_date = info_departure.find(class_=\"font--small\").text\n",
    "\n",
    "    # Make an empty list for all used vessels. If only 1 vessel is used only 1 item will be in this list\n",
    "    vessels = []\n",
    "\n",
    "    # The vessel name is intially given as ie. \"Departing on CAP SAN LORENZO / 249S\"\n",
    "    # This makes sure that only the Cap San Lorenzo part is stored\n",
    "    # Furthermore these steps only work for the first vessel that is being used\n",
    "    vessel_name = info_departure.find(class_=\"rich-text\").text\n",
    "    if vessel_name == \"-\":\n",
    "        vessel_name = \"-\"\n",
    "    else:\n",
    "        vessel_name = vessel_name.split()\n",
    "        vessel_name.remove('Departing')\n",
    "        vessel_name.remove('on')\n",
    "        vessel_name.remove(\"/\")\n",
    "        vessel_name.pop(-1)\n",
    "        vessel_name = ' '.join(vessel_name)\n",
    "\n",
    "\n",
    "    vessel_info = route.find(class_=\"vessel\")\n",
    "\n",
    "    imo = vessel_info.find(class_=\"imo\").text\n",
    "    imo = imo.removeprefix('IMO Number')\n",
    "\n",
    "    service = vessel_info.find(class_=\"service\").text\n",
    "    service = service.removeprefix('Service')\n",
    "\n",
    "    flag = vessel_info.find(class_=\"flag\").text\n",
    "    flag = flag.removeprefix('Flag')\n",
    "\n",
    "    callsign = vessel_info.find(class_=\"callsign\").text\n",
    "    callsign = callsign.removeprefix('Call Sign')\n",
    "\n",
    "    built_year_ship = vessel_info.find(class_=\"built\").text\n",
    "    built_year_ship = built_year_ship.removeprefix('Built')\n",
    "\n",
    "    # Store the information about the first used vessel as a list\n",
    "    # If other vessels are also used, these will be also be stored as a list\n",
    "    vessels.append([vessel_name,imo,service,flag,callsign,built_year_ship])\n",
    "\n",
    "    if len(list_ports)>2: # If there is a transfer, store data and also run process_data_transfer\n",
    "        route_data.append([origin,destination,departure_date,arrival_date])\n",
    "        process_data_transfer(route,list_ports,route_data,vessels)\n",
    "    else:\n",
    "        # Just store the route_data\n",
    "        route_data.append([origin,destination,departure_date,arrival_date,[origin,destination],vessels,[departure_date,arrival_date,]])\n",
    "        return route_data"
   ],
   "metadata": {
    "collapsed": false,
    "pycharm": {
     "name": "#%%\n"
    }
   }
  },
  {
   "cell_type": "code",
   "execution_count": 7,
   "outputs": [],
   "source": [
    "def process_data_transfer(route,list_ports,route_data,vessels):\n",
    "    transfer_arrival_departure =[]\n",
    "\n",
    "    for i in range(1,len(list_ports)-1):\n",
    "        #item 1 is a port, 2 a ship, 3 a port and so on\n",
    "        #The following if statement makes sure that data of a port\n",
    "        #is actually read as a port\n",
    "        if (i % 2) == 1:\n",
    "            transfer_port = route.find_all(class_=\"ptp-results__transport-plan--item\")[i]\n",
    "\n",
    "            info_arrival = transfer_port.find(class_=\"transport-label font--small\")\n",
    "\n",
    "            arrival_date = info_arrival.find_all(class_=\"font--small\")[1].text\n",
    "\n",
    "            transfer_arrival_departure.append(arrival_date)\n",
    "\n",
    "            transfer_ship = route.find_all(class_=\"ptp-results__transport-plan--item\")[i+1]\n",
    "\n",
    "            info_departure = transfer_ship.find(class_=\"transport-label font--small\")\n",
    "            departure_date = info_departure.find(class_=\"font--small\").text\n",
    "\n",
    "            transfer_arrival_departure.append(departure_date)\n",
    "\n",
    "            vessel_name = info_departure.find(class_=\"rich-text\").text\n",
    "            if vessel_name == \"-\":\n",
    "                vessel_name = \"-\"\n",
    "            else:\n",
    "                vessel_name = vessel_name.split()\n",
    "                vessel_name.remove('Departing')\n",
    "                vessel_name.remove('on')\n",
    "                vessel_name.remove(\"/\")\n",
    "                vessel_name.pop(-1)\n",
    "                vessel_name = ' '.join(vessel_name)\n",
    "\n",
    "            vessel_info = transfer_ship.find(class_=\"vessel\")\n",
    "\n",
    "            imo = vessel_info.find(class_=\"imo\").text\n",
    "            imo = imo.removeprefix('IMO Number')\n",
    "\n",
    "            service = vessel_info.find(class_=\"service\").text\n",
    "            service = service.removeprefix('Service')\n",
    "\n",
    "            flag = vessel_info.find(class_=\"flag\").text\n",
    "            flag = flag.removeprefix('Flag')\n",
    "\n",
    "            callsign = vessel_info.find(class_=\"callsign\").text\n",
    "            callsign = callsign.removeprefix('Call Sign')\n",
    "\n",
    "            built_year_ship = vessel_info.find(class_=\"built\").text\n",
    "            built_year_ship = built_year_ship.removeprefix('Built')\n",
    "\n",
    "            vessels.append([vessel_name,imo,service,flag,callsign,built_year_ship])\n",
    "\n",
    "    # This part is quite complicated\n",
    "    # The data on the origin, destination and first vessel were already stored in route_data in process_data_route\n",
    "    # We will alter this data by adding the information about the transfer ports and vessels\n",
    "\n",
    "    # We first store the data on departure date that was already stored in process_data_route somewhere else\n",
    "    arrival_departure = []\n",
    "    arrival_departure.append(route_data[-1][2])\n",
    "\n",
    "    # Then store all the transfer arrival and departure date\n",
    "    for i in transfer_arrival_departure:\n",
    "        arrival_departure.append(i)\n",
    "\n",
    "    # Last store the arrival date for the whole route\n",
    "    arrival_departure.append(route_data[-1][3])\n",
    "\n",
    "    # Store the other transfer data in route_data\n",
    "    route_data[-1].append(list_ports)\n",
    "    route_data[-1].append(vessels)\n",
    "    # Store the data on all departure and arrival dates (including transfer) in the route_data\n",
    "    route_data[-1].append(arrival_departure)\n",
    "    return route_data"
   ],
   "metadata": {
    "collapsed": false,
    "pycharm": {
     "name": "#%%\n"
    }
   }
  },
  {
   "cell_type": "code",
   "execution_count": 8,
   "outputs": [],
   "source": [
    "### Process_data_route, process_data_transfer and initialize_processing\n",
    "### all process the soups into usable data\n",
    "### First initialize_processing selects a soup and prepares it for processing\n",
    "### Then process_data_route will process the information about the origin, destination, arrival data en departure date and the first vessel\n",
    "### Last process_data_transfer will be used if a transfer takes place.\n",
    "### A transfer means that the container is moved from one vessel to the another and continues the journey\n",
    "\n",
    "# Make a list in which all the data of all routes can be stored\n",
    "route_data = []\n",
    "\n",
    "def initialize_processing(soups):\n",
    "    for i in range(len(soups)):\n",
    "        #Lists all the data on routes. The data on routes is already grouped.\n",
    "        routes = soups[i].find_all(\"div\", class_=\"ptp-results__transport-plan\")\n",
    "\n",
    "        #The Maersk site does not show all ports that are on the route\n",
    "        #It only provides information on ports which are either origin, destination or transfer ports\n",
    "        #Transfer in this context means a port where the container is moved to a different ship.\n",
    "        #The following few lines detects all ports in a route\n",
    "\n",
    "        for route in routes:\n",
    "            ports = route.find_all(\"div\", class_=\"location\")\n",
    "            list_ports =[]\n",
    "            for p in ports:\n",
    "                city = p.find(\"div\", class_=\"font--default--bold\").text\n",
    "                terminal = p.find(\"div\", class_=\"font--small\").text\n",
    "                port = city + ' ' + terminal\n",
    "                list_ports.append(port)\n",
    "\n",
    "            process_data_route(route,list_ports,route_data)"
   ],
   "metadata": {
    "collapsed": false,
    "pycharm": {
     "name": "#%%\n"
    }
   }
  },
  {
   "cell_type": "code",
   "execution_count": 9,
   "outputs": [],
   "source": [
    "initialize_processing(soups)"
   ],
   "metadata": {
    "collapsed": false,
    "pycharm": {
     "name": "#%%\n"
    }
   }
  },
  {
   "cell_type": "code",
   "execution_count": 10,
   "outputs": [
    {
     "data": {
      "text/plain": "                               Origin  \\\n0   Arica Terminal Puerto Arica (TPA)   \n1   Arica Terminal Puerto Arica (TPA)   \n2   Arica Terminal Puerto Arica (TPA)   \n3   Arica Terminal Puerto Arica (TPA)   \n4   Arica Terminal Puerto Arica (TPA)   \n5   Arica Terminal Puerto Arica (TPA)   \n6   Arica Terminal Puerto Arica (TPA)   \n7   Arica Terminal Puerto Arica (TPA)   \n8   Arica Terminal Puerto Arica (TPA)   \n9   Arica Terminal Puerto Arica (TPA)   \n10  Arica Terminal Puerto Arica (TPA)   \n11  Arica Terminal Puerto Arica (TPA)   \n12  Arica Terminal Puerto Arica (TPA)   \n13  Arica Terminal Puerto Arica (TPA)   \n14  Arica Terminal Puerto Arica (TPA)   \n15  Arica Terminal Puerto Arica (TPA)   \n16  Arica Terminal Puerto Arica (TPA)   \n17  Arica Terminal Puerto Arica (TPA)   \n18  Arica Terminal Puerto Arica (TPA)   \n19  Arica Terminal Puerto Arica (TPA)   \n20  Arica Terminal Puerto Arica (TPA)   \n21  Arica Terminal Puerto Arica (TPA)   \n22  Arica Terminal Puerto Arica (TPA)   \n23  Arica Terminal Puerto Arica (TPA)   \n24  Arica Terminal Puerto Arica (TPA)   \n\n                                     Destination     Departure time  \\\n0   Amsterdam Container Terminal Vrede Amsterdam  23 Nov 2022 21:30   \n1   Amsterdam Container Terminal Vrede Amsterdam  30 Nov 2022 15:30   \n2   Amsterdam Container Terminal Vrede Amsterdam  07 Dec 2022 15:30   \n3   Amsterdam Container Terminal Vrede Amsterdam  14 Dec 2022 15:30   \n4   Amsterdam Container Terminal Vrede Amsterdam  21 Dec 2022 15:30   \n5              Antwerp PSA Antwerp K913 Noordzee  23 Nov 2022 21:30   \n6              Antwerp PSA Antwerp K913 Noordzee  30 Nov 2022 15:30   \n7              Antwerp PSA Antwerp K913 Noordzee  07 Dec 2022 15:30   \n8              Antwerp PSA Antwerp K913 Noordzee  14 Dec 2022 15:30   \n9              Antwerp PSA Antwerp K913 Noordzee  21 Dec 2022 15:30   \n10             Moerdijk Delta Marine Terminal BV  23 Nov 2022 21:30   \n11             Moerdijk Delta Marine Terminal BV  30 Nov 2022 15:30   \n12             Moerdijk Delta Marine Terminal BV  07 Dec 2022 15:30   \n13             Moerdijk Delta Marine Terminal BV  14 Dec 2022 15:30   \n14             Moerdijk Delta Marine Terminal BV  21 Dec 2022 15:30   \n15        Rotterdam APM 2 Terminal Maasvlakte II  23 Nov 2022 21:30   \n16        Rotterdam APM 2 Terminal Maasvlakte II  30 Nov 2022 15:30   \n17        Rotterdam APM 2 Terminal Maasvlakte II  07 Dec 2022 15:30   \n18        Rotterdam APM 2 Terminal Maasvlakte II  14 Dec 2022 15:30   \n19        Rotterdam APM 2 Terminal Maasvlakte II  21 Dec 2022 15:30   \n20        Vlissingen Kloosterboer Vlissingen VOF  23 Nov 2022 21:30   \n21        Vlissingen Kloosterboer Vlissingen VOF  30 Nov 2022 15:30   \n22        Vlissingen Kloosterboer Vlissingen VOF  07 Dec 2022 15:30   \n23        Vlissingen Kloosterboer Vlissingen VOF  14 Dec 2022 15:30   \n24        Vlissingen Kloosterboer Vlissingen VOF  21 Dec 2022 15:30   \n\n         Arrival time                                              Ports  \\\n0   28 Dec 2022 17:00  [Arica Terminal Puerto Arica (TPA), Balboa Bal...   \n1   04 Jan 2023 10:00  [Arica Terminal Puerto Arica (TPA), Balboa Bal...   \n2   11 Jan 2023 10:00  [Arica Terminal Puerto Arica (TPA), Balboa Bal...   \n3   18 Jan 2023 10:00  [Arica Terminal Puerto Arica (TPA), Balboa Bal...   \n4   27 Jan 2023 10:00  [Arica Terminal Puerto Arica (TPA), Balboa Bal...   \n5   31 Dec 2022 06:00  [Arica Terminal Puerto Arica (TPA), Callao APM...   \n6   07 Jan 2023 06:00  [Arica Terminal Puerto Arica (TPA), Callao APM...   \n7   14 Jan 2023 06:00  [Arica Terminal Puerto Arica (TPA), Callao APM...   \n8   23 Jan 2023 06:00  [Arica Terminal Puerto Arica (TPA), Callao APM...   \n9   28 Jan 2023 06:00  [Arica Terminal Puerto Arica (TPA), Callao APM...   \n10  29 Dec 2022 03:00  [Arica Terminal Puerto Arica (TPA), Balboa Bal...   \n11  04 Jan 2023 20:00  [Arica Terminal Puerto Arica (TPA), Balboa Bal...   \n12  11 Jan 2023 20:00  [Arica Terminal Puerto Arica (TPA), Balboa Bal...   \n13  18 Jan 2023 20:00  [Arica Terminal Puerto Arica (TPA), Balboa Bal...   \n14  27 Jan 2023 20:00  [Arica Terminal Puerto Arica (TPA), Balboa Bal...   \n15  26 Dec 2022 07:00  [Arica Terminal Puerto Arica (TPA), Balboa Bal...   \n16  02 Jan 2023 00:01  [Arica Terminal Puerto Arica (TPA), Balboa Bal...   \n17  09 Jan 2023 00:01  [Arica Terminal Puerto Arica (TPA), Balboa Bal...   \n18  16 Jan 2023 00:01  [Arica Terminal Puerto Arica (TPA), Balboa Bal...   \n19  25 Jan 2023 00:01  [Arica Terminal Puerto Arica (TPA), Balboa Bal...   \n20  29 Dec 2022 03:00  [Arica Terminal Puerto Arica (TPA), Balboa Bal...   \n21  04 Jan 2023 20:00  [Arica Terminal Puerto Arica (TPA), Balboa Bal...   \n22  11 Jan 2023 20:00  [Arica Terminal Puerto Arica (TPA), Balboa Bal...   \n23  18 Jan 2023 20:00  [Arica Terminal Puerto Arica (TPA), Balboa Bal...   \n24  27 Jan 2023 20:00  [Arica Terminal Puerto Arica (TPA), Balboa Bal...   \n\n                                              Vessels  \\\n0   [[JENS MAERSK, -, -, -, -, -], [MAERSK BULAN, ...   \n1   [[FORT DESAIX, -, -, -, -, -], [MAERSK BRANI, ...   \n2   [[JEPPESEN MAERSK, -, -, -, -, -], [MAERSK BAT...   \n3   [[JENS MAERSK, -, -, -, -, -], [SAFMARINE BENG...   \n4   [[FORT DESAIX, -, -, -, -, -], [MAERSK BUTON, ...   \n5   [[JENS MAERSK, -, -, -, -, -], [MAERSK BRANI, ...   \n6   [[FORT DESAIX, -, -, -, -, -], [MAERSK BATAM, ...   \n7   [[JEPPESEN MAERSK, -, -, -, -, -], [SAFMARINE ...   \n8   [[JENS MAERSK, -, -, -, -, -], [MAERSK BUTON, ...   \n9   [[FORT DESAIX, -, -, -, -, -], [MAERSK BRATAN,...   \n10  [[JENS MAERSK, -, -, -, -, -], [MAERSK BULAN, ...   \n11  [[FORT DESAIX, -, -, -, -, -], [MAERSK BRANI, ...   \n12  [[JEPPESEN MAERSK, -, -, -, -, -], [MAERSK BAT...   \n13  [[JENS MAERSK, -, -, -, -, -], [SAFMARINE BENG...   \n14  [[FORT DESAIX, -, -, -, -, -], [MAERSK BUTON, ...   \n15  [[JENS MAERSK, -, -, -, -, -], [MAERSK BULAN, ...   \n16  [[FORT DESAIX, -, -, -, -, -], [MAERSK BRANI, ...   \n17  [[JEPPESEN MAERSK, -, -, -, -, -], [MAERSK BAT...   \n18  [[JENS MAERSK, -, -, -, -, -], [SAFMARINE BENG...   \n19  [[FORT DESAIX, -, -, -, -, -], [MAERSK BUTON, ...   \n20  [[JENS MAERSK, -, -, -, -, -], [MAERSK BULAN, ...   \n21  [[FORT DESAIX, -, -, -, -, -], [MAERSK BRANI, ...   \n22  [[JEPPESEN MAERSK, -, -, -, -, -], [MAERSK BAT...   \n23  [[JENS MAERSK, -, -, -, -, -], [SAFMARINE BENG...   \n24  [[FORT DESAIX, -, -, -, -, -], [MAERSK BUTON, ...   \n\n                                                Dates  \n0   [23 Nov 2022 21:30, 06 Dec 2022 12:30, 09 Dec ...  \n1   [30 Nov 2022 15:30, 13 Dec 2022 12:30, 16 Dec ...  \n2   [07 Dec 2022 15:30, 20 Dec 2022 12:30, 23 Dec ...  \n3   [14 Dec 2022 15:30, 27 Dec 2022 12:30, 30 Dec ...  \n4   [21 Dec 2022 15:30, 03 Jan 2023 12:30, 08 Jan ...  \n5   [23 Nov 2022 21:30, 29 Nov 2022 07:00, 03 Dec ...  \n6   [30 Nov 2022 15:30, 06 Dec 2022 07:00, 10 Dec ...  \n7   [07 Dec 2022 15:30, 13 Dec 2022 07:00, 17 Dec ...  \n8   [14 Dec 2022 15:30, 20 Dec 2022 07:00, 24 Dec ...  \n9   [21 Dec 2022 15:30, 27 Dec 2022 07:00, 31 Dec ...  \n10  [23 Nov 2022 21:30, 06 Dec 2022 12:30, 09 Dec ...  \n11  [30 Nov 2022 15:30, 13 Dec 2022 12:30, 16 Dec ...  \n12  [07 Dec 2022 15:30, 20 Dec 2022 12:30, 23 Dec ...  \n13  [14 Dec 2022 15:30, 27 Dec 2022 12:30, 30 Dec ...  \n14  [21 Dec 2022 15:30, 03 Jan 2023 12:30, 08 Jan ...  \n15  [23 Nov 2022 21:30, 06 Dec 2022 12:30, 09 Dec ...  \n16  [30 Nov 2022 15:30, 13 Dec 2022 12:30, 16 Dec ...  \n17  [07 Dec 2022 15:30, 20 Dec 2022 12:30, 23 Dec ...  \n18  [14 Dec 2022 15:30, 27 Dec 2022 12:30, 30 Dec ...  \n19  [21 Dec 2022 15:30, 03 Jan 2023 12:30, 08 Jan ...  \n20  [23 Nov 2022 21:30, 06 Dec 2022 12:30, 09 Dec ...  \n21  [30 Nov 2022 15:30, 13 Dec 2022 12:30, 16 Dec ...  \n22  [07 Dec 2022 15:30, 20 Dec 2022 12:30, 23 Dec ...  \n23  [14 Dec 2022 15:30, 27 Dec 2022 12:30, 30 Dec ...  \n24  [21 Dec 2022 15:30, 03 Jan 2023 12:30, 08 Jan ...  ",
      "text/html": "<div>\n<style scoped>\n    .dataframe tbody tr th:only-of-type {\n        vertical-align: middle;\n    }\n\n    .dataframe tbody tr th {\n        vertical-align: top;\n    }\n\n    .dataframe thead th {\n        text-align: right;\n    }\n</style>\n<table border=\"1\" class=\"dataframe\">\n  <thead>\n    <tr style=\"text-align: right;\">\n      <th></th>\n      <th>Origin</th>\n      <th>Destination</th>\n      <th>Departure time</th>\n      <th>Arrival time</th>\n      <th>Ports</th>\n      <th>Vessels</th>\n      <th>Dates</th>\n    </tr>\n  </thead>\n  <tbody>\n    <tr>\n      <th>0</th>\n      <td>Arica Terminal Puerto Arica (TPA)</td>\n      <td>Amsterdam Container Terminal Vrede Amsterdam</td>\n      <td>23 Nov 2022 21:30</td>\n      <td>28 Dec 2022 17:00</td>\n      <td>[Arica Terminal Puerto Arica (TPA), Balboa Bal...</td>\n      <td>[[JENS MAERSK, -, -, -, -, -], [MAERSK BULAN, ...</td>\n      <td>[23 Nov 2022 21:30, 06 Dec 2022 12:30, 09 Dec ...</td>\n    </tr>\n    <tr>\n      <th>1</th>\n      <td>Arica Terminal Puerto Arica (TPA)</td>\n      <td>Amsterdam Container Terminal Vrede Amsterdam</td>\n      <td>30 Nov 2022 15:30</td>\n      <td>04 Jan 2023 10:00</td>\n      <td>[Arica Terminal Puerto Arica (TPA), Balboa Bal...</td>\n      <td>[[FORT DESAIX, -, -, -, -, -], [MAERSK BRANI, ...</td>\n      <td>[30 Nov 2022 15:30, 13 Dec 2022 12:30, 16 Dec ...</td>\n    </tr>\n    <tr>\n      <th>2</th>\n      <td>Arica Terminal Puerto Arica (TPA)</td>\n      <td>Amsterdam Container Terminal Vrede Amsterdam</td>\n      <td>07 Dec 2022 15:30</td>\n      <td>11 Jan 2023 10:00</td>\n      <td>[Arica Terminal Puerto Arica (TPA), Balboa Bal...</td>\n      <td>[[JEPPESEN MAERSK, -, -, -, -, -], [MAERSK BAT...</td>\n      <td>[07 Dec 2022 15:30, 20 Dec 2022 12:30, 23 Dec ...</td>\n    </tr>\n    <tr>\n      <th>3</th>\n      <td>Arica Terminal Puerto Arica (TPA)</td>\n      <td>Amsterdam Container Terminal Vrede Amsterdam</td>\n      <td>14 Dec 2022 15:30</td>\n      <td>18 Jan 2023 10:00</td>\n      <td>[Arica Terminal Puerto Arica (TPA), Balboa Bal...</td>\n      <td>[[JENS MAERSK, -, -, -, -, -], [SAFMARINE BENG...</td>\n      <td>[14 Dec 2022 15:30, 27 Dec 2022 12:30, 30 Dec ...</td>\n    </tr>\n    <tr>\n      <th>4</th>\n      <td>Arica Terminal Puerto Arica (TPA)</td>\n      <td>Amsterdam Container Terminal Vrede Amsterdam</td>\n      <td>21 Dec 2022 15:30</td>\n      <td>27 Jan 2023 10:00</td>\n      <td>[Arica Terminal Puerto Arica (TPA), Balboa Bal...</td>\n      <td>[[FORT DESAIX, -, -, -, -, -], [MAERSK BUTON, ...</td>\n      <td>[21 Dec 2022 15:30, 03 Jan 2023 12:30, 08 Jan ...</td>\n    </tr>\n    <tr>\n      <th>5</th>\n      <td>Arica Terminal Puerto Arica (TPA)</td>\n      <td>Antwerp PSA Antwerp K913 Noordzee</td>\n      <td>23 Nov 2022 21:30</td>\n      <td>31 Dec 2022 06:00</td>\n      <td>[Arica Terminal Puerto Arica (TPA), Callao APM...</td>\n      <td>[[JENS MAERSK, -, -, -, -, -], [MAERSK BRANI, ...</td>\n      <td>[23 Nov 2022 21:30, 29 Nov 2022 07:00, 03 Dec ...</td>\n    </tr>\n    <tr>\n      <th>6</th>\n      <td>Arica Terminal Puerto Arica (TPA)</td>\n      <td>Antwerp PSA Antwerp K913 Noordzee</td>\n      <td>30 Nov 2022 15:30</td>\n      <td>07 Jan 2023 06:00</td>\n      <td>[Arica Terminal Puerto Arica (TPA), Callao APM...</td>\n      <td>[[FORT DESAIX, -, -, -, -, -], [MAERSK BATAM, ...</td>\n      <td>[30 Nov 2022 15:30, 06 Dec 2022 07:00, 10 Dec ...</td>\n    </tr>\n    <tr>\n      <th>7</th>\n      <td>Arica Terminal Puerto Arica (TPA)</td>\n      <td>Antwerp PSA Antwerp K913 Noordzee</td>\n      <td>07 Dec 2022 15:30</td>\n      <td>14 Jan 2023 06:00</td>\n      <td>[Arica Terminal Puerto Arica (TPA), Callao APM...</td>\n      <td>[[JEPPESEN MAERSK, -, -, -, -, -], [SAFMARINE ...</td>\n      <td>[07 Dec 2022 15:30, 13 Dec 2022 07:00, 17 Dec ...</td>\n    </tr>\n    <tr>\n      <th>8</th>\n      <td>Arica Terminal Puerto Arica (TPA)</td>\n      <td>Antwerp PSA Antwerp K913 Noordzee</td>\n      <td>14 Dec 2022 15:30</td>\n      <td>23 Jan 2023 06:00</td>\n      <td>[Arica Terminal Puerto Arica (TPA), Callao APM...</td>\n      <td>[[JENS MAERSK, -, -, -, -, -], [MAERSK BUTON, ...</td>\n      <td>[14 Dec 2022 15:30, 20 Dec 2022 07:00, 24 Dec ...</td>\n    </tr>\n    <tr>\n      <th>9</th>\n      <td>Arica Terminal Puerto Arica (TPA)</td>\n      <td>Antwerp PSA Antwerp K913 Noordzee</td>\n      <td>21 Dec 2022 15:30</td>\n      <td>28 Jan 2023 06:00</td>\n      <td>[Arica Terminal Puerto Arica (TPA), Callao APM...</td>\n      <td>[[FORT DESAIX, -, -, -, -, -], [MAERSK BRATAN,...</td>\n      <td>[21 Dec 2022 15:30, 27 Dec 2022 07:00, 31 Dec ...</td>\n    </tr>\n    <tr>\n      <th>10</th>\n      <td>Arica Terminal Puerto Arica (TPA)</td>\n      <td>Moerdijk Delta Marine Terminal BV</td>\n      <td>23 Nov 2022 21:30</td>\n      <td>29 Dec 2022 03:00</td>\n      <td>[Arica Terminal Puerto Arica (TPA), Balboa Bal...</td>\n      <td>[[JENS MAERSK, -, -, -, -, -], [MAERSK BULAN, ...</td>\n      <td>[23 Nov 2022 21:30, 06 Dec 2022 12:30, 09 Dec ...</td>\n    </tr>\n    <tr>\n      <th>11</th>\n      <td>Arica Terminal Puerto Arica (TPA)</td>\n      <td>Moerdijk Delta Marine Terminal BV</td>\n      <td>30 Nov 2022 15:30</td>\n      <td>04 Jan 2023 20:00</td>\n      <td>[Arica Terminal Puerto Arica (TPA), Balboa Bal...</td>\n      <td>[[FORT DESAIX, -, -, -, -, -], [MAERSK BRANI, ...</td>\n      <td>[30 Nov 2022 15:30, 13 Dec 2022 12:30, 16 Dec ...</td>\n    </tr>\n    <tr>\n      <th>12</th>\n      <td>Arica Terminal Puerto Arica (TPA)</td>\n      <td>Moerdijk Delta Marine Terminal BV</td>\n      <td>07 Dec 2022 15:30</td>\n      <td>11 Jan 2023 20:00</td>\n      <td>[Arica Terminal Puerto Arica (TPA), Balboa Bal...</td>\n      <td>[[JEPPESEN MAERSK, -, -, -, -, -], [MAERSK BAT...</td>\n      <td>[07 Dec 2022 15:30, 20 Dec 2022 12:30, 23 Dec ...</td>\n    </tr>\n    <tr>\n      <th>13</th>\n      <td>Arica Terminal Puerto Arica (TPA)</td>\n      <td>Moerdijk Delta Marine Terminal BV</td>\n      <td>14 Dec 2022 15:30</td>\n      <td>18 Jan 2023 20:00</td>\n      <td>[Arica Terminal Puerto Arica (TPA), Balboa Bal...</td>\n      <td>[[JENS MAERSK, -, -, -, -, -], [SAFMARINE BENG...</td>\n      <td>[14 Dec 2022 15:30, 27 Dec 2022 12:30, 30 Dec ...</td>\n    </tr>\n    <tr>\n      <th>14</th>\n      <td>Arica Terminal Puerto Arica (TPA)</td>\n      <td>Moerdijk Delta Marine Terminal BV</td>\n      <td>21 Dec 2022 15:30</td>\n      <td>27 Jan 2023 20:00</td>\n      <td>[Arica Terminal Puerto Arica (TPA), Balboa Bal...</td>\n      <td>[[FORT DESAIX, -, -, -, -, -], [MAERSK BUTON, ...</td>\n      <td>[21 Dec 2022 15:30, 03 Jan 2023 12:30, 08 Jan ...</td>\n    </tr>\n    <tr>\n      <th>15</th>\n      <td>Arica Terminal Puerto Arica (TPA)</td>\n      <td>Rotterdam APM 2 Terminal Maasvlakte II</td>\n      <td>23 Nov 2022 21:30</td>\n      <td>26 Dec 2022 07:00</td>\n      <td>[Arica Terminal Puerto Arica (TPA), Balboa Bal...</td>\n      <td>[[JENS MAERSK, -, -, -, -, -], [MAERSK BULAN, ...</td>\n      <td>[23 Nov 2022 21:30, 06 Dec 2022 12:30, 09 Dec ...</td>\n    </tr>\n    <tr>\n      <th>16</th>\n      <td>Arica Terminal Puerto Arica (TPA)</td>\n      <td>Rotterdam APM 2 Terminal Maasvlakte II</td>\n      <td>30 Nov 2022 15:30</td>\n      <td>02 Jan 2023 00:01</td>\n      <td>[Arica Terminal Puerto Arica (TPA), Balboa Bal...</td>\n      <td>[[FORT DESAIX, -, -, -, -, -], [MAERSK BRANI, ...</td>\n      <td>[30 Nov 2022 15:30, 13 Dec 2022 12:30, 16 Dec ...</td>\n    </tr>\n    <tr>\n      <th>17</th>\n      <td>Arica Terminal Puerto Arica (TPA)</td>\n      <td>Rotterdam APM 2 Terminal Maasvlakte II</td>\n      <td>07 Dec 2022 15:30</td>\n      <td>09 Jan 2023 00:01</td>\n      <td>[Arica Terminal Puerto Arica (TPA), Balboa Bal...</td>\n      <td>[[JEPPESEN MAERSK, -, -, -, -, -], [MAERSK BAT...</td>\n      <td>[07 Dec 2022 15:30, 20 Dec 2022 12:30, 23 Dec ...</td>\n    </tr>\n    <tr>\n      <th>18</th>\n      <td>Arica Terminal Puerto Arica (TPA)</td>\n      <td>Rotterdam APM 2 Terminal Maasvlakte II</td>\n      <td>14 Dec 2022 15:30</td>\n      <td>16 Jan 2023 00:01</td>\n      <td>[Arica Terminal Puerto Arica (TPA), Balboa Bal...</td>\n      <td>[[JENS MAERSK, -, -, -, -, -], [SAFMARINE BENG...</td>\n      <td>[14 Dec 2022 15:30, 27 Dec 2022 12:30, 30 Dec ...</td>\n    </tr>\n    <tr>\n      <th>19</th>\n      <td>Arica Terminal Puerto Arica (TPA)</td>\n      <td>Rotterdam APM 2 Terminal Maasvlakte II</td>\n      <td>21 Dec 2022 15:30</td>\n      <td>25 Jan 2023 00:01</td>\n      <td>[Arica Terminal Puerto Arica (TPA), Balboa Bal...</td>\n      <td>[[FORT DESAIX, -, -, -, -, -], [MAERSK BUTON, ...</td>\n      <td>[21 Dec 2022 15:30, 03 Jan 2023 12:30, 08 Jan ...</td>\n    </tr>\n    <tr>\n      <th>20</th>\n      <td>Arica Terminal Puerto Arica (TPA)</td>\n      <td>Vlissingen Kloosterboer Vlissingen VOF</td>\n      <td>23 Nov 2022 21:30</td>\n      <td>29 Dec 2022 03:00</td>\n      <td>[Arica Terminal Puerto Arica (TPA), Balboa Bal...</td>\n      <td>[[JENS MAERSK, -, -, -, -, -], [MAERSK BULAN, ...</td>\n      <td>[23 Nov 2022 21:30, 06 Dec 2022 12:30, 09 Dec ...</td>\n    </tr>\n    <tr>\n      <th>21</th>\n      <td>Arica Terminal Puerto Arica (TPA)</td>\n      <td>Vlissingen Kloosterboer Vlissingen VOF</td>\n      <td>30 Nov 2022 15:30</td>\n      <td>04 Jan 2023 20:00</td>\n      <td>[Arica Terminal Puerto Arica (TPA), Balboa Bal...</td>\n      <td>[[FORT DESAIX, -, -, -, -, -], [MAERSK BRANI, ...</td>\n      <td>[30 Nov 2022 15:30, 13 Dec 2022 12:30, 16 Dec ...</td>\n    </tr>\n    <tr>\n      <th>22</th>\n      <td>Arica Terminal Puerto Arica (TPA)</td>\n      <td>Vlissingen Kloosterboer Vlissingen VOF</td>\n      <td>07 Dec 2022 15:30</td>\n      <td>11 Jan 2023 20:00</td>\n      <td>[Arica Terminal Puerto Arica (TPA), Balboa Bal...</td>\n      <td>[[JEPPESEN MAERSK, -, -, -, -, -], [MAERSK BAT...</td>\n      <td>[07 Dec 2022 15:30, 20 Dec 2022 12:30, 23 Dec ...</td>\n    </tr>\n    <tr>\n      <th>23</th>\n      <td>Arica Terminal Puerto Arica (TPA)</td>\n      <td>Vlissingen Kloosterboer Vlissingen VOF</td>\n      <td>14 Dec 2022 15:30</td>\n      <td>18 Jan 2023 20:00</td>\n      <td>[Arica Terminal Puerto Arica (TPA), Balboa Bal...</td>\n      <td>[[JENS MAERSK, -, -, -, -, -], [SAFMARINE BENG...</td>\n      <td>[14 Dec 2022 15:30, 27 Dec 2022 12:30, 30 Dec ...</td>\n    </tr>\n    <tr>\n      <th>24</th>\n      <td>Arica Terminal Puerto Arica (TPA)</td>\n      <td>Vlissingen Kloosterboer Vlissingen VOF</td>\n      <td>21 Dec 2022 15:30</td>\n      <td>27 Jan 2023 20:00</td>\n      <td>[Arica Terminal Puerto Arica (TPA), Balboa Bal...</td>\n      <td>[[FORT DESAIX, -, -, -, -, -], [MAERSK BUTON, ...</td>\n      <td>[21 Dec 2022 15:30, 03 Jan 2023 12:30, 08 Jan ...</td>\n    </tr>\n  </tbody>\n</table>\n</div>"
     },
     "execution_count": 10,
     "metadata": {},
     "output_type": "execute_result"
    }
   ],
   "source": [
    "# This turns the processed data into a Pandas dataframe\n",
    "columns = [\"Origin\",\"Destination\",\"Departure time\", \"Arrival time\",\"Ports\",\"Vessels\",\"Dates\"]\n",
    "\n",
    "connection_df = pd.DataFrame(route_data, columns=columns)\n",
    "connection_df"
   ],
   "metadata": {
    "collapsed": false,
    "pycharm": {
     "name": "#%%\n"
    }
   }
  },
  {
   "cell_type": "code",
   "execution_count": 11,
   "outputs": [],
   "source": [
    "# Store as both pickle and CSV\n",
    "today = date.today()\n",
    "connection_df.to_pickle(f\"../pickles/maersk_daily/connections_{today}.pickle\")\n",
    "connection_df.to_csv(f\"../data/maersk_daily/connections_{today}.csv\")"
   ],
   "metadata": {
    "collapsed": false,
    "pycharm": {
     "name": "#%%\n"
    }
   }
  }
 ],
 "metadata": {
  "kernelspec": {
   "display_name": "Python 3",
   "language": "python",
   "name": "python3"
  },
  "language_info": {
   "codemirror_mode": {
    "name": "ipython",
    "version": 2
   },
   "file_extension": ".py",
   "mimetype": "text/x-python",
   "name": "python",
   "nbconvert_exporter": "python",
   "pygments_lexer": "ipython2",
   "version": "2.7.6"
  }
 },
 "nbformat": 4,
 "nbformat_minor": 0
}