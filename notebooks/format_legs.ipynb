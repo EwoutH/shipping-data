{
 "cells": [
  {
   "cell_type": "markdown",
   "source": [
    "### Notebook to extract and format the legs\n",
    "\n",
    "Mainly to be able to visually inspect the data from MSC and Routescanner"
   ],
   "metadata": {
    "collapsed": false
   }
  },
  {
   "cell_type": "code",
   "execution_count": 1,
   "metadata": {
    "collapsed": true
   },
   "outputs": [],
   "source": [
    "import pandas as pd"
   ]
  },
  {
   "cell_type": "markdown",
   "source": [
    "### MSC"
   ],
   "metadata": {
    "collapsed": false
   }
  },
  {
   "cell_type": "markdown",
   "source": [
    "#### DataFrame with multiple routes"
   ],
   "metadata": {
    "collapsed": false
   }
  },
  {
   "cell_type": "code",
   "execution_count": 2,
   "outputs": [
    {
     "data": {
      "text/plain": "                                                 Key  RouteHeaderId  \\\n0  {'MaritimeServiceName': 'LLAMA SERVICE', 'Port...        1857438   \n1  {'MaritimeServiceName': 'LLAMA SERVICE', 'Port...        1857439   \n2  {'MaritimeServiceName': 'AZTEC', 'PortOfLoadin...        1856444   \n3  {'MaritimeServiceName': 'AZTEC', 'PortOfLoadin...        1856445   \n4  {'MaritimeServiceName': 'NWC TO SAEC - STRING ...        1791055   \n\n   PortOfLoadId    PortOfLoad PortOfLoadUnCode  PortOfDischargeId  \\\n0           456         ARICA            CLARI                481   \n1           456         ARICA            CLARI                208   \n2           451  BUENAVENTURA            COBUN                481   \n3           451  BUENAVENTURA            COBUN                208   \n4           512  BUENOS AIRES            ARBUE                481   \n\n  PortOfDischarge PortOfDischargeUnCode TransitTime  TransitTimeHours  \\\n0         ANTWERP                 PECLL     34 days               816   \n1       ROTTERDAM                 PECLL     33 days               792   \n2         ANTWERP                 PAROD     26 days               624   \n3       ROTTERDAM                 PAROD     25 days               600   \n4         ANTWERP                 BEANR     38 days               912   \n\n  CO2FootPrint EstimatedDepartureTime EstimatedDepartureTimeFormatted  \\\n0  1.6035 Tons    2022-11-03T23:30:00                Thu 3rd Nov 2022   \n1  1.5981 Tons    2022-11-03T23:30:00                Thu 3rd Nov 2022   \n2  0.7819 Tons    2022-11-06T22:00:00                Sun 6th Nov 2022   \n3  0.7765 Tons    2022-11-06T22:00:00                Sun 6th Nov 2022   \n4  1.0077 Tons    2022-11-07T13:00:00                Mon 7th Nov 2022   \n\n           LoadingService  IsDirectRoute   RoutingType  \\\n0           LLAMA SERVICE          False  Transhipment   \n1           LLAMA SERVICE          False  Transhipment   \n2                   AZTEC          False  Transhipment   \n3                   AZTEC          False  Transhipment   \n4  NWC TO SAEC - STRING I           True        Direct   \n\n                                              Routes  \n0  [{'CO2FootPrint': '1.6035 Tons', 'CutOffs': {'...  \n1  [{'CO2FootPrint': '1.5981 Tons', 'CutOffs': {'...  \n2  [{'CO2FootPrint': '0.7819 Tons', 'CutOffs': {'...  \n3  [{'CO2FootPrint': '0.7765 Tons', 'CutOffs': {'...  \n4  [{'CO2FootPrint': '1.0077 Tons', 'CutOffs': {'...  ",
      "text/html": "<div>\n<style scoped>\n    .dataframe tbody tr th:only-of-type {\n        vertical-align: middle;\n    }\n\n    .dataframe tbody tr th {\n        vertical-align: top;\n    }\n\n    .dataframe thead th {\n        text-align: right;\n    }\n</style>\n<table border=\"1\" class=\"dataframe\">\n  <thead>\n    <tr style=\"text-align: right;\">\n      <th></th>\n      <th>Key</th>\n      <th>RouteHeaderId</th>\n      <th>PortOfLoadId</th>\n      <th>PortOfLoad</th>\n      <th>PortOfLoadUnCode</th>\n      <th>PortOfDischargeId</th>\n      <th>PortOfDischarge</th>\n      <th>PortOfDischargeUnCode</th>\n      <th>TransitTime</th>\n      <th>TransitTimeHours</th>\n      <th>CO2FootPrint</th>\n      <th>EstimatedDepartureTime</th>\n      <th>EstimatedDepartureTimeFormatted</th>\n      <th>LoadingService</th>\n      <th>IsDirectRoute</th>\n      <th>RoutingType</th>\n      <th>Routes</th>\n    </tr>\n  </thead>\n  <tbody>\n    <tr>\n      <th>0</th>\n      <td>{'MaritimeServiceName': 'LLAMA SERVICE', 'Port...</td>\n      <td>1857438</td>\n      <td>456</td>\n      <td>ARICA</td>\n      <td>CLARI</td>\n      <td>481</td>\n      <td>ANTWERP</td>\n      <td>PECLL</td>\n      <td>34 days</td>\n      <td>816</td>\n      <td>1.6035 Tons</td>\n      <td>2022-11-03T23:30:00</td>\n      <td>Thu 3rd Nov 2022</td>\n      <td>LLAMA SERVICE</td>\n      <td>False</td>\n      <td>Transhipment</td>\n      <td>[{'CO2FootPrint': '1.6035 Tons', 'CutOffs': {'...</td>\n    </tr>\n    <tr>\n      <th>1</th>\n      <td>{'MaritimeServiceName': 'LLAMA SERVICE', 'Port...</td>\n      <td>1857439</td>\n      <td>456</td>\n      <td>ARICA</td>\n      <td>CLARI</td>\n      <td>208</td>\n      <td>ROTTERDAM</td>\n      <td>PECLL</td>\n      <td>33 days</td>\n      <td>792</td>\n      <td>1.5981 Tons</td>\n      <td>2022-11-03T23:30:00</td>\n      <td>Thu 3rd Nov 2022</td>\n      <td>LLAMA SERVICE</td>\n      <td>False</td>\n      <td>Transhipment</td>\n      <td>[{'CO2FootPrint': '1.5981 Tons', 'CutOffs': {'...</td>\n    </tr>\n    <tr>\n      <th>2</th>\n      <td>{'MaritimeServiceName': 'AZTEC', 'PortOfLoadin...</td>\n      <td>1856444</td>\n      <td>451</td>\n      <td>BUENAVENTURA</td>\n      <td>COBUN</td>\n      <td>481</td>\n      <td>ANTWERP</td>\n      <td>PAROD</td>\n      <td>26 days</td>\n      <td>624</td>\n      <td>0.7819 Tons</td>\n      <td>2022-11-06T22:00:00</td>\n      <td>Sun 6th Nov 2022</td>\n      <td>AZTEC</td>\n      <td>False</td>\n      <td>Transhipment</td>\n      <td>[{'CO2FootPrint': '0.7819 Tons', 'CutOffs': {'...</td>\n    </tr>\n    <tr>\n      <th>3</th>\n      <td>{'MaritimeServiceName': 'AZTEC', 'PortOfLoadin...</td>\n      <td>1856445</td>\n      <td>451</td>\n      <td>BUENAVENTURA</td>\n      <td>COBUN</td>\n      <td>208</td>\n      <td>ROTTERDAM</td>\n      <td>PAROD</td>\n      <td>25 days</td>\n      <td>600</td>\n      <td>0.7765 Tons</td>\n      <td>2022-11-06T22:00:00</td>\n      <td>Sun 6th Nov 2022</td>\n      <td>AZTEC</td>\n      <td>False</td>\n      <td>Transhipment</td>\n      <td>[{'CO2FootPrint': '0.7765 Tons', 'CutOffs': {'...</td>\n    </tr>\n    <tr>\n      <th>4</th>\n      <td>{'MaritimeServiceName': 'NWC TO SAEC - STRING ...</td>\n      <td>1791055</td>\n      <td>512</td>\n      <td>BUENOS AIRES</td>\n      <td>ARBUE</td>\n      <td>481</td>\n      <td>ANTWERP</td>\n      <td>BEANR</td>\n      <td>38 days</td>\n      <td>912</td>\n      <td>1.0077 Tons</td>\n      <td>2022-11-07T13:00:00</td>\n      <td>Mon 7th Nov 2022</td>\n      <td>NWC TO SAEC - STRING I</td>\n      <td>True</td>\n      <td>Direct</td>\n      <td>[{'CO2FootPrint': '1.0077 Tons', 'CutOffs': {'...</td>\n    </tr>\n  </tbody>\n</table>\n</div>"
     },
     "execution_count": 2,
     "metadata": {},
     "output_type": "execute_result"
    }
   ],
   "source": [
    "# Read first DataFrame from the Pickle\n",
    "msc_dict = pd.read_pickle(f\"../pickles/msc_daily_v2/connections_2022-10-31.pickle\")\n",
    "msc_df = pd.DataFrame(data=msc_dict)\n",
    "msc_df.head()"
   ],
   "metadata": {
    "collapsed": false
   }
  },
  {
   "cell_type": "markdown",
   "source": [
    "#### DataFrame with single route, multiple trips (options)"
   ],
   "metadata": {
    "collapsed": false
   }
  },
  {
   "cell_type": "code",
   "execution_count": 3,
   "outputs": [
    {
     "data": {
      "text/plain": "  CO2FootPrint                                            CutOffs  \\\n0  1.6035 Tons  {'ContainerYardCutOffDate': 'Mon 31st Oct 2022...   \n1  1.6035 Tons  {'ContainerYardCutOffDate': '', 'ReeferCutOffD...   \n\n  EstimatedDepartureDateFormatted EstimatedDepartureDate  \\\n0                Thu 3rd Nov 2022    2022-11-03T23:30:00   \n1               Fri 11th Nov 2022    2022-11-11T08:00:00   \n\n  EstimatedArrivalDateFormatted EstimatedArrivalDate      VesselName  \\\n0              Tue 6th Dec 2022  2022-12-06T16:15:00  MSC BALTIC III   \n1              Wed 7th Dec 2022  2022-12-07T11:00:00  MSC BALTIC III   \n\n  DepartureVoyageNo TotalTransitTime  TotalTransitTimeHours  \\\n0            PM243R          33 days                    792   \n1            PM244R          26 days                    624   \n\n                             RouteScheduleLegDetails Origin Destination  \n0  [{'LegSequence': 1, 'SingleLegOnly': False, 'L...  CLARI       BEANR  \n1  [{'LegSequence': 1, 'SingleLegOnly': False, 'L...  CLARI       BEANR  ",
      "text/html": "<div>\n<style scoped>\n    .dataframe tbody tr th:only-of-type {\n        vertical-align: middle;\n    }\n\n    .dataframe tbody tr th {\n        vertical-align: top;\n    }\n\n    .dataframe thead th {\n        text-align: right;\n    }\n</style>\n<table border=\"1\" class=\"dataframe\">\n  <thead>\n    <tr style=\"text-align: right;\">\n      <th></th>\n      <th>CO2FootPrint</th>\n      <th>CutOffs</th>\n      <th>EstimatedDepartureDateFormatted</th>\n      <th>EstimatedDepartureDate</th>\n      <th>EstimatedArrivalDateFormatted</th>\n      <th>EstimatedArrivalDate</th>\n      <th>VesselName</th>\n      <th>DepartureVoyageNo</th>\n      <th>TotalTransitTime</th>\n      <th>TotalTransitTimeHours</th>\n      <th>RouteScheduleLegDetails</th>\n      <th>Origin</th>\n      <th>Destination</th>\n    </tr>\n  </thead>\n  <tbody>\n    <tr>\n      <th>0</th>\n      <td>1.6035 Tons</td>\n      <td>{'ContainerYardCutOffDate': 'Mon 31st Oct 2022...</td>\n      <td>Thu 3rd Nov 2022</td>\n      <td>2022-11-03T23:30:00</td>\n      <td>Tue 6th Dec 2022</td>\n      <td>2022-12-06T16:15:00</td>\n      <td>MSC BALTIC III</td>\n      <td>PM243R</td>\n      <td>33 days</td>\n      <td>792</td>\n      <td>[{'LegSequence': 1, 'SingleLegOnly': False, 'L...</td>\n      <td>CLARI</td>\n      <td>BEANR</td>\n    </tr>\n    <tr>\n      <th>1</th>\n      <td>1.6035 Tons</td>\n      <td>{'ContainerYardCutOffDate': '', 'ReeferCutOffD...</td>\n      <td>Fri 11th Nov 2022</td>\n      <td>2022-11-11T08:00:00</td>\n      <td>Wed 7th Dec 2022</td>\n      <td>2022-12-07T11:00:00</td>\n      <td>MSC BALTIC III</td>\n      <td>PM244R</td>\n      <td>26 days</td>\n      <td>624</td>\n      <td>[{'LegSequence': 1, 'SingleLegOnly': False, 'L...</td>\n      <td>CLARI</td>\n      <td>BEANR</td>\n    </tr>\n  </tbody>\n</table>\n</div>"
     },
     "execution_count": 3,
     "metadata": {},
     "output_type": "execute_result"
    }
   ],
   "source": [
    "msc_legs = msc_df[\"Routes\"][0]\n",
    "msc_legs_df = pd.DataFrame(msc_legs)\n",
    "msc_legs_df"
   ],
   "metadata": {
    "collapsed": false
   }
  },
  {
   "cell_type": "markdown",
   "source": [
    "#### DataFrame with a single trip, multiple legs"
   ],
   "metadata": {
    "collapsed": false
   }
  },
  {
   "cell_type": "code",
   "execution_count": 4,
   "outputs": [
    {
     "data": {
      "text/plain": "   LegSequence  SingleLegOnly  LastLeg DepartureVoyageNo DeparturePortUNCode  \\\n0            1          False    False            PM243R               CLARI   \n1            2          False    False            NX244R               PECLL   \n2            3          False     True              None                None   \n\n   DeparturePortId DeparturePortName DepartureEquipmentHandlingFacilityName  \\\n0            456.0             ARICA                  TERMINAL PUERTO ARICA   \n1            168.0            CALLAO                   APM TERMINALS CALLAO   \n2              NaN              None                                   None   \n\n  EstimatedDepartureTime EstimatedDepartureTimeFormatted EstimatedArrivalTime  \\\n0    2022-11-03T23:30:00          Thu 3rd Nov 2022 22:30                 None   \n1    2022-11-09T16:30:00          Wed 9th Nov 2022 15:30  2022-11-05T08:00:00   \n2                   None                            None  2022-12-06T16:15:00   \n\n   ArrivalPortPortId ArrivalPortName ArrivalEquipmentHandlingFacilityName  \\\n0                NaN            None                                 None   \n1              168.0          CALLAO                 APM TERMINALS CALLAO   \n2              481.0         ANTWERP        MPET K1742 DEURGANCK TERMINAL   \n\n  EstimatedArrivalTimeFormatted CO2FootPrint  \\\n0                          None  0.6882 Tons   \n1        Sat 5th Nov 2022 07:00  0.9153 Tons   \n2        Tue 6th Dec 2022 15:15         None   \n\n                                              Vessel MaritimeServiceName  \n0  {'VesselName': 'MSC BALTIC III', 'VesselImoCod...       LLAMA SERVICE  \n1  {'VesselName': 'MSC VITA', 'VesselImoCode': '9...    NWC - USA - SAWC  \n2  {'VesselName': '', 'VesselImoCode': None, 'Ves...                None  ",
      "text/html": "<div>\n<style scoped>\n    .dataframe tbody tr th:only-of-type {\n        vertical-align: middle;\n    }\n\n    .dataframe tbody tr th {\n        vertical-align: top;\n    }\n\n    .dataframe thead th {\n        text-align: right;\n    }\n</style>\n<table border=\"1\" class=\"dataframe\">\n  <thead>\n    <tr style=\"text-align: right;\">\n      <th></th>\n      <th>LegSequence</th>\n      <th>SingleLegOnly</th>\n      <th>LastLeg</th>\n      <th>DepartureVoyageNo</th>\n      <th>DeparturePortUNCode</th>\n      <th>DeparturePortId</th>\n      <th>DeparturePortName</th>\n      <th>DepartureEquipmentHandlingFacilityName</th>\n      <th>EstimatedDepartureTime</th>\n      <th>EstimatedDepartureTimeFormatted</th>\n      <th>EstimatedArrivalTime</th>\n      <th>ArrivalPortPortId</th>\n      <th>ArrivalPortName</th>\n      <th>ArrivalEquipmentHandlingFacilityName</th>\n      <th>EstimatedArrivalTimeFormatted</th>\n      <th>CO2FootPrint</th>\n      <th>Vessel</th>\n      <th>MaritimeServiceName</th>\n    </tr>\n  </thead>\n  <tbody>\n    <tr>\n      <th>0</th>\n      <td>1</td>\n      <td>False</td>\n      <td>False</td>\n      <td>PM243R</td>\n      <td>CLARI</td>\n      <td>456.0</td>\n      <td>ARICA</td>\n      <td>TERMINAL PUERTO ARICA</td>\n      <td>2022-11-03T23:30:00</td>\n      <td>Thu 3rd Nov 2022 22:30</td>\n      <td>None</td>\n      <td>NaN</td>\n      <td>None</td>\n      <td>None</td>\n      <td>None</td>\n      <td>0.6882 Tons</td>\n      <td>{'VesselName': 'MSC BALTIC III', 'VesselImoCod...</td>\n      <td>LLAMA SERVICE</td>\n    </tr>\n    <tr>\n      <th>1</th>\n      <td>2</td>\n      <td>False</td>\n      <td>False</td>\n      <td>NX244R</td>\n      <td>PECLL</td>\n      <td>168.0</td>\n      <td>CALLAO</td>\n      <td>APM TERMINALS CALLAO</td>\n      <td>2022-11-09T16:30:00</td>\n      <td>Wed 9th Nov 2022 15:30</td>\n      <td>2022-11-05T08:00:00</td>\n      <td>168.0</td>\n      <td>CALLAO</td>\n      <td>APM TERMINALS CALLAO</td>\n      <td>Sat 5th Nov 2022 07:00</td>\n      <td>0.9153 Tons</td>\n      <td>{'VesselName': 'MSC VITA', 'VesselImoCode': '9...</td>\n      <td>NWC - USA - SAWC</td>\n    </tr>\n    <tr>\n      <th>2</th>\n      <td>3</td>\n      <td>False</td>\n      <td>True</td>\n      <td>None</td>\n      <td>None</td>\n      <td>NaN</td>\n      <td>None</td>\n      <td>None</td>\n      <td>None</td>\n      <td>None</td>\n      <td>2022-12-06T16:15:00</td>\n      <td>481.0</td>\n      <td>ANTWERP</td>\n      <td>MPET K1742 DEURGANCK TERMINAL</td>\n      <td>Tue 6th Dec 2022 15:15</td>\n      <td>None</td>\n      <td>{'VesselName': '', 'VesselImoCode': None, 'Ves...</td>\n      <td>None</td>\n    </tr>\n  </tbody>\n</table>\n</div>"
     },
     "execution_count": 4,
     "metadata": {},
     "output_type": "execute_result"
    }
   ],
   "source": [
    "msc_single_leg = msc_legs_df[\"RouteScheduleLegDetails\"][0]\n",
    "msc_single_leg_df = pd.DataFrame(msc_single_leg)\n",
    "msc_single_leg_df"
   ],
   "metadata": {
    "collapsed": false
   }
  },
  {
   "cell_type": "markdown",
   "source": [],
   "metadata": {
    "collapsed": false
   }
  },
  {
   "cell_type": "markdown",
   "source": [
    "### RouteScanner"
   ],
   "metadata": {
    "collapsed": false
   }
  },
  {
   "cell_type": "markdown",
   "source": [
    "#### DataFrame with multiple routes"
   ],
   "metadata": {
    "collapsed": false
   }
  },
  {
   "cell_type": "code",
   "execution_count": 5,
   "outputs": [
    {
     "data": {
      "text/plain": "                               hash  \\\n0  e3ff42847940387a44f8f7622b25488a   \n1  e3ff42847940387a44f8f7622b25488a   \n2  e3ff42847940387a44f8f7622b25488a   \n3  e3ff42847940387a44f8f7622b25488a   \n4  e3ff42847940387a44f8f7622b25488a   \n\n                                              origin  \\\n0  {'type': 'locode', 'name': 'Port of Arica', 'l...   \n1  {'type': 'locode', 'name': 'Port of Arica', 'l...   \n2  {'type': 'locode', 'name': 'Port of Arica', 'l...   \n3  {'type': 'locode', 'name': 'Port of Arica', 'l...   \n4  {'type': 'locode', 'name': 'Port of Arica', 'l...   \n\n                                         destination  totalResults  \\\n0  {'type': 'locode', 'name': 'Amsterdam', 'locat...             3   \n1  {'type': 'locode', 'name': 'Port of Antwerp', ...             2   \n2  {'type': 'locode', 'name': 'Moerdijk', 'locati...             2   \n3  {'type': 'locode', 'name': 'Port of Rotterdam'...             3   \n4  {'type': 'locode', 'name': 'Port of Vlissingen...             2   \n\n                                             voyages         requestId  \n0  [{'totalTravelTimeInMinutes': 44912, 'totalDis...  f0c2b52b71c4d48b  \n1  [{'totalTravelTimeInMinutes': 39330, 'totalDis...  d57750671ec99847  \n2  [{'totalTravelTimeInMinutes': 39445, 'totalDis...  d4421bf3e153d9d9  \n3  [{'totalTravelTimeInMinutes': 44745, 'totalDis...  411f4cee0e82791b  \n4  [{'totalTravelTimeInMinutes': 39426, 'totalDis...  19e8beafa119b86a  ",
      "text/html": "<div>\n<style scoped>\n    .dataframe tbody tr th:only-of-type {\n        vertical-align: middle;\n    }\n\n    .dataframe tbody tr th {\n        vertical-align: top;\n    }\n\n    .dataframe thead th {\n        text-align: right;\n    }\n</style>\n<table border=\"1\" class=\"dataframe\">\n  <thead>\n    <tr style=\"text-align: right;\">\n      <th></th>\n      <th>hash</th>\n      <th>origin</th>\n      <th>destination</th>\n      <th>totalResults</th>\n      <th>voyages</th>\n      <th>requestId</th>\n    </tr>\n  </thead>\n  <tbody>\n    <tr>\n      <th>0</th>\n      <td>e3ff42847940387a44f8f7622b25488a</td>\n      <td>{'type': 'locode', 'name': 'Port of Arica', 'l...</td>\n      <td>{'type': 'locode', 'name': 'Amsterdam', 'locat...</td>\n      <td>3</td>\n      <td>[{'totalTravelTimeInMinutes': 44912, 'totalDis...</td>\n      <td>f0c2b52b71c4d48b</td>\n    </tr>\n    <tr>\n      <th>1</th>\n      <td>e3ff42847940387a44f8f7622b25488a</td>\n      <td>{'type': 'locode', 'name': 'Port of Arica', 'l...</td>\n      <td>{'type': 'locode', 'name': 'Port of Antwerp', ...</td>\n      <td>2</td>\n      <td>[{'totalTravelTimeInMinutes': 39330, 'totalDis...</td>\n      <td>d57750671ec99847</td>\n    </tr>\n    <tr>\n      <th>2</th>\n      <td>e3ff42847940387a44f8f7622b25488a</td>\n      <td>{'type': 'locode', 'name': 'Port of Arica', 'l...</td>\n      <td>{'type': 'locode', 'name': 'Moerdijk', 'locati...</td>\n      <td>2</td>\n      <td>[{'totalTravelTimeInMinutes': 39445, 'totalDis...</td>\n      <td>d4421bf3e153d9d9</td>\n    </tr>\n    <tr>\n      <th>3</th>\n      <td>e3ff42847940387a44f8f7622b25488a</td>\n      <td>{'type': 'locode', 'name': 'Port of Arica', 'l...</td>\n      <td>{'type': 'locode', 'name': 'Port of Rotterdam'...</td>\n      <td>3</td>\n      <td>[{'totalTravelTimeInMinutes': 44745, 'totalDis...</td>\n      <td>411f4cee0e82791b</td>\n    </tr>\n    <tr>\n      <th>4</th>\n      <td>e3ff42847940387a44f8f7622b25488a</td>\n      <td>{'type': 'locode', 'name': 'Port of Arica', 'l...</td>\n      <td>{'type': 'locode', 'name': 'Port of Vlissingen...</td>\n      <td>2</td>\n      <td>[{'totalTravelTimeInMinutes': 39426, 'totalDis...</td>\n      <td>19e8beafa119b86a</td>\n    </tr>\n  </tbody>\n</table>\n</div>"
     },
     "execution_count": 5,
     "metadata": {},
     "output_type": "execute_result"
    }
   ],
   "source": [
    "# Read first DataFrame from Pickle\n",
    "routescanner_dict = pd.read_pickle(f\"../pickles/routescanner_daily_v2/connections_2022-10-31.pickle\")\n",
    "routescanner_df = pd.DataFrame(data=routescanner_dict)\n",
    "routescanner_df.head()"
   ],
   "metadata": {
    "collapsed": false
   }
  },
  {
   "cell_type": "markdown",
   "source": [
    "#### DataFrame with single route, multiple trips (options)"
   ],
   "metadata": {
    "collapsed": false
   }
  },
  {
   "cell_type": "code",
   "execution_count": 6,
   "outputs": [
    {
     "data": {
      "text/plain": "   totalTravelTimeInMinutes  totalDistanceInMeters  totalCo2EmissionsInKg  \\\n0                     44912               12894138                   1150   \n1                     30676               13132075                   1860   \n2                     28258               12962474                   1885   \n\n                 voyageStart                  voyageEnd  \\\n0  2022-11-03T22:30:00-03:00  2022-12-05T07:02:14+01:00   \n1  2022-11-06T13:32:30-05:00  2022-11-28T02:49:28+01:00   \n2  2022-11-06T13:32:30-05:00  2022-11-26T10:30:48+01:00   \n\n  transferCo2EmissionsInKg                                               legs  \n0                 [15, 15]  [{'origin': {'uuid': 'a9d25a4a-a784-417b-8196-...  \n1                 [15, 15]  [{'origin': {'type': 'locode', 'name': 'Port o...  \n2                 [15, 15]  [{'origin': {'type': 'locode', 'name': 'Port o...  ",
      "text/html": "<div>\n<style scoped>\n    .dataframe tbody tr th:only-of-type {\n        vertical-align: middle;\n    }\n\n    .dataframe tbody tr th {\n        vertical-align: top;\n    }\n\n    .dataframe thead th {\n        text-align: right;\n    }\n</style>\n<table border=\"1\" class=\"dataframe\">\n  <thead>\n    <tr style=\"text-align: right;\">\n      <th></th>\n      <th>totalTravelTimeInMinutes</th>\n      <th>totalDistanceInMeters</th>\n      <th>totalCo2EmissionsInKg</th>\n      <th>voyageStart</th>\n      <th>voyageEnd</th>\n      <th>transferCo2EmissionsInKg</th>\n      <th>legs</th>\n    </tr>\n  </thead>\n  <tbody>\n    <tr>\n      <th>0</th>\n      <td>44912</td>\n      <td>12894138</td>\n      <td>1150</td>\n      <td>2022-11-03T22:30:00-03:00</td>\n      <td>2022-12-05T07:02:14+01:00</td>\n      <td>[15, 15]</td>\n      <td>[{'origin': {'uuid': 'a9d25a4a-a784-417b-8196-...</td>\n    </tr>\n    <tr>\n      <th>1</th>\n      <td>30676</td>\n      <td>13132075</td>\n      <td>1860</td>\n      <td>2022-11-06T13:32:30-05:00</td>\n      <td>2022-11-28T02:49:28+01:00</td>\n      <td>[15, 15]</td>\n      <td>[{'origin': {'type': 'locode', 'name': 'Port o...</td>\n    </tr>\n    <tr>\n      <th>2</th>\n      <td>28258</td>\n      <td>12962474</td>\n      <td>1885</td>\n      <td>2022-11-06T13:32:30-05:00</td>\n      <td>2022-11-26T10:30:48+01:00</td>\n      <td>[15, 15]</td>\n      <td>[{'origin': {'type': 'locode', 'name': 'Port o...</td>\n    </tr>\n  </tbody>\n</table>\n</div>"
     },
     "execution_count": 6,
     "metadata": {},
     "output_type": "execute_result"
    }
   ],
   "source": [
    "routescanner_route = routescanner_df[\"voyages\"][0]\n",
    "routescanner_route_df = pd.DataFrame(routescanner_route)\n",
    "routescanner_route_df"
   ],
   "metadata": {
    "collapsed": false
   }
  },
  {
   "cell_type": "markdown",
   "source": [
    "#### DataFrame with a single trip, multiple legs"
   ],
   "metadata": {
    "collapsed": false
   }
  },
  {
   "cell_type": "code",
   "execution_count": 7,
   "outputs": [
    {
     "data": {
      "text/plain": "                                              origin  \\\n0  {'uuid': 'a9d25a4a-a784-417b-8196-2f785767018a...   \n1  {'uuid': 'e4a94011-35c3-4614-ba06-a9e1df5fcbf9...   \n2  {'uuid': '97978b07-c65f-46a8-ab5c-ae3f8befe442...   \n\n                                         destination  \\\n0  {'uuid': 'e4a94011-35c3-4614-ba06-a9e1df5fcbf9...   \n1  {'uuid': '97978b07-c65f-46a8-ab5c-ae3f8befe442...   \n2  {'type': 'locode', 'name': 'Amsterdam', 'locat...   \n\n               departureTime  \\\n0  2022-11-03T22:30:00-03:00   \n1  2022-11-09T15:30:00-05:00   \n2  2022-12-05T04:15:00+01:00   \n\n                                          cutoffTime  \\\n0  {'time': '2022-11-02T10:30:00-03:00', 'type': ...   \n1  {'time': '2022-11-08T03:30:00-05:00', 'type': ...   \n2  {'time': '2022-12-05T04:15:00+01:00', 'type': ...   \n\n                 arrivalTime  \\\n0  2022-11-05T07:00:00-05:00   \n1  2022-12-05T04:15:00+01:00   \n2  2022-12-05T07:02:14+01:00   \n\n                                          pickupTime  travelTimeInMinutes  \\\n0  {'time': '2022-11-06T19:00:00-05:00', 'type': ...                 2070   \n1  {'time': '2022-12-06T16:15:00+01:00', 'type': ...                36405   \n2  {'time': '2022-12-05T07:02:14+01:00', 'type': ...                  167   \n\n   distanceInMeters  co2EmissionsInKg  \\\n0           1099539               130   \n1          11697047               915   \n2             97552                75   \n\n                                           transport  \\\n0  {'modality': 'Deepsea', 'roro': False, 'carrie...   \n1  {'modality': 'Deepsea', 'roro': False, 'carrie...   \n2                            {'modality': 'Unknown'}   \n\n                                            polyLine  \\\n0  `bwoBliflL{XpDi[~C{Ibg@ktInwj@qmmBfewDac~DflsI...   \n1  rsohA|nzuMdOdh@GxZer@pkBfe@bjGrzAlxMu_k`@tfhZs...   \n2                                                NaN   \n\n                                               stops  \n0                                                NaN  \n1  [{'location': {'uuid': '7da407da-0bd5-4ffd-897...  \n2                                                NaN  ",
      "text/html": "<div>\n<style scoped>\n    .dataframe tbody tr th:only-of-type {\n        vertical-align: middle;\n    }\n\n    .dataframe tbody tr th {\n        vertical-align: top;\n    }\n\n    .dataframe thead th {\n        text-align: right;\n    }\n</style>\n<table border=\"1\" class=\"dataframe\">\n  <thead>\n    <tr style=\"text-align: right;\">\n      <th></th>\n      <th>origin</th>\n      <th>destination</th>\n      <th>departureTime</th>\n      <th>cutoffTime</th>\n      <th>arrivalTime</th>\n      <th>pickupTime</th>\n      <th>travelTimeInMinutes</th>\n      <th>distanceInMeters</th>\n      <th>co2EmissionsInKg</th>\n      <th>transport</th>\n      <th>polyLine</th>\n      <th>stops</th>\n    </tr>\n  </thead>\n  <tbody>\n    <tr>\n      <th>0</th>\n      <td>{'uuid': 'a9d25a4a-a784-417b-8196-2f785767018a...</td>\n      <td>{'uuid': 'e4a94011-35c3-4614-ba06-a9e1df5fcbf9...</td>\n      <td>2022-11-03T22:30:00-03:00</td>\n      <td>{'time': '2022-11-02T10:30:00-03:00', 'type': ...</td>\n      <td>2022-11-05T07:00:00-05:00</td>\n      <td>{'time': '2022-11-06T19:00:00-05:00', 'type': ...</td>\n      <td>2070</td>\n      <td>1099539</td>\n      <td>130</td>\n      <td>{'modality': 'Deepsea', 'roro': False, 'carrie...</td>\n      <td>`bwoBliflL{XpDi[~C{Ibg@ktInwj@qmmBfewDac~DflsI...</td>\n      <td>NaN</td>\n    </tr>\n    <tr>\n      <th>1</th>\n      <td>{'uuid': 'e4a94011-35c3-4614-ba06-a9e1df5fcbf9...</td>\n      <td>{'uuid': '97978b07-c65f-46a8-ab5c-ae3f8befe442...</td>\n      <td>2022-11-09T15:30:00-05:00</td>\n      <td>{'time': '2022-11-08T03:30:00-05:00', 'type': ...</td>\n      <td>2022-12-05T04:15:00+01:00</td>\n      <td>{'time': '2022-12-06T16:15:00+01:00', 'type': ...</td>\n      <td>36405</td>\n      <td>11697047</td>\n      <td>915</td>\n      <td>{'modality': 'Deepsea', 'roro': False, 'carrie...</td>\n      <td>rsohA|nzuMdOdh@GxZer@pkBfe@bjGrzAlxMu_k`@tfhZs...</td>\n      <td>[{'location': {'uuid': '7da407da-0bd5-4ffd-897...</td>\n    </tr>\n    <tr>\n      <th>2</th>\n      <td>{'uuid': '97978b07-c65f-46a8-ab5c-ae3f8befe442...</td>\n      <td>{'type': 'locode', 'name': 'Amsterdam', 'locat...</td>\n      <td>2022-12-05T04:15:00+01:00</td>\n      <td>{'time': '2022-12-05T04:15:00+01:00', 'type': ...</td>\n      <td>2022-12-05T07:02:14+01:00</td>\n      <td>{'time': '2022-12-05T07:02:14+01:00', 'type': ...</td>\n      <td>167</td>\n      <td>97552</td>\n      <td>75</td>\n      <td>{'modality': 'Unknown'}</td>\n      <td>NaN</td>\n      <td>NaN</td>\n    </tr>\n  </tbody>\n</table>\n</div>"
     },
     "execution_count": 7,
     "metadata": {},
     "output_type": "execute_result"
    }
   ],
   "source": [
    "routescanner_leg = routescanner_route_df[\"legs\"][0]\n",
    "routescanner_leg_df = pd.DataFrame(routescanner_leg)\n",
    "routescanner_leg_df"
   ],
   "metadata": {
    "collapsed": false
   }
  }
 ],
 "metadata": {
  "kernelspec": {
   "display_name": "Python 3",
   "language": "python",
   "name": "python3"
  },
  "language_info": {
   "codemirror_mode": {
    "name": "ipython",
    "version": 2
   },
   "file_extension": ".py",
   "mimetype": "text/x-python",
   "name": "python",
   "nbconvert_exporter": "python",
   "pygments_lexer": "ipython2",
   "version": "2.7.6"
  }
 },
 "nbformat": 4,
 "nbformat_minor": 0
}
