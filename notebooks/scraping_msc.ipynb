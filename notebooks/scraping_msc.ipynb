{
 "cells": [
  {
   "cell_type": "code",
   "execution_count": 1,
   "metadata": {
    "collapsed": true
   },
   "outputs": [],
   "source": [
    "# Quick and dirty hack because my PyCharm interpreter is not playing nice\n",
    "ewouts_broken_PyCharm = True\n",
    "if ewouts_broken_PyCharm:\n",
    "    import sys\n",
    "    sys.path.append('C:\\\\Users\\\\Ewout\\\\Documents\\\\python_venv\\\\Py310')\n",
    "    sys.path.append('C:\\\\Users\\\\Ewout\\\\Documents\\\\python_venv\\\\Py310\\\\lib\\\\site-packages')"
   ]
  },
  {
   "cell_type": "code",
   "execution_count": 2,
   "outputs": [],
   "source": [
    "from selenium import webdriver\n",
    "from webdriver_manager.chrome import ChromeDriverManager\n",
    "from selenium.webdriver.support.ui import WebDriverWait\n",
    "from selenium.webdriver.support import expected_conditions as EC\n",
    "from selenium.webdriver.common.keys import Keys\n",
    "from selenium.webdriver.common.by import By\n",
    "from selenium.webdriver.chrome.options import Options\n",
    "from selenium.webdriver.chrome.service import Service\n",
    "from selenium.webdriver.common.action_chains import ActionChains\n",
    "from bs4 import BeautifulSoup\n",
    "import sys\n",
    "import os\n",
    "import itertools\n",
    "import pandas as pd\n",
    "import pickle\n",
    "from numpy import random\n",
    "from time import sleep"
   ],
   "metadata": {
    "collapsed": false
   }
  },
  {
   "cell_type": "markdown",
   "source": [
    "### Scaper\n",
    "https://www.msc.com/en/search-a-schedule"
   ],
   "metadata": {
    "collapsed": false
   }
  },
  {
   "cell_type": "code",
   "execution_count": 3,
   "outputs": [
    {
     "name": "stdout",
     "output_type": "stream",
     "text": [
      "130 combinations of ports\n"
     ]
    }
   ],
   "source": [
    "# Create list of origin and destination ports\n",
    "o_ports = ['BRFOR', 'BRSSZ', 'BRPEC', 'BRSSA', 'BRPNG', 'BRRIO', 'BRRIG', 'BRITJ', 'BRNAT', 'COCTG', 'COSMR', 'COTRB', 'SRPBM', 'CWWIL', 'UYMVD', 'ARBUE', 'CLCNL', 'CLSAI', 'CLVAP', 'PEPAI', 'PECLL', 'ECGYE', 'ECPBO', 'ECPSJ', 'VNVUT', 'VNCMT']\n",
    "d_ports = ['NLRTM', 'BEANR', 'NLVLI', 'BEZEE', 'NLAMS']\n",
    "\n",
    "# Make list with all combinations\n",
    "od_ports = list(itertools.product(o_ports, d_ports))\n",
    "print(f\"{len(od_ports)} combinations of ports\")\n",
    "\n",
    "# Define the base URL to search\n",
    "base_url = \"https://www.msc.com/en/search-a-schedule\""
   ],
   "metadata": {
    "collapsed": false
   }
  },
  {
   "cell_type": "code",
   "execution_count": 4,
   "outputs": [],
   "source": [
    "headless = False\n",
    "\n",
    "# Instantiate options\n",
    "opts = Options()\n",
    "#opts.binary_location = \"/usr/bin/google-chrome\"\n",
    "opts.binary_location = \"C:\\Program Files\\Google\\Chrome\\Application\\chrome.exe\"\n",
    "if headless:\n",
    "    opts.headless = True\n",
    "opts.add_argument('--remote-debugging-port=9222')\n",
    "opts.add_argument('--disable-gpu')\n",
    "opts.add_argument(\"--window-size=1920,1440\")\n",
    "\n",
    "# Some options to make Chrome (hopefully) more\n",
    "opts.add_argument('--disable-blink-features=AutomationControlled')\n",
    "opts.add_experimental_option('useAutomationExtension', False)\n",
    "opts.add_experimental_option(\"excludeSwitches\", [\"enable-automation\"])\n",
    "\n",
    "# Set the location of the webdriver\n",
    "os.environ[\"WDM_PROGRESS_BAR\"] = '0'\n",
    "chrome_service = Service(ChromeDriverManager().install())\n",
    "\n",
    "# Instantiate a webdriver\n",
    "driver = webdriver.Chrome(options=opts, service=chrome_service)"
   ],
   "metadata": {
    "collapsed": false
   }
  },
  {
   "cell_type": "code",
   "execution_count": 5,
   "outputs": [],
   "source": [
    "# Get a single pair\n",
    "o, d = od_ports[0]\n",
    "o = \"BRSSZ\"\n",
    "direct = True\n",
    "\n",
    "# Load the HTML page\n",
    "driver.get(base_url)\n",
    "\n",
    "# Accept cookies\n",
    "driver.implicitly_wait(3)\n",
    "try:\n",
    "    driver.find_element(By.ID,\"onetrust-accept-btn-handler\").click()\n",
    "except:\n",
    "    print(\"Cookies already accepted.\")\n",
    "\n",
    "# Fill in and select the origin and destination port\n",
    "for label, port in [(\"from\", o), (\"to\", d)]:\n",
    "    elem = driver.find_element(By.ID, label)\n",
    "    elem.send_keys(port)\n",
    "    sleep(0.5) ### TODO make this a proper wait\n",
    "    ActionChains(driver).send_keys(Keys.TAB).send_keys(Keys.ENTER).perform()\n",
    "\n",
    "# Select direct routing\n",
    "if direct:\n",
    "    driver.find_element(By.ID, \"directrouting\").click()\n",
    "\n",
    "sleep(1)\n",
    "# Click search button\n",
    "driver.find_element(By.CSS_SELECTOR, \"button.msc-cta\").click()\n",
    "\n",
    "# Find all buttons to open\n",
    "buttons = driver.find_elements(By.CSS_SELECTOR, \"button.msc-search-schedule-result-details__more-button\")\n",
    "\n",
    "# Open the buttons that are displayed\n",
    "for btn in buttons:\n",
    "    if btn.is_displayed():\n",
    "        btn.click()\n",
    "\n",
    "# Save soup\n",
    "#sleep(1) ### TODO proper wait\n",
    "soup = BeautifulSoup(driver.page_source, features=\"html.parser\")"
   ],
   "metadata": {
    "collapsed": false
   }
  },
  {
   "cell_type": "code",
   "execution_count": 6,
   "outputs": [],
   "source": [
    "soup = BeautifulSoup(driver.page_source, features=\"html.parser\")"
   ],
   "metadata": {
    "collapsed": false
   }
  },
  {
   "cell_type": "markdown",
   "source": [
    "### Soup\n",
    "Process the soup\n",
    "\n",
    "#### Notes\n",
    " - It looks like the first two connections are empty (9 connections in the list, 7 on the website, first 2 contain no data)\n",
    "  - Departure time has multiple fields, the second/last one contains the actual time. Therefore the [1] on the end."
   ],
   "metadata": {
    "collapsed": false
   }
  },
  {
   "cell_type": "code",
   "execution_count": 56,
   "outputs": [],
   "source": [
    "# Split the soup in different connections\n",
    "test_connections = soup.find_all(\"div\", {\"class\": \"msc-search-schedule-result-details__result\"})"
   ],
   "metadata": {
    "collapsed": false
   }
  },
  {
   "cell_type": "code",
   "execution_count": 57,
   "outputs": [],
   "source": [
    "if False:\n",
    "    print(connections[4].prettify())"
   ],
   "metadata": {
    "collapsed": false
   }
  },
  {
   "cell_type": "code",
   "execution_count": 87,
   "outputs": [],
   "source": [
    "# Returns connection data for input soups\n",
    "def get_connection_data(soups):\n",
    "    # Create empty list for the connection data\n",
    "    connection_data = []\n",
    "\n",
    "    # Split each soup in different connections\n",
    "    for soup1 in soups:\n",
    "        connections = soup1.find_all(\"div\", {\"class\": \"msc-search-schedule-result-details__result\"})\n",
    "\n",
    "        # For each connection, find data\n",
    "        for connection in connections:\n",
    "            transit_time = connection.find(\"span\", {\"x-text\": \"entry.TotalTransitTime\"}).text\n",
    "            co2_footprint = connection.find(\"span\", {\"x-text\": \"entry.CO2FootPrint\"}).text\n",
    "\n",
    "            departure_time = connection.find_all(\"span\", {\"x-text\": \"getLegSequenceValue(entry, 'EstimatedDepartureTimeFormatted')\"})[-1].text\n",
    "            departure_port = connection.find_all(\"span\", {\"x-text\": \"getLegSequenceValue(entry, 'DeparturePortName')\"})[-1].text\n",
    "            departure_terminal = connection.find_all(\"span\", {\"x-text\": \"getLegSequenceValue(entry, 'DepartureEquipmentHandlingFacilityName')\"})[-1].text\n",
    "\n",
    "            service_name = connection.find_all(\"span\", {\"x-text\": \"getLegSequenceValue(entry, 'MaritimeServiceName')\"})[-1].text\n",
    "            vessel_name = connection.find_all(\"span\", {\"x-text\": \"getLegSequenceValue(entry, 'Vessel').VesselName\"})[-1].text\n",
    "            \"getLegSequenceValue(entry, 'Vessel').VesselName\"\n",
    "            voyage_no = connection.find_all(\"span\", {\"x-text\": \"getLegSequenceValue(entry, 'DepartureVoyageNo')\"})[-1].text\n",
    "\n",
    "            vessel_build_year = connection.find_all(\"span\", {\"x-text\": \"getLegSequenceValue(entry, 'Vessel').VesselBuiltYear\"})[-1].text\n",
    "            vessel_flag = connection.find_all(\"span\", {\"x-text\": \"getLegSequenceValue(entry, 'Vessel').VesselFlag\"})[-1].text\n",
    "            vessel_imo_code =  connection.find_all(\"span\", {\"x-text\": \"getLegSequenceValue(entry, 'Vessel').VesselImoCode\"})[-1].text\n",
    "\n",
    "            arrival_port = connection.find_all(\"span\", {\"x-text\": \"getLegSequenceValue(entry, 'ArrivalPortName')\"})[-1].text\n",
    "            arrival_terminal = connection.find_all(\"span\", {\"x-text\": \"getLegSequenceValue(entry, 'ArrivalEquipmentHandlingFacilityName')\"})[-1].text\n",
    "            arrival_time = connection.find_all(\"span\", {\"x-text\": \"getLegSequenceValue(entry, 'EstimatedArrivalTimeFormatted')\"})[-1].text\n",
    "\n",
    "            new_connection_data = [departure_port, departure_terminal, arrival_port, arrival_terminal, departure_time, arrival_time, transit_time, service_name, co2_footprint, vessel_name, voyage_no, vessel_build_year, vessel_flag, vessel_imo_code]\n",
    "            connection_data.append(new_connection_data)\n",
    "    return connection_data"
   ],
   "metadata": {
    "collapsed": false
   }
  },
  {
   "cell_type": "code",
   "execution_count": 90,
   "outputs": [
    {
     "name": "stdout",
     "output_type": "stream",
     "text": [
      "[['SANTOS', 'BRASIL TERMINAL PORTUARIO S/A', 'ROTTERDAM', 'ECT DELTA MARINE TERMINAL (DMT)', 'Fri 4th Nov 2022 08:00', 'Wed 23rd Nov 2022 15:00', '19 days', 'NWC TO SAEC - STRING I', '0.7926 Tons', 'MSC SOFIA CELESTE', 'NA243R', '2015', 'PORTUGAL', '9702091'], ['SANTOS', 'BRASIL TERMINAL PORTUARIO S/A', 'ROTTERDAM', 'ECT DELTA MARINE TERMINAL (DMT)', 'Sun 13th Nov 2022 01:00', 'Wed 30th Nov 2022 15:00', '17 days', 'NWC TO SAEC - STRING I', '0.7926 Tons', 'CZECH', 'NA244R', '2015', 'MALTA', '9723241']]\n"
     ]
    }
   ],
   "source": [
    "test_data = get_connection_data([soup])\n",
    "print(test_data[3:5])"
   ],
   "metadata": {
    "collapsed": false
   }
  },
  {
   "cell_type": "code",
   "execution_count": 91,
   "outputs": [],
   "source": [
    "columns = [\"Departure port\", \"Departure terminal\", \"Arrival port\", \"Arrival terminal\", \"Departure time\", \"Arrival time\", \"Transit time\", \"Service name\", \"CO2 footprint\", \"Vessel name\", \"Voyage no.\", \"Vessel build year\", \"Vessel flag\", \"Vessel imo code\"]"
   ],
   "metadata": {
    "collapsed": false
   }
  },
  {
   "cell_type": "code",
   "execution_count": 92,
   "outputs": [
    {
     "data": {
      "text/plain": "  Departure port             Departure terminal Arrival port  \\\n0                                                              \n1                                                              \n2         SANTOS  BRASIL TERMINAL PORTUARIO S/A    ROTTERDAM   \n3         SANTOS  BRASIL TERMINAL PORTUARIO S/A    ROTTERDAM   \n4         SANTOS  BRASIL TERMINAL PORTUARIO S/A    ROTTERDAM   \n5         SANTOS  BRASIL TERMINAL PORTUARIO S/A    ROTTERDAM   \n6         SANTOS  BRASIL TERMINAL PORTUARIO S/A    ROTTERDAM   \n7         SANTOS  BRASIL TERMINAL PORTUARIO S/A    ROTTERDAM   \n8         SANTOS  BRASIL TERMINAL PORTUARIO S/A    ROTTERDAM   \n\n                  Arrival terminal           Departure time  \\\n0                                                             \n1                                                             \n2  ECT DELTA MARINE TERMINAL (DMT)  Fri 28th Oct 2022 02:30   \n3  ECT DELTA MARINE TERMINAL (DMT)   Fri 4th Nov 2022 08:00   \n4  ECT DELTA MARINE TERMINAL (DMT)  Sun 13th Nov 2022 01:00   \n5  ECT DELTA MARINE TERMINAL (DMT)  Fri 18th Nov 2022 08:00   \n6  ECT DELTA MARINE TERMINAL (DMT)  Fri 25th Nov 2022 08:00   \n7  ECT DELTA MARINE TERMINAL (DMT)   Fri 2nd Dec 2022 08:00   \n8  ECT DELTA MARINE TERMINAL (DMT)   Fri 9th Dec 2022 08:00   \n\n              Arrival time Transit time            Service name CO2 footprint  \\\n0                                                                               \n1                                                                               \n2  Wed 16th Nov 2022 09:30      19 days  NWC TO SAEC - STRING I   0.7926 Tons   \n3  Wed 23rd Nov 2022 15:00      19 days  NWC TO SAEC - STRING I   0.7926 Tons   \n4  Wed 30th Nov 2022 15:00      17 days  NWC TO SAEC - STRING I   0.7926 Tons   \n5   Wed 7th Dec 2022 15:00      19 days  NWC TO SAEC - STRING I   0.7926 Tons   \n6  Wed 14th Dec 2022 15:00      19 days  NWC TO SAEC - STRING I   0.7926 Tons   \n7  Wed 21st Dec 2022 15:00      19 days  NWC TO SAEC - STRING I   0.7926 Tons   \n8  Wed 28th Dec 2022 15:00      19 days  NWC TO SAEC - STRING I   0.7926 Tons   \n\n         Vessel name Voyage no. Vessel build year Vessel flag Vessel imo code  \n0                                                                              \n1                                                                              \n2             MEHUIN     NA242R              2011     LIBERIA         9400100  \n3  MSC SOFIA CELESTE     NA243R              2015    PORTUGAL         9702091  \n4              CZECH     NA244R              2015       MALTA         9723241  \n5         MSC ATHENS     NA245R              2013       MALTA         9618305  \n6          MSC PALAK     NA246R              2016    PORTUGAL         9735206  \n7            HUNGARY     NA247R              2015       MALTA         9723253  \n8       MSC CATERINA     NA248R              2015    PORTUGAL         9705005  ",
      "text/html": "<div>\n<style scoped>\n    .dataframe tbody tr th:only-of-type {\n        vertical-align: middle;\n    }\n\n    .dataframe tbody tr th {\n        vertical-align: top;\n    }\n\n    .dataframe thead th {\n        text-align: right;\n    }\n</style>\n<table border=\"1\" class=\"dataframe\">\n  <thead>\n    <tr style=\"text-align: right;\">\n      <th></th>\n      <th>Departure port</th>\n      <th>Departure terminal</th>\n      <th>Arrival port</th>\n      <th>Arrival terminal</th>\n      <th>Departure time</th>\n      <th>Arrival time</th>\n      <th>Transit time</th>\n      <th>Service name</th>\n      <th>CO2 footprint</th>\n      <th>Vessel name</th>\n      <th>Voyage no.</th>\n      <th>Vessel build year</th>\n      <th>Vessel flag</th>\n      <th>Vessel imo code</th>\n    </tr>\n  </thead>\n  <tbody>\n    <tr>\n      <th>0</th>\n      <td></td>\n      <td></td>\n      <td></td>\n      <td></td>\n      <td></td>\n      <td></td>\n      <td></td>\n      <td></td>\n      <td></td>\n      <td></td>\n      <td></td>\n      <td></td>\n      <td></td>\n      <td></td>\n    </tr>\n    <tr>\n      <th>1</th>\n      <td></td>\n      <td></td>\n      <td></td>\n      <td></td>\n      <td></td>\n      <td></td>\n      <td></td>\n      <td></td>\n      <td></td>\n      <td></td>\n      <td></td>\n      <td></td>\n      <td></td>\n      <td></td>\n    </tr>\n    <tr>\n      <th>2</th>\n      <td>SANTOS</td>\n      <td>BRASIL TERMINAL PORTUARIO S/A</td>\n      <td>ROTTERDAM</td>\n      <td>ECT DELTA MARINE TERMINAL (DMT)</td>\n      <td>Fri 28th Oct 2022 02:30</td>\n      <td>Wed 16th Nov 2022 09:30</td>\n      <td>19 days</td>\n      <td>NWC TO SAEC - STRING I</td>\n      <td>0.7926 Tons</td>\n      <td>MEHUIN</td>\n      <td>NA242R</td>\n      <td>2011</td>\n      <td>LIBERIA</td>\n      <td>9400100</td>\n    </tr>\n    <tr>\n      <th>3</th>\n      <td>SANTOS</td>\n      <td>BRASIL TERMINAL PORTUARIO S/A</td>\n      <td>ROTTERDAM</td>\n      <td>ECT DELTA MARINE TERMINAL (DMT)</td>\n      <td>Fri 4th Nov 2022 08:00</td>\n      <td>Wed 23rd Nov 2022 15:00</td>\n      <td>19 days</td>\n      <td>NWC TO SAEC - STRING I</td>\n      <td>0.7926 Tons</td>\n      <td>MSC SOFIA CELESTE</td>\n      <td>NA243R</td>\n      <td>2015</td>\n      <td>PORTUGAL</td>\n      <td>9702091</td>\n    </tr>\n    <tr>\n      <th>4</th>\n      <td>SANTOS</td>\n      <td>BRASIL TERMINAL PORTUARIO S/A</td>\n      <td>ROTTERDAM</td>\n      <td>ECT DELTA MARINE TERMINAL (DMT)</td>\n      <td>Sun 13th Nov 2022 01:00</td>\n      <td>Wed 30th Nov 2022 15:00</td>\n      <td>17 days</td>\n      <td>NWC TO SAEC - STRING I</td>\n      <td>0.7926 Tons</td>\n      <td>CZECH</td>\n      <td>NA244R</td>\n      <td>2015</td>\n      <td>MALTA</td>\n      <td>9723241</td>\n    </tr>\n    <tr>\n      <th>5</th>\n      <td>SANTOS</td>\n      <td>BRASIL TERMINAL PORTUARIO S/A</td>\n      <td>ROTTERDAM</td>\n      <td>ECT DELTA MARINE TERMINAL (DMT)</td>\n      <td>Fri 18th Nov 2022 08:00</td>\n      <td>Wed 7th Dec 2022 15:00</td>\n      <td>19 days</td>\n      <td>NWC TO SAEC - STRING I</td>\n      <td>0.7926 Tons</td>\n      <td>MSC ATHENS</td>\n      <td>NA245R</td>\n      <td>2013</td>\n      <td>MALTA</td>\n      <td>9618305</td>\n    </tr>\n    <tr>\n      <th>6</th>\n      <td>SANTOS</td>\n      <td>BRASIL TERMINAL PORTUARIO S/A</td>\n      <td>ROTTERDAM</td>\n      <td>ECT DELTA MARINE TERMINAL (DMT)</td>\n      <td>Fri 25th Nov 2022 08:00</td>\n      <td>Wed 14th Dec 2022 15:00</td>\n      <td>19 days</td>\n      <td>NWC TO SAEC - STRING I</td>\n      <td>0.7926 Tons</td>\n      <td>MSC PALAK</td>\n      <td>NA246R</td>\n      <td>2016</td>\n      <td>PORTUGAL</td>\n      <td>9735206</td>\n    </tr>\n    <tr>\n      <th>7</th>\n      <td>SANTOS</td>\n      <td>BRASIL TERMINAL PORTUARIO S/A</td>\n      <td>ROTTERDAM</td>\n      <td>ECT DELTA MARINE TERMINAL (DMT)</td>\n      <td>Fri 2nd Dec 2022 08:00</td>\n      <td>Wed 21st Dec 2022 15:00</td>\n      <td>19 days</td>\n      <td>NWC TO SAEC - STRING I</td>\n      <td>0.7926 Tons</td>\n      <td>HUNGARY</td>\n      <td>NA247R</td>\n      <td>2015</td>\n      <td>MALTA</td>\n      <td>9723253</td>\n    </tr>\n    <tr>\n      <th>8</th>\n      <td>SANTOS</td>\n      <td>BRASIL TERMINAL PORTUARIO S/A</td>\n      <td>ROTTERDAM</td>\n      <td>ECT DELTA MARINE TERMINAL (DMT)</td>\n      <td>Fri 9th Dec 2022 08:00</td>\n      <td>Wed 28th Dec 2022 15:00</td>\n      <td>19 days</td>\n      <td>NWC TO SAEC - STRING I</td>\n      <td>0.7926 Tons</td>\n      <td>MSC CATERINA</td>\n      <td>NA248R</td>\n      <td>2015</td>\n      <td>PORTUGAL</td>\n      <td>9705005</td>\n    </tr>\n  </tbody>\n</table>\n</div>"
     },
     "execution_count": 92,
     "metadata": {},
     "output_type": "execute_result"
    }
   ],
   "source": [
    "df = pd.DataFrame(test_data, columns=columns)\n",
    "df"
   ],
   "metadata": {
    "collapsed": false
   }
  },
  {
   "cell_type": "markdown",
   "source": [],
   "metadata": {
    "collapsed": false
   }
  }
 ],
 "metadata": {
  "kernelspec": {
   "display_name": "Python 3",
   "language": "python",
   "name": "python3"
  },
  "language_info": {
   "codemirror_mode": {
    "name": "ipython",
    "version": 2
   },
   "file_extension": ".py",
   "mimetype": "text/x-python",
   "name": "python",
   "nbconvert_exporter": "python",
   "pygments_lexer": "ipython2",
   "version": "2.7.6"
  }
 },
 "nbformat": 4,
 "nbformat_minor": 0
}
