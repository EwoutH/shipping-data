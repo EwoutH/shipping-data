{
 "cells": [
  {
   "cell_type": "code",
   "execution_count": 1,
   "metadata": {
    "collapsed": true
   },
   "outputs": [],
   "source": [
    "# Quick and dirty hack because my PyCharm interpreter is not playing nice\n",
    "ewouts_broken_PyCharm = True\n",
    "if ewouts_broken_PyCharm:\n",
    "    import sys\n",
    "    sys.path.append('C:\\\\Users\\\\Ewout\\\\Documents\\\\python_venv\\\\Py310')\n",
    "    sys.path.append('C:\\\\Users\\\\Ewout\\\\Documents\\\\python_venv\\\\Py310\\\\lib\\\\site-packages')"
   ]
  },
  {
   "cell_type": "code",
   "execution_count": 2,
   "outputs": [],
   "source": [
    "from selenium import webdriver\n",
    "from webdriver_manager.chrome import ChromeDriverManager\n",
    "from selenium.webdriver.support.ui import WebDriverWait\n",
    "from selenium.webdriver.support import expected_conditions as EC\n",
    "from selenium.webdriver.common.keys import Keys\n",
    "from selenium.webdriver.common.by import By\n",
    "from selenium.webdriver.chrome.options import Options\n",
    "from selenium.webdriver.chrome.service import Service\n",
    "from selenium.webdriver.common.action_chains import ActionChains\n",
    "from bs4 import BeautifulSoup\n",
    "import sys\n",
    "import os\n",
    "import itertools\n",
    "import pandas as pd\n",
    "import pickle\n",
    "from numpy import random\n",
    "from time import sleep"
   ],
   "metadata": {
    "collapsed": false
   }
  },
  {
   "cell_type": "markdown",
   "source": [
    "### Scaper\n",
    "https://www.msc.com/en/search-a-schedule"
   ],
   "metadata": {
    "collapsed": false
   }
  },
  {
   "cell_type": "code",
   "execution_count": 3,
   "outputs": [
    {
     "name": "stdout",
     "output_type": "stream",
     "text": [
      "130 combinations of ports\n"
     ]
    }
   ],
   "source": [
    "# Create list of origin and destination ports\n",
    "o_ports = ['BRFOR', 'BRSSZ', 'BRPEC', 'BRSSA', 'BRPNG', 'BRRIO', 'BRRIG', 'BRITJ', 'BRNAT', 'COCTG', 'COSMR', 'COTRB', 'SRPBM', 'CWWIL', 'UYMVD', 'ARBUE', 'CLCNL', 'CLSAI', 'CLVAP', 'PEPAI', 'PECLL', 'ECGYE', 'ECPBO', 'ECPSJ', 'VNVUT', 'VNCMT']\n",
    "d_ports = ['NLRTM', 'BEANR', 'NLVLI', 'BEZEE', 'NLAMS']\n",
    "\n",
    "# Make list with all combinations\n",
    "od_ports = list(itertools.product(o_ports, d_ports))\n",
    "print(f\"{len(od_ports)} combinations of ports\")\n",
    "\n",
    "# Define the base URL to search\n",
    "base_url = \"https://www.msc.com/en/search-a-schedule\""
   ],
   "metadata": {
    "collapsed": false
   }
  },
  {
   "cell_type": "code",
   "execution_count": 4,
   "outputs": [],
   "source": [
    "headless = False\n",
    "\n",
    "# Instantiate options\n",
    "opts = Options()\n",
    "#opts.binary_location = \"/usr/bin/google-chrome\"\n",
    "opts.binary_location = \"C:\\Program Files\\Google\\Chrome\\Application\\chrome.exe\"\n",
    "if headless:\n",
    "    opts.headless = True\n",
    "opts.add_argument('--remote-debugging-port=9222')\n",
    "opts.add_argument('--disable-gpu')\n",
    "opts.add_argument(\"--window-size=1920,1440\")\n",
    "\n",
    "# Some options to make Chrome (hopefully) more\n",
    "opts.add_argument('--disable-blink-features=AutomationControlled')\n",
    "opts.add_experimental_option('useAutomationExtension', False)\n",
    "opts.add_experimental_option(\"excludeSwitches\", [\"enable-automation\"])\n",
    "\n",
    "# Set the location of the webdriver\n",
    "os.environ[\"WDM_PROGRESS_BAR\"] = '0'\n",
    "chrome_service = Service(ChromeDriverManager().install())\n",
    "\n",
    "# Instantiate a webdriver\n",
    "driver = webdriver.Chrome(options=opts, service=chrome_service)"
   ],
   "metadata": {
    "collapsed": false
   }
  },
  {
   "cell_type": "code",
   "execution_count": 5,
   "outputs": [],
   "source": [
    "# Get a single pair\n",
    "o, d = od_ports[0]\n",
    "o = \"BRSSZ\"\n",
    "direct = True\n",
    "\n",
    "# Load the HTML page\n",
    "driver.get(base_url)\n",
    "\n",
    "# Accept cookies\n",
    "driver.implicitly_wait(3)\n",
    "try:\n",
    "    driver.find_element(By.ID,\"onetrust-accept-btn-handler\").click()\n",
    "except:\n",
    "    print(\"Cookies already accepted.\")\n",
    "\n",
    "# Fill in and select the origin and destination port\n",
    "for label, port in [(\"from\", o), (\"to\", d)]:\n",
    "    elem = driver.find_element(By.ID, label)\n",
    "    elem.send_keys(port)\n",
    "    sleep(0.5) ### TODO make this a proper wait\n",
    "    ActionChains(driver).send_keys(Keys.TAB).send_keys(Keys.ENTER).perform()\n",
    "\n",
    "# Select direct routing\n",
    "if direct:\n",
    "    driver.find_element(By.ID, \"directrouting\").click()\n",
    "\n",
    "sleep(1)\n",
    "# Click search button\n",
    "driver.find_element(By.CSS_SELECTOR, \"button.msc-cta\").click()\n",
    "\n",
    "# Find all buttons to open\n",
    "buttons = driver.find_elements(By.CSS_SELECTOR, \"button.msc-search-schedule-result-details__more-button\")\n",
    "\n",
    "# Open the buttons that are displayed\n",
    "for btn in buttons:\n",
    "    if btn.is_displayed():\n",
    "        btn.click()\n",
    "\n",
    "# Save soup\n",
    "#sleep(1) ### TODO proper wait\n",
    "soup = BeautifulSoup(driver.page_source, features=\"html.parser\")"
   ],
   "metadata": {
    "collapsed": false
   }
  },
  {
   "cell_type": "code",
   "execution_count": 6,
   "outputs": [],
   "source": [
    "soup = BeautifulSoup(driver.page_source, features=\"html.parser\")"
   ],
   "metadata": {
    "collapsed": false
   }
  },
  {
   "cell_type": "markdown",
   "source": [
    "### Soup"
   ],
   "metadata": {
    "collapsed": false
   }
  },
  {
   "cell_type": "code",
   "execution_count": 7,
   "outputs": [
    {
     "name": "stdout",
     "output_type": "stream",
     "text": [
      "17907\n"
     ]
    }
   ],
   "source": [
    "print(len(soup.text))"
   ],
   "metadata": {
    "collapsed": false
   }
  },
  {
   "cell_type": "code",
   "execution_count": 8,
   "outputs": [
    {
     "data": {
      "text/plain": "9"
     },
     "execution_count": 8,
     "metadata": {},
     "output_type": "execute_result"
    }
   ],
   "source": [
    "# Split the soup in different connections\n",
    "connections = soup.find_all(\"div\", {\"class\": \"msc-search-schedule-result-details__result\"})\n",
    "#connections = soup.find_all(\"div\", {\"class\": \"msc-search-schedule-result-details__tracking\"})\n",
    "len(connections)"
   ],
   "metadata": {
    "collapsed": false
   }
  },
  {
   "cell_type": "code",
   "execution_count": 9,
   "outputs": [],
   "source": [
    "# Split each connection into different data cells\n",
    "data_cells = {}\n",
    "for i, connection in enumerate(connections):\n",
    "    data_cells[i] = connection.find_all(\"div\", {\"class\": \"msc-search-schedule-result-details__timeline-data\"})"
   ],
   "metadata": {
    "collapsed": false
   }
  },
  {
   "cell_type": "code",
   "execution_count": 10,
   "outputs": [
    {
     "data": {
      "text/plain": "bs4.element.ResultSet"
     },
     "execution_count": 10,
     "metadata": {},
     "output_type": "execute_result"
    }
   ],
   "source": [
    "type(data_cells[2])"
   ],
   "metadata": {
    "collapsed": false
   }
  },
  {
   "cell_type": "markdown",
   "source": [
    "### Notes\n",
    " - It looks like the first two connections are empty (9 connections in the list, 7 on the website, first 2 contain no data)\n",
    "  - Departure time has multiple fields, the second/last one contains the actual time. Therefore the [1] on the end."
   ],
   "metadata": {
    "collapsed": false
   }
  },
  {
   "cell_type": "code",
   "execution_count": 11,
   "outputs": [
    {
     "name": "stdout",
     "output_type": "stream",
     "text": [
      "Sun 13th Nov 2022 01:00\n"
     ]
    }
   ],
   "source": [
    "departure_time = connections[4].find_all(\"span\", {\"x-text\": \"getLegSequenceValue(entry, 'EstimatedDepartureTimeFormatted')\"})[1].text\n",
    "print(departure_time)"
   ],
   "metadata": {
    "collapsed": false
   }
  },
  {
   "cell_type": "markdown",
   "source": [],
   "metadata": {
    "collapsed": false
   }
  }
 ],
 "metadata": {
  "kernelspec": {
   "display_name": "Python 3",
   "language": "python",
   "name": "python3"
  },
  "language_info": {
   "codemirror_mode": {
    "name": "ipython",
    "version": 2
   },
   "file_extension": ".py",
   "mimetype": "text/x-python",
   "name": "python",
   "nbconvert_exporter": "python",
   "pygments_lexer": "ipython2",
   "version": "2.7.6"
  }
 },
 "nbformat": 4,
 "nbformat_minor": 0
}
