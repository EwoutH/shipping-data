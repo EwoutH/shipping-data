{
 "cells": [
  {
   "cell_type": "code",
   "execution_count": 1,
   "outputs": [],
   "source": [
    "import itertools\n",
    "import pandas as pd\n",
    "import requests\n",
    "import pickle"
   ],
   "metadata": {
    "collapsed": false
   }
  },
  {
   "cell_type": "markdown",
   "source": [
    "### Scaper\n",
    "https://www.msc.com/en/search-a-schedule"
   ],
   "metadata": {
    "collapsed": false
   }
  },
  {
   "cell_type": "code",
   "execution_count": 2,
   "outputs": [],
   "source": [
    "with open('../pickles/msc_country_port_codes.pickle', 'rb') as handle:\n",
    "    country_port_codes = pickle.load(handle)"
   ],
   "metadata": {
    "collapsed": false
   }
  },
  {
   "cell_type": "code",
   "execution_count": 3,
   "outputs": [
    {
     "name": "stdout",
     "output_type": "stream",
     "text": [
      "[{'CountryName': 'AFGHANISTAN', 'CountryIsoCode': 'AF', 'CountryId': '29'}, {'CountryName': 'ALBANIA', 'CountryIsoCode': 'AL', 'CountryId': '41'}]\n",
      " -  -  -  -  -  -  -  -  -  -  -  -  -  -  -  -  -  -  -  - \n",
      "[{'PortId': 896, 'LocationName': 'AALBORG', 'LocationCode': 'DKAAL', 'CountryName': 'DENMARK', 'CountryIsoCode': 'DK', 'LocationLatitude': 57.047036, 'LocationLongitude': 10.055766}, {'PortId': 424, 'LocationName': 'AARHUS', 'LocationCode': 'DKAAR', 'CountryName': 'DENMARK', 'CountryIsoCode': 'DK', 'LocationLatitude': 56.153475, 'LocationLongitude': 10.240799}]\n"
     ]
    }
   ],
   "source": [
    "print(country_port_codes[\"Countries\"][:2])\n",
    "print(\" - \"*20)\n",
    "print(country_port_codes[\"Ports\"][:2])"
   ],
   "metadata": {
    "collapsed": false
   }
  },
  {
   "cell_type": "code",
   "execution_count": 4,
   "outputs": [
    {
     "name": "stdout",
     "output_type": "stream",
     "text": [
      "130 combinations of ports\n"
     ]
    }
   ],
   "source": [
    "# Create list of origin and destination ports\n",
    "o_ports = ['BRFOR', 'BRSSZ', 'BRPEC', 'BRSSA', 'BRPNG', 'BRRIO', 'BRRIG', 'BRITJ', 'BRNAT', 'COCTG', 'COSMR', 'COTRB', 'SRPBM', 'CWWIL', 'UYMVD', 'ARBUE', 'CLCNL', 'CLSAI', 'CLVAP', 'PEPAI', 'PECLL', 'ECGYE', 'ECPBO', 'ECPSJ', 'VNVUT', 'VNCMT']\n",
    "d_ports = ['NLRTM', 'BEANR', 'NLVLI', 'BEZEE', 'NLAMS']\n",
    "\n",
    "# Make list with all combinations\n",
    "od_ports = list(itertools.product(o_ports, d_ports))\n",
    "print(f\"{len(od_ports)} combinations of ports\")\n",
    "\n",
    "# Define the base URL to search\n",
    "base_url = \"https://www.msc.com/en/search-a-schedule\""
   ],
   "metadata": {
    "collapsed": false
   }
  },
  {
   "cell_type": "code",
   "execution_count": 5,
   "outputs": [
    {
     "name": "stdout",
     "output_type": "stream",
     "text": [
      "2022-10-31\n"
     ]
    }
   ],
   "source": [
    "# Use today's date, by default\n",
    "from datetime import date\n",
    "today = date.today()\n",
    "print(today)"
   ],
   "metadata": {
    "collapsed": false
   }
  },
  {
   "cell_type": "code",
   "execution_count": 6,
   "outputs": [
    {
     "name": "stdout",
     "output_type": "stream",
     "text": [
      "True\n",
      "7\n"
     ]
    }
   ],
   "source": [
    "o_port = \"475\"\n",
    "d_port = \"208\"\n",
    "direct = True\n",
    "date = today\n",
    "\n",
    "url = \"https://www.msc.com/api/feature/tools/SearchSailingRoutes\"\n",
    "\n",
    "payload = {\n",
    "    \"FromDate\": str(today),\n",
    "    \"fromPortId\": o_port,\n",
    "    \"toPortId\": d_port,\n",
    "    \"isDirectRouteOnly\": direct,\n",
    "    \"language\": \"en\"\n",
    "}\n",
    "headers = {\n",
    "    \"authority\": \"www.msc.com\",\n",
    "    \"accept\": \"application/json, text/plain, */*\",\n",
    "    \"content-type\": \"application/json\",\n",
    "    \"x-requested-with\": \"XMLHttpRequest\"\n",
    "}\n",
    "\n",
    "response = requests.request(\"POST\", url, json=payload, headers=headers)\n",
    "\n",
    "rdict = response.json()\n",
    "succes = rdict[\"IsSuccess\"]\n",
    "print(succes)\n",
    "data = rdict[\"Data\"][0]\n",
    "print(len(data[\"Routes\"]))"
   ],
   "metadata": {
    "collapsed": false
   }
  },
  {
   "cell_type": "code",
   "execution_count": 7,
   "outputs": [
    {
     "data": {
      "text/plain": "{'CO2FootPrint': '0.7926 Tons',\n 'CutOffs': {'ContainerYardCutOffDate': 'Tue 1st Nov 2022 17:00',\n  'ReeferCutOffDate': 'Tue 1st Nov 2022 17:00',\n  'DangerousCargoCutOffDate': 'Thu 27th Oct 2022 12:00',\n  'ShippingInstructionsCutOffDate': 'Fri 28th Oct 2022 12:00',\n  'VerifiedGrossMassCutOffDate': 'Tue 1st Nov 2022 15:00'},\n 'EstimatedDepartureDateFormatted': 'Fri 4th Nov 2022',\n 'EstimatedDepartureDate': '2022-11-04T22:00:00',\n 'EstimatedArrivalDateFormatted': 'Wed 23rd Nov 2022',\n 'EstimatedArrivalDate': '2022-11-23T16:00:00',\n 'VesselName': 'MSC SOFIA CELESTE',\n 'DepartureVoyageNo': 'NA243R',\n 'TotalTransitTime': '19 days',\n 'TotalTransitTimeHours': 456,\n 'RouteScheduleLegDetails': [{'LegSequence': 1,\n   'SingleLegOnly': True,\n   'LastLeg': True,\n   'DepartureVoyageNo': 'NA243R',\n   'DeparturePortUNCode': 'BRSSZ',\n   'DeparturePortId': 475,\n   'DeparturePortName': 'SANTOS',\n   'DepartureEquipmentHandlingFacilityName': 'BRASIL TERMINAL PORTUARIO S/A',\n   'EstimatedDepartureTime': '2022-11-04T22:00:00',\n   'EstimatedDepartureTimeFormatted': 'Fri 4th Nov 2022 21:00',\n   'EstimatedArrivalTime': '2022-11-23T16:00:00',\n   'ArrivalPortPortId': 208,\n   'ArrivalPortName': 'ROTTERDAM',\n   'ArrivalEquipmentHandlingFacilityName': 'ECT DELTA MARINE TERMINAL (DMT)',\n   'EstimatedArrivalTimeFormatted': 'Wed 23rd Nov 2022 15:00',\n   'CO2FootPrint': '0.7926 Tons',\n   'Vessel': {'VesselName': 'MSC SOFIA CELESTE',\n    'VesselImoCode': '9702091',\n    'VesselBuiltYear': '2015',\n    'VesselFlag': 'PORTUGAL'},\n   'MaritimeServiceName': 'NWC TO SAEC - STRING I'}]}"
     },
     "execution_count": 7,
     "metadata": {},
     "output_type": "execute_result"
    }
   ],
   "source": [
    "data[\"Routes\"][0]"
   ],
   "metadata": {
    "collapsed": false
   }
  },
  {
   "cell_type": "code",
   "execution_count": 8,
   "outputs": [
    {
     "data": {
      "text/plain": "  CO2FootPrint                                            CutOffs  \\\n0  0.7926 Tons  {'ContainerYardCutOffDate': 'Tue 1st Nov 2022 ...   \n1  0.7926 Tons  {'ContainerYardCutOffDate': 'Tue 8th Nov 2022 ...   \n2  0.7926 Tons  {'ContainerYardCutOffDate': 'Tue 15th Nov 2022...   \n3  0.7926 Tons  {'ContainerYardCutOffDate': 'Tue 22nd Nov 2022...   \n4  0.7926 Tons  {'ContainerYardCutOffDate': 'Tue 29th Nov 2022...   \n5  0.7926 Tons  {'ContainerYardCutOffDate': 'Tue 6th Dec 2022 ...   \n6  0.7926 Tons  {'ContainerYardCutOffDate': 'Tue 20th Dec 2022...   \n\n  EstimatedDepartureDateFormatted EstimatedDepartureDate  \\\n0                Fri 4th Nov 2022    2022-11-04T22:00:00   \n1               Sat 12th Nov 2022    2022-11-12T21:00:00   \n2               Fri 18th Nov 2022    2022-11-18T09:00:00   \n3               Fri 25th Nov 2022    2022-11-25T09:00:00   \n4                Fri 2nd Dec 2022    2022-12-02T09:00:00   \n5                Fri 9th Dec 2022    2022-12-09T09:00:00   \n6               Fri 23rd Dec 2022    2022-12-23T09:00:00   \n\n  EstimatedArrivalDateFormatted EstimatedArrivalDate         VesselName  \\\n0             Wed 23rd Nov 2022  2022-11-23T16:00:00  MSC SOFIA CELESTE   \n1             Wed 30th Nov 2022  2022-11-30T16:00:00              CZECH   \n2              Wed 7th Dec 2022  2022-12-07T16:00:00         MSC ATHENS   \n3             Wed 14th Dec 2022  2022-12-14T16:00:00          MSC PALAK   \n4             Wed 21st Dec 2022  2022-12-21T16:00:00            HUNGARY   \n5             Wed 28th Dec 2022  2022-12-28T16:00:00       MSC CATERINA   \n6             Wed 11th Jan 2023  2023-01-11T16:00:00        UASC ZAMZAM   \n\n  DepartureVoyageNo TotalTransitTime  TotalTransitTimeHours  \\\n0            NA243R          19 days                    456   \n1            NA244R          18 days                    432   \n2            NA245R          19 days                    456   \n3            NA246R          19 days                    456   \n4            NA247R          19 days                    456   \n5            NA248R          19 days                    456   \n6            NA250R          19 days                    456   \n\n                             RouteScheduleLegDetails  \n0  [{'LegSequence': 1, 'SingleLegOnly': True, 'La...  \n1  [{'LegSequence': 1, 'SingleLegOnly': True, 'La...  \n2  [{'LegSequence': 1, 'SingleLegOnly': True, 'La...  \n3  [{'LegSequence': 1, 'SingleLegOnly': True, 'La...  \n4  [{'LegSequence': 1, 'SingleLegOnly': True, 'La...  \n5  [{'LegSequence': 1, 'SingleLegOnly': True, 'La...  \n6  [{'LegSequence': 1, 'SingleLegOnly': True, 'La...  ",
      "text/html": "<div>\n<style scoped>\n    .dataframe tbody tr th:only-of-type {\n        vertical-align: middle;\n    }\n\n    .dataframe tbody tr th {\n        vertical-align: top;\n    }\n\n    .dataframe thead th {\n        text-align: right;\n    }\n</style>\n<table border=\"1\" class=\"dataframe\">\n  <thead>\n    <tr style=\"text-align: right;\">\n      <th></th>\n      <th>CO2FootPrint</th>\n      <th>CutOffs</th>\n      <th>EstimatedDepartureDateFormatted</th>\n      <th>EstimatedDepartureDate</th>\n      <th>EstimatedArrivalDateFormatted</th>\n      <th>EstimatedArrivalDate</th>\n      <th>VesselName</th>\n      <th>DepartureVoyageNo</th>\n      <th>TotalTransitTime</th>\n      <th>TotalTransitTimeHours</th>\n      <th>RouteScheduleLegDetails</th>\n    </tr>\n  </thead>\n  <tbody>\n    <tr>\n      <th>0</th>\n      <td>0.7926 Tons</td>\n      <td>{'ContainerYardCutOffDate': 'Tue 1st Nov 2022 ...</td>\n      <td>Fri 4th Nov 2022</td>\n      <td>2022-11-04T22:00:00</td>\n      <td>Wed 23rd Nov 2022</td>\n      <td>2022-11-23T16:00:00</td>\n      <td>MSC SOFIA CELESTE</td>\n      <td>NA243R</td>\n      <td>19 days</td>\n      <td>456</td>\n      <td>[{'LegSequence': 1, 'SingleLegOnly': True, 'La...</td>\n    </tr>\n    <tr>\n      <th>1</th>\n      <td>0.7926 Tons</td>\n      <td>{'ContainerYardCutOffDate': 'Tue 8th Nov 2022 ...</td>\n      <td>Sat 12th Nov 2022</td>\n      <td>2022-11-12T21:00:00</td>\n      <td>Wed 30th Nov 2022</td>\n      <td>2022-11-30T16:00:00</td>\n      <td>CZECH</td>\n      <td>NA244R</td>\n      <td>18 days</td>\n      <td>432</td>\n      <td>[{'LegSequence': 1, 'SingleLegOnly': True, 'La...</td>\n    </tr>\n    <tr>\n      <th>2</th>\n      <td>0.7926 Tons</td>\n      <td>{'ContainerYardCutOffDate': 'Tue 15th Nov 2022...</td>\n      <td>Fri 18th Nov 2022</td>\n      <td>2022-11-18T09:00:00</td>\n      <td>Wed 7th Dec 2022</td>\n      <td>2022-12-07T16:00:00</td>\n      <td>MSC ATHENS</td>\n      <td>NA245R</td>\n      <td>19 days</td>\n      <td>456</td>\n      <td>[{'LegSequence': 1, 'SingleLegOnly': True, 'La...</td>\n    </tr>\n    <tr>\n      <th>3</th>\n      <td>0.7926 Tons</td>\n      <td>{'ContainerYardCutOffDate': 'Tue 22nd Nov 2022...</td>\n      <td>Fri 25th Nov 2022</td>\n      <td>2022-11-25T09:00:00</td>\n      <td>Wed 14th Dec 2022</td>\n      <td>2022-12-14T16:00:00</td>\n      <td>MSC PALAK</td>\n      <td>NA246R</td>\n      <td>19 days</td>\n      <td>456</td>\n      <td>[{'LegSequence': 1, 'SingleLegOnly': True, 'La...</td>\n    </tr>\n    <tr>\n      <th>4</th>\n      <td>0.7926 Tons</td>\n      <td>{'ContainerYardCutOffDate': 'Tue 29th Nov 2022...</td>\n      <td>Fri 2nd Dec 2022</td>\n      <td>2022-12-02T09:00:00</td>\n      <td>Wed 21st Dec 2022</td>\n      <td>2022-12-21T16:00:00</td>\n      <td>HUNGARY</td>\n      <td>NA247R</td>\n      <td>19 days</td>\n      <td>456</td>\n      <td>[{'LegSequence': 1, 'SingleLegOnly': True, 'La...</td>\n    </tr>\n    <tr>\n      <th>5</th>\n      <td>0.7926 Tons</td>\n      <td>{'ContainerYardCutOffDate': 'Tue 6th Dec 2022 ...</td>\n      <td>Fri 9th Dec 2022</td>\n      <td>2022-12-09T09:00:00</td>\n      <td>Wed 28th Dec 2022</td>\n      <td>2022-12-28T16:00:00</td>\n      <td>MSC CATERINA</td>\n      <td>NA248R</td>\n      <td>19 days</td>\n      <td>456</td>\n      <td>[{'LegSequence': 1, 'SingleLegOnly': True, 'La...</td>\n    </tr>\n    <tr>\n      <th>6</th>\n      <td>0.7926 Tons</td>\n      <td>{'ContainerYardCutOffDate': 'Tue 20th Dec 2022...</td>\n      <td>Fri 23rd Dec 2022</td>\n      <td>2022-12-23T09:00:00</td>\n      <td>Wed 11th Jan 2023</td>\n      <td>2023-01-11T16:00:00</td>\n      <td>UASC ZAMZAM</td>\n      <td>NA250R</td>\n      <td>19 days</td>\n      <td>456</td>\n      <td>[{'LegSequence': 1, 'SingleLegOnly': True, 'La...</td>\n    </tr>\n  </tbody>\n</table>\n</div>"
     },
     "execution_count": 8,
     "metadata": {},
     "output_type": "execute_result"
    }
   ],
   "source": [
    "pd.DataFrame(data[\"Routes\"])"
   ],
   "metadata": {
    "collapsed": false
   }
  },
  {
   "cell_type": "markdown",
   "source": [],
   "metadata": {
    "collapsed": false
   }
  }
 ],
 "metadata": {
  "kernelspec": {
   "display_name": "Python 3",
   "language": "python",
   "name": "python3"
  },
  "language_info": {
   "codemirror_mode": {
    "name": "ipython",
    "version": 2
   },
   "file_extension": ".py",
   "mimetype": "text/x-python",
   "name": "python",
   "nbconvert_exporter": "python",
   "pygments_lexer": "ipython2",
   "version": "2.7.6"
  }
 },
 "nbformat": 4,
 "nbformat_minor": 0
}
