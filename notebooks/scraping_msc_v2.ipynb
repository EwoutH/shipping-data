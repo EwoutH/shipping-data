{
 "cells": [
  {
   "cell_type": "code",
   "execution_count": 1,
   "outputs": [],
   "source": [
    "import itertools\n",
    "import pandas as pd\n",
    "import requests\n",
    "import pickle"
   ],
   "metadata": {
    "collapsed": false
   }
  },
  {
   "cell_type": "markdown",
   "source": [
    "### Scaper\n",
    "https://www.msc.com/en/search-a-schedule"
   ],
   "metadata": {
    "collapsed": false
   }
  },
  {
   "cell_type": "code",
   "execution_count": 2,
   "outputs": [],
   "source": [
    "# Define origin and destination countries\n",
    "origin = [\"BR\", \"CO\", \"VE\", \"SR\", \"CW\", \"GY\", \"GF\", \"UY\", \"AR\", \"CL\", \"PE\", \"EC\", \"VN\"]\n",
    "destination = [\"NL\", \"BE\"]"
   ],
   "metadata": {
    "collapsed": false
   }
  },
  {
   "cell_type": "code",
   "execution_count": 3,
   "outputs": [],
   "source": [
    "# Create DataFrames from UN-LOCODE CSVs\n",
    "country_df = pd.read_csv(\"../utils/country-codes.csv\")\n",
    "country_df.set_index(\"CountryCode\", inplace=True)\n",
    "country_dict = country_df.to_dict()[\"CountryName\"]"
   ],
   "metadata": {
    "collapsed": false
   }
  },
  {
   "cell_type": "code",
   "execution_count": 4,
   "outputs": [],
   "source": [
    "o_dict = {code: name for code, name in country_dict.items() if code in origin}\n",
    "d_dict = {code: name for code, name in country_dict.items() if code in destination}"
   ],
   "metadata": {
    "collapsed": false
   }
  },
  {
   "cell_type": "code",
   "execution_count": 5,
   "outputs": [],
   "source": [
    "with open('../pickles/msc_country_port_codes.pickle', 'rb') as handle:\n",
    "    country_port_codes = pickle.load(handle)"
   ],
   "metadata": {
    "collapsed": false
   }
  },
  {
   "cell_type": "code",
   "execution_count": 6,
   "outputs": [],
   "source": [
    "o_ports = [port for port in country_port_codes[\"Ports\"] if port[\"CountryIsoCode\"] in origin]\n",
    "d_ports = [port for port in country_port_codes[\"Ports\"] if port[\"CountryIsoCode\"] in destination]\n",
    "\n",
    "o_ids = [port['PortId'] for port in o_ports]\n",
    "d_ids = [port['PortId'] for port in d_ports]\n",
    "\n",
    "port_codes = {port['PortId']: port['LocationCode'] for port in o_ports + d_ports}"
   ],
   "metadata": {
    "collapsed": false
   }
  },
  {
   "cell_type": "code",
   "execution_count": 7,
   "outputs": [
    {
     "name": "stdout",
     "output_type": "stream",
     "text": [
      "288 combinations of ports (48 origins * 6 destinations)\n"
     ]
    }
   ],
   "source": [
    "# Make list with all combinations\n",
    "od_ids = list(itertools.product(o_ids, d_ids))\n",
    "print(f\"{(n_combs := len(od_ids))} combinations of ports ({len(o_ids)} origins * {len(d_ids)} destinations)\")"
   ],
   "metadata": {
    "collapsed": false
   }
  },
  {
   "cell_type": "code",
   "execution_count": 8,
   "outputs": [
    {
     "name": "stdout",
     "output_type": "stream",
     "text": [
      "2022-10-31\n"
     ]
    }
   ],
   "source": [
    "# Use today's date, by default\n",
    "from datetime import date\n",
    "today = date.today()\n",
    "print(today)"
   ],
   "metadata": {
    "collapsed": false
   }
  },
  {
   "cell_type": "code",
   "execution_count": 9,
   "outputs": [
    {
     "name": "stdout",
     "output_type": "stream",
     "text": [
      "Warning: No succes on request 0 ('CLARI', 'NLAMS')\n",
      "Scraped 1/288\n",
      "Warning: No succes on request 2 ('CLARI', 'NLMOE')\n",
      "Scraped 3/288\n",
      "Warning: No succes on request 4 ('CLARI', 'NLVLI')\n",
      "Warning: No succes on request 5 ('CLARI', 'BEZEE')\n",
      "Warning: No succes on request 6 ('BRBEL', 'NLAMS')\n",
      "Warning: No succes on request 7 ('BRBEL', 'BEANR')\n",
      "Warning: No succes on request 8 ('BRBEL', 'NLMOE')\n",
      "Warning: No succes on request 9 ('BRBEL', 'NLRTM')\n"
     ]
    }
   ],
   "source": [
    "url = \"https://www.msc.com/api/feature/tools/SearchSailingRoutes\"\n",
    "\n",
    "headers = {\n",
    "    \"authority\": \"www.msc.com\",\n",
    "    \"accept\": \"application/json, text/plain, */*\",\n",
    "    \"content-type\": \"application/json\",\n",
    "    \"x-requested-with\": \"XMLHttpRequest\"\n",
    "}\n",
    "\n",
    "data = []\n",
    "for n, (o, d) in enumerate(od_ids[:10]):\n",
    "    o_code = port_codes[int(o)]\n",
    "    d_code = port_codes[int(d)]\n",
    "\n",
    "    payload = {\n",
    "        \"FromDate\": str(today),\n",
    "        \"fromPortId\": o,\n",
    "        \"toPortId\": d,\n",
    "        \"isDirectRouteOnly\": False,\n",
    "        \"language\": \"en\"\n",
    "    }\n",
    "\n",
    "    response = requests.request(\"POST\", url, json=payload, headers=headers)\n",
    "\n",
    "    # Check if request was succesfull\n",
    "    rdict = response.json()\n",
    "    succes = rdict[\"IsSuccess\"]\n",
    "    if not succes:\n",
    "        print(f\"Warning: No succes on request {n} {o_code, d_code}\")\n",
    "        continue\n",
    "\n",
    "    # Save data\n",
    "    new_data = rdict[\"Data\"][0]\n",
    "    for i in range(len(new_data[\"Routes\"])):\n",
    "        new_data[\"Routes\"][i][\"Origin\"] = o_code\n",
    "        new_data[\"Routes\"][i][\"Destination\"] = d_code\n",
    "    data.append(new_data)\n",
    "\n",
    "    if n % 5:\n",
    "        print(f\"Scraped {n}/{n_combs}\")"
   ],
   "metadata": {
    "collapsed": false
   }
  },
  {
   "cell_type": "code",
   "execution_count": 10,
   "outputs": [],
   "source": [
    "# Flatten trip route data\n",
    "route_data = []\n",
    "for d in data:\n",
    "    for route in d[\"Routes\"]:\n",
    "        route_data.append(route)"
   ],
   "metadata": {
    "collapsed": false
   }
  },
  {
   "cell_type": "code",
   "execution_count": 11,
   "outputs": [
    {
     "name": "stdout",
     "output_type": "stream",
     "text": [
      "Done. DataFrame has 4 entries\n"
     ]
    },
    {
     "data": {
      "text/plain": "  Origin Destination CO2FootPrint  \\\n0  CLARI       BEANR  1.6035 Tons   \n1  CLARI       BEANR  1.6035 Tons   \n2  CLARI       NLRTM  1.5981 Tons   \n3  CLARI       NLRTM  1.5981 Tons   \n\n                                             CutOffs  \\\n0  {'ContainerYardCutOffDate': 'Mon 31st Oct 2022...   \n1  {'ContainerYardCutOffDate': '', 'ReeferCutOffD...   \n2  {'ContainerYardCutOffDate': 'Mon 31st Oct 2022...   \n3  {'ContainerYardCutOffDate': '', 'ReeferCutOffD...   \n\n  EstimatedDepartureDateFormatted EstimatedDepartureDate  \\\n0                Thu 3rd Nov 2022    2022-11-03T23:30:00   \n1               Fri 11th Nov 2022    2022-11-11T08:00:00   \n2                Thu 3rd Nov 2022    2022-11-03T23:30:00   \n3               Fri 11th Nov 2022    2022-11-11T08:00:00   \n\n  EstimatedArrivalDateFormatted EstimatedArrivalDate      VesselName  \\\n0              Tue 6th Dec 2022  2022-12-06T16:15:00  MSC BALTIC III   \n1              Wed 7th Dec 2022  2022-12-07T11:00:00  MSC BALTIC III   \n2              Mon 5th Dec 2022  2022-12-05T05:15:00  MSC BALTIC III   \n3              Fri 9th Dec 2022  2022-12-09T01:15:00  MSC BALTIC III   \n\n  DepartureVoyageNo TotalTransitTime  TotalTransitTimeHours  \\\n0            PM243R          33 days                    792   \n1            PM244R          26 days                    624   \n2            PM243R          32 days                    768   \n3            PM244R          28 days                    672   \n\n                             RouteScheduleLegDetails  \n0  [{'LegSequence': 1, 'SingleLegOnly': False, 'L...  \n1  [{'LegSequence': 1, 'SingleLegOnly': False, 'L...  \n2  [{'LegSequence': 1, 'SingleLegOnly': False, 'L...  \n3  [{'LegSequence': 1, 'SingleLegOnly': False, 'L...  ",
      "text/html": "<div>\n<style scoped>\n    .dataframe tbody tr th:only-of-type {\n        vertical-align: middle;\n    }\n\n    .dataframe tbody tr th {\n        vertical-align: top;\n    }\n\n    .dataframe thead th {\n        text-align: right;\n    }\n</style>\n<table border=\"1\" class=\"dataframe\">\n  <thead>\n    <tr style=\"text-align: right;\">\n      <th></th>\n      <th>Origin</th>\n      <th>Destination</th>\n      <th>CO2FootPrint</th>\n      <th>CutOffs</th>\n      <th>EstimatedDepartureDateFormatted</th>\n      <th>EstimatedDepartureDate</th>\n      <th>EstimatedArrivalDateFormatted</th>\n      <th>EstimatedArrivalDate</th>\n      <th>VesselName</th>\n      <th>DepartureVoyageNo</th>\n      <th>TotalTransitTime</th>\n      <th>TotalTransitTimeHours</th>\n      <th>RouteScheduleLegDetails</th>\n    </tr>\n  </thead>\n  <tbody>\n    <tr>\n      <th>0</th>\n      <td>CLARI</td>\n      <td>BEANR</td>\n      <td>1.6035 Tons</td>\n      <td>{'ContainerYardCutOffDate': 'Mon 31st Oct 2022...</td>\n      <td>Thu 3rd Nov 2022</td>\n      <td>2022-11-03T23:30:00</td>\n      <td>Tue 6th Dec 2022</td>\n      <td>2022-12-06T16:15:00</td>\n      <td>MSC BALTIC III</td>\n      <td>PM243R</td>\n      <td>33 days</td>\n      <td>792</td>\n      <td>[{'LegSequence': 1, 'SingleLegOnly': False, 'L...</td>\n    </tr>\n    <tr>\n      <th>1</th>\n      <td>CLARI</td>\n      <td>BEANR</td>\n      <td>1.6035 Tons</td>\n      <td>{'ContainerYardCutOffDate': '', 'ReeferCutOffD...</td>\n      <td>Fri 11th Nov 2022</td>\n      <td>2022-11-11T08:00:00</td>\n      <td>Wed 7th Dec 2022</td>\n      <td>2022-12-07T11:00:00</td>\n      <td>MSC BALTIC III</td>\n      <td>PM244R</td>\n      <td>26 days</td>\n      <td>624</td>\n      <td>[{'LegSequence': 1, 'SingleLegOnly': False, 'L...</td>\n    </tr>\n    <tr>\n      <th>2</th>\n      <td>CLARI</td>\n      <td>NLRTM</td>\n      <td>1.5981 Tons</td>\n      <td>{'ContainerYardCutOffDate': 'Mon 31st Oct 2022...</td>\n      <td>Thu 3rd Nov 2022</td>\n      <td>2022-11-03T23:30:00</td>\n      <td>Mon 5th Dec 2022</td>\n      <td>2022-12-05T05:15:00</td>\n      <td>MSC BALTIC III</td>\n      <td>PM243R</td>\n      <td>32 days</td>\n      <td>768</td>\n      <td>[{'LegSequence': 1, 'SingleLegOnly': False, 'L...</td>\n    </tr>\n    <tr>\n      <th>3</th>\n      <td>CLARI</td>\n      <td>NLRTM</td>\n      <td>1.5981 Tons</td>\n      <td>{'ContainerYardCutOffDate': '', 'ReeferCutOffD...</td>\n      <td>Fri 11th Nov 2022</td>\n      <td>2022-11-11T08:00:00</td>\n      <td>Fri 9th Dec 2022</td>\n      <td>2022-12-09T01:15:00</td>\n      <td>MSC BALTIC III</td>\n      <td>PM244R</td>\n      <td>28 days</td>\n      <td>672</td>\n      <td>[{'LegSequence': 1, 'SingleLegOnly': False, 'L...</td>\n    </tr>\n  </tbody>\n</table>\n</div>"
     },
     "execution_count": 11,
     "metadata": {},
     "output_type": "execute_result"
    }
   ],
   "source": [
    "df = pd.DataFrame(route_data)\n",
    "print(f\"Done. DataFrame has {df.index.size} entries\")\n",
    "\n",
    "cols = df.columns.tolist()\n",
    "cols = cols[-2:] + cols[:-2]\n",
    "df = df[cols]\n",
    "df.head(10)"
   ],
   "metadata": {
    "collapsed": false
   }
  },
  {
   "cell_type": "markdown",
   "source": [],
   "metadata": {
    "collapsed": false
   }
  }
 ],
 "metadata": {
  "kernelspec": {
   "display_name": "Python 3",
   "language": "python",
   "name": "python3"
  },
  "language_info": {
   "codemirror_mode": {
    "name": "ipython",
    "version": 2
   },
   "file_extension": ".py",
   "mimetype": "text/x-python",
   "name": "python",
   "nbconvert_exporter": "python",
   "pygments_lexer": "ipython2",
   "version": "2.7.6"
  }
 },
 "nbformat": 4,
 "nbformat_minor": 0
}
