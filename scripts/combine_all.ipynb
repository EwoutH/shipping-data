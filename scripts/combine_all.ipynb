{
 "cells": [
  {
   "cell_type": "markdown",
   "source": [
    "### Combine all the dataframes"
   ],
   "metadata": {
    "collapsed": false
   }
  },
  {
   "cell_type": "code",
   "execution_count": 1,
   "outputs": [],
   "source": [
    "import pandas as pd"
   ],
   "metadata": {
    "collapsed": false,
    "ExecuteTime": {
     "start_time": "2023-04-20T12:49:40.938333Z",
     "end_time": "2023-04-20T12:49:41.469160Z"
    }
   }
  },
  {
   "cell_type": "code",
   "execution_count": 2,
   "outputs": [],
   "source": [
    "# Read MSC and Routscanner pickles\n",
    "msc = pd.read_pickle('../pickles/msc_v2_connections_combined.pickle')\n",
    "routescanner = pd.read_pickle('../pickles/routescanner_v2_connections_combined.pickle')\n",
    "\n",
    "# Add the source to each dataframe at the beginning of the dataframe\n",
    "msc.insert(0, 'ScrapingSite', 'MSC')\n",
    "routescanner.insert(0, 'ScrapingSite', 'Routescanner')"
   ],
   "metadata": {
    "collapsed": false,
    "ExecuteTime": {
     "start_time": "2023-04-20T12:49:41.472159Z",
     "end_time": "2023-04-20T12:49:45.547655Z"
    }
   }
  },
  {
   "cell_type": "code",
   "execution_count": 3,
   "outputs": [
    {
     "data": {
      "text/plain": "     ScrapingSite ScrapingDate Origin Destination     MaritimeServiceName   \n22            MSC   2022-10-31  ARBUE       BEANR  NWC TO SAEC - STRING I  \\\n23            MSC   2022-10-31  ARBUE       BEANR  NWC TO SAEC - STRING I   \n24            MSC   2022-10-31  ARBUE       BEANR  NWC TO SAEC - STRING I   \n25            MSC   2022-10-31  ARBUE       BEANR  NWC TO SAEC - STRING I   \n26            MSC   2022-10-31  ARBUE       BEANR  NWC TO SAEC - STRING I   \n27            MSC   2022-10-31  ARBUE       BEANR  NWC TO SAEC - STRING I   \n28            MSC   2022-10-31  ARBUE       BEANR  NWC TO SAEC - STRING I   \n131  Routescanner   2022-10-31  ARBUE       BEANR                    <NA>   \n132  Routescanner   2022-10-31  ARBUE       BEANR                    <NA>   \n133  Routescanner   2022-10-31  ARBUE       BEANR                    <NA>   \n\n               OriginName  DestinationName  RouteHeaderId  PortOfLoadId   \n22           BUENOS AIRES          ANTWERP        1791055           512  \\\n23           BUENOS AIRES          ANTWERP        1791055           512   \n24           BUENOS AIRES          ANTWERP        1791055           512   \n25           BUENOS AIRES          ANTWERP        1791055           512   \n26           BUENOS AIRES          ANTWERP        1791055           512   \n27           BUENOS AIRES          ANTWERP        1791055           512   \n28           BUENOS AIRES          ANTWERP        1791055           512   \n131  Port of Buenos Aires  Port of Antwerp           <NA>          <NA>   \n132  Port of Buenos Aires  Port of Antwerp           <NA>          <NA>   \n133  Port of Buenos Aires  Port of Antwerp           <NA>          <NA>   \n\n     PortOfDischargeId  ...    VesselName  DepartureVoyageNo   \n22                 481  ...         CZECH             NA244R  \\\n23                 481  ...    MSC ATHENS             NA245R   \n24                 481  ...     MSC PALAK             NA246R   \n25                 481  ...       HUNGARY             NA247R   \n26                 481  ...  MSC CATERINA             NA248R   \n27                 481  ...   UASC ZAMZAM             NA250R   \n28                 481  ...   MSC MICHELA             NA251R   \n131               <NA>  ...          <NA>               <NA>   \n132               <NA>  ...          <NA>               <NA>   \n133               <NA>  ...          <NA>               <NA>   \n\n    EstimatedTotalTransitTimeDays EstimatedTotalTransitTimeHours   \n22                        32 days                          768.0  \\\n23                        38 days                          912.0   \n24                        38 days                          912.0   \n25                        38 days                          912.0   \n26                        38 days                          912.0   \n27                        38 days                          912.0   \n28                        38 days                          912.0   \n131                          <NA>                          969.0   \n132                          <NA>                         869.45   \n133                          <NA>                          784.0   \n\n                                                  Legs   \n22   [{'LegSequence': 1, 'SingleLegOnly': True, 'La...  \\\n23   [{'LegSequence': 1, 'SingleLegOnly': True, 'La...   \n24   [{'LegSequence': 1, 'SingleLegOnly': True, 'La...   \n25   [{'LegSequence': 1, 'SingleLegOnly': True, 'La...   \n26   [{'LegSequence': 1, 'SingleLegOnly': True, 'La...   \n27   [{'LegSequence': 1, 'SingleLegOnly': True, 'La...   \n28   [{'LegSequence': 1, 'SingleLegOnly': True, 'La...   \n131  [{'origin': {'uuid': '08324382-ad10-41c2-86c8-...   \n132  [{'origin': {'type': 'locode', 'name': 'Port o...   \n133  [{'origin': {'uuid': '08324382-ad10-41c2-86c8-...   \n\n                    destination_location   \n22                                   NaN  \\\n23                                   NaN   \n24                                   NaN   \n25                                   NaN   \n26                                   NaN   \n27                                   NaN   \n28                                   NaN   \n131  {'lat': 51.249596, 'lng': 4.407942}   \n132  {'lat': 51.249596, 'lng': 4.407942}   \n133  {'lat': 51.249596, 'lng': 4.407942}   \n\n                            origin_location totalResults TotalDistanceMeters   \n22                                      NaN         <NA>                <NA>  \\\n23                                      NaN         <NA>                <NA>   \n24                                      NaN         <NA>                <NA>   \n25                                      NaN         <NA>                <NA>   \n26                                      NaN         <NA>                <NA>   \n27                                      NaN         <NA>                <NA>   \n28                                      NaN         <NA>                <NA>   \n131  {'lat': -34.584968, 'lng': -58.360374}           15            12289550   \n132  {'lat': -34.584968, 'lng': -58.360374}           15            11873645   \n133  {'lat': -34.584968, 'lng': -58.360374}           15            13991292   \n\n    totalCo2EmissionsInKg  \n22                   <NA>  \n23                   <NA>  \n24                   <NA>  \n25                   <NA>  \n26                   <NA>  \n27                   <NA>  \n28                   <NA>  \n131                  1080  \n132                  1120  \n133                  1130  \n\n[10 rows x 32 columns]",
      "text/html": "<div>\n<style scoped>\n    .dataframe tbody tr th:only-of-type {\n        vertical-align: middle;\n    }\n\n    .dataframe tbody tr th {\n        vertical-align: top;\n    }\n\n    .dataframe thead th {\n        text-align: right;\n    }\n</style>\n<table border=\"1\" class=\"dataframe\">\n  <thead>\n    <tr style=\"text-align: right;\">\n      <th></th>\n      <th>ScrapingSite</th>\n      <th>ScrapingDate</th>\n      <th>Origin</th>\n      <th>Destination</th>\n      <th>MaritimeServiceName</th>\n      <th>OriginName</th>\n      <th>DestinationName</th>\n      <th>RouteHeaderId</th>\n      <th>PortOfLoadId</th>\n      <th>PortOfDischargeId</th>\n      <th>...</th>\n      <th>VesselName</th>\n      <th>DepartureVoyageNo</th>\n      <th>EstimatedTotalTransitTimeDays</th>\n      <th>EstimatedTotalTransitTimeHours</th>\n      <th>Legs</th>\n      <th>destination_location</th>\n      <th>origin_location</th>\n      <th>totalResults</th>\n      <th>TotalDistanceMeters</th>\n      <th>totalCo2EmissionsInKg</th>\n    </tr>\n  </thead>\n  <tbody>\n    <tr>\n      <th>22</th>\n      <td>MSC</td>\n      <td>2022-10-31</td>\n      <td>ARBUE</td>\n      <td>BEANR</td>\n      <td>NWC TO SAEC - STRING I</td>\n      <td>BUENOS AIRES</td>\n      <td>ANTWERP</td>\n      <td>1791055</td>\n      <td>512</td>\n      <td>481</td>\n      <td>...</td>\n      <td>CZECH</td>\n      <td>NA244R</td>\n      <td>32 days</td>\n      <td>768.0</td>\n      <td>[{'LegSequence': 1, 'SingleLegOnly': True, 'La...</td>\n      <td>NaN</td>\n      <td>NaN</td>\n      <td>&lt;NA&gt;</td>\n      <td>&lt;NA&gt;</td>\n      <td>&lt;NA&gt;</td>\n    </tr>\n    <tr>\n      <th>23</th>\n      <td>MSC</td>\n      <td>2022-10-31</td>\n      <td>ARBUE</td>\n      <td>BEANR</td>\n      <td>NWC TO SAEC - STRING I</td>\n      <td>BUENOS AIRES</td>\n      <td>ANTWERP</td>\n      <td>1791055</td>\n      <td>512</td>\n      <td>481</td>\n      <td>...</td>\n      <td>MSC ATHENS</td>\n      <td>NA245R</td>\n      <td>38 days</td>\n      <td>912.0</td>\n      <td>[{'LegSequence': 1, 'SingleLegOnly': True, 'La...</td>\n      <td>NaN</td>\n      <td>NaN</td>\n      <td>&lt;NA&gt;</td>\n      <td>&lt;NA&gt;</td>\n      <td>&lt;NA&gt;</td>\n    </tr>\n    <tr>\n      <th>24</th>\n      <td>MSC</td>\n      <td>2022-10-31</td>\n      <td>ARBUE</td>\n      <td>BEANR</td>\n      <td>NWC TO SAEC - STRING I</td>\n      <td>BUENOS AIRES</td>\n      <td>ANTWERP</td>\n      <td>1791055</td>\n      <td>512</td>\n      <td>481</td>\n      <td>...</td>\n      <td>MSC PALAK</td>\n      <td>NA246R</td>\n      <td>38 days</td>\n      <td>912.0</td>\n      <td>[{'LegSequence': 1, 'SingleLegOnly': True, 'La...</td>\n      <td>NaN</td>\n      <td>NaN</td>\n      <td>&lt;NA&gt;</td>\n      <td>&lt;NA&gt;</td>\n      <td>&lt;NA&gt;</td>\n    </tr>\n    <tr>\n      <th>25</th>\n      <td>MSC</td>\n      <td>2022-10-31</td>\n      <td>ARBUE</td>\n      <td>BEANR</td>\n      <td>NWC TO SAEC - STRING I</td>\n      <td>BUENOS AIRES</td>\n      <td>ANTWERP</td>\n      <td>1791055</td>\n      <td>512</td>\n      <td>481</td>\n      <td>...</td>\n      <td>HUNGARY</td>\n      <td>NA247R</td>\n      <td>38 days</td>\n      <td>912.0</td>\n      <td>[{'LegSequence': 1, 'SingleLegOnly': True, 'La...</td>\n      <td>NaN</td>\n      <td>NaN</td>\n      <td>&lt;NA&gt;</td>\n      <td>&lt;NA&gt;</td>\n      <td>&lt;NA&gt;</td>\n    </tr>\n    <tr>\n      <th>26</th>\n      <td>MSC</td>\n      <td>2022-10-31</td>\n      <td>ARBUE</td>\n      <td>BEANR</td>\n      <td>NWC TO SAEC - STRING I</td>\n      <td>BUENOS AIRES</td>\n      <td>ANTWERP</td>\n      <td>1791055</td>\n      <td>512</td>\n      <td>481</td>\n      <td>...</td>\n      <td>MSC CATERINA</td>\n      <td>NA248R</td>\n      <td>38 days</td>\n      <td>912.0</td>\n      <td>[{'LegSequence': 1, 'SingleLegOnly': True, 'La...</td>\n      <td>NaN</td>\n      <td>NaN</td>\n      <td>&lt;NA&gt;</td>\n      <td>&lt;NA&gt;</td>\n      <td>&lt;NA&gt;</td>\n    </tr>\n    <tr>\n      <th>27</th>\n      <td>MSC</td>\n      <td>2022-10-31</td>\n      <td>ARBUE</td>\n      <td>BEANR</td>\n      <td>NWC TO SAEC - STRING I</td>\n      <td>BUENOS AIRES</td>\n      <td>ANTWERP</td>\n      <td>1791055</td>\n      <td>512</td>\n      <td>481</td>\n      <td>...</td>\n      <td>UASC ZAMZAM</td>\n      <td>NA250R</td>\n      <td>38 days</td>\n      <td>912.0</td>\n      <td>[{'LegSequence': 1, 'SingleLegOnly': True, 'La...</td>\n      <td>NaN</td>\n      <td>NaN</td>\n      <td>&lt;NA&gt;</td>\n      <td>&lt;NA&gt;</td>\n      <td>&lt;NA&gt;</td>\n    </tr>\n    <tr>\n      <th>28</th>\n      <td>MSC</td>\n      <td>2022-10-31</td>\n      <td>ARBUE</td>\n      <td>BEANR</td>\n      <td>NWC TO SAEC - STRING I</td>\n      <td>BUENOS AIRES</td>\n      <td>ANTWERP</td>\n      <td>1791055</td>\n      <td>512</td>\n      <td>481</td>\n      <td>...</td>\n      <td>MSC MICHELA</td>\n      <td>NA251R</td>\n      <td>38 days</td>\n      <td>912.0</td>\n      <td>[{'LegSequence': 1, 'SingleLegOnly': True, 'La...</td>\n      <td>NaN</td>\n      <td>NaN</td>\n      <td>&lt;NA&gt;</td>\n      <td>&lt;NA&gt;</td>\n      <td>&lt;NA&gt;</td>\n    </tr>\n    <tr>\n      <th>131</th>\n      <td>Routescanner</td>\n      <td>2022-10-31</td>\n      <td>ARBUE</td>\n      <td>BEANR</td>\n      <td>&lt;NA&gt;</td>\n      <td>Port of Buenos Aires</td>\n      <td>Port of Antwerp</td>\n      <td>&lt;NA&gt;</td>\n      <td>&lt;NA&gt;</td>\n      <td>&lt;NA&gt;</td>\n      <td>...</td>\n      <td>&lt;NA&gt;</td>\n      <td>&lt;NA&gt;</td>\n      <td>&lt;NA&gt;</td>\n      <td>969.0</td>\n      <td>[{'origin': {'uuid': '08324382-ad10-41c2-86c8-...</td>\n      <td>{'lat': 51.249596, 'lng': 4.407942}</td>\n      <td>{'lat': -34.584968, 'lng': -58.360374}</td>\n      <td>15</td>\n      <td>12289550</td>\n      <td>1080</td>\n    </tr>\n    <tr>\n      <th>132</th>\n      <td>Routescanner</td>\n      <td>2022-10-31</td>\n      <td>ARBUE</td>\n      <td>BEANR</td>\n      <td>&lt;NA&gt;</td>\n      <td>Port of Buenos Aires</td>\n      <td>Port of Antwerp</td>\n      <td>&lt;NA&gt;</td>\n      <td>&lt;NA&gt;</td>\n      <td>&lt;NA&gt;</td>\n      <td>...</td>\n      <td>&lt;NA&gt;</td>\n      <td>&lt;NA&gt;</td>\n      <td>&lt;NA&gt;</td>\n      <td>869.45</td>\n      <td>[{'origin': {'type': 'locode', 'name': 'Port o...</td>\n      <td>{'lat': 51.249596, 'lng': 4.407942}</td>\n      <td>{'lat': -34.584968, 'lng': -58.360374}</td>\n      <td>15</td>\n      <td>11873645</td>\n      <td>1120</td>\n    </tr>\n    <tr>\n      <th>133</th>\n      <td>Routescanner</td>\n      <td>2022-10-31</td>\n      <td>ARBUE</td>\n      <td>BEANR</td>\n      <td>&lt;NA&gt;</td>\n      <td>Port of Buenos Aires</td>\n      <td>Port of Antwerp</td>\n      <td>&lt;NA&gt;</td>\n      <td>&lt;NA&gt;</td>\n      <td>&lt;NA&gt;</td>\n      <td>...</td>\n      <td>&lt;NA&gt;</td>\n      <td>&lt;NA&gt;</td>\n      <td>&lt;NA&gt;</td>\n      <td>784.0</td>\n      <td>[{'origin': {'uuid': '08324382-ad10-41c2-86c8-...</td>\n      <td>{'lat': 51.249596, 'lng': 4.407942}</td>\n      <td>{'lat': -34.584968, 'lng': -58.360374}</td>\n      <td>15</td>\n      <td>13991292</td>\n      <td>1130</td>\n    </tr>\n  </tbody>\n</table>\n<p>10 rows × 32 columns</p>\n</div>"
     },
     "execution_count": 3,
     "metadata": {},
     "output_type": "execute_result"
    }
   ],
   "source": [
    "# Combine the dataframes. The column names are the same, some may have additional columns. Each row is a connection that was found by either MSC or Routescanner and should be in the combined dataframe.\n",
    "df = pd.concat([msc, routescanner], axis=\"index\", join=\"outer\")\n",
    "df.sort_values(by=['ScrapingDate', 'Origin', 'Destination'], inplace=True)\n",
    "df.head(10)"
   ],
   "metadata": {
    "collapsed": false,
    "ExecuteTime": {
     "start_time": "2023-04-20T12:49:45.548657Z",
     "end_time": "2023-04-20T12:49:45.812328Z"
    }
   }
  },
  {
   "cell_type": "code",
   "execution_count": 4,
   "outputs": [],
   "source": [
    "# Save the combined dataframe to a pickle file.\n",
    "filename = \"all_connections_combined\"\n",
    "df.to_pickle(f\"../pickles/{filename}.pickle\")\n",
    "df.to_csv(f\"../data/{filename}.csv\")"
   ],
   "metadata": {
    "collapsed": false,
    "ExecuteTime": {
     "start_time": "2023-04-20T12:49:45.813294Z",
     "end_time": "2023-04-20T12:50:10.532575Z"
    }
   }
  },
  {
   "cell_type": "code",
   "execution_count": 5,
   "outputs": [
    {
     "data": {
      "text/plain": "   ScrapingSite ScrapingDate Origin Destination     MaritimeServiceName   \n22          MSC   2022-10-31  ARBUE       BEANR  NWC TO SAEC - STRING I  \\\n23          MSC   2022-10-31  ARBUE       BEANR  NWC TO SAEC - STRING I   \n24          MSC   2022-10-31  ARBUE       BEANR  NWC TO SAEC - STRING I   \n\n      OriginName DestinationName  RouteHeaderId  PortOfLoadId   \n22  BUENOS AIRES         ANTWERP        1791055           512  \\\n23  BUENOS AIRES         ANTWERP        1791055           512   \n24  BUENOS AIRES         ANTWERP        1791055           512   \n\n    PortOfDischargeId  ...  VesselName  DepartureVoyageNo   \n22                481  ...       CZECH             NA244R  \\\n23                481  ...  MSC ATHENS             NA245R   \n24                481  ...   MSC PALAK             NA246R   \n\n   EstimatedTotalTransitTimeDays EstimatedTotalTransitTimeHours   \n22                       32 days                          768.0  \\\n23                       38 days                          912.0   \n24                       38 days                          912.0   \n\n                                                 Legs destination_location   \n22  [{'LegSequence': 1, 'SingleLegOnly': True, 'La...                  NaN  \\\n23  [{'LegSequence': 1, 'SingleLegOnly': True, 'La...                  NaN   \n24  [{'LegSequence': 1, 'SingleLegOnly': True, 'La...                  NaN   \n\n    origin_location totalResults TotalDistanceMeters totalCo2EmissionsInKg  \n22              NaN         <NA>                <NA>                  <NA>  \n23              NaN         <NA>                <NA>                  <NA>  \n24              NaN         <NA>                <NA>                  <NA>  \n\n[3 rows x 32 columns]",
      "text/html": "<div>\n<style scoped>\n    .dataframe tbody tr th:only-of-type {\n        vertical-align: middle;\n    }\n\n    .dataframe tbody tr th {\n        vertical-align: top;\n    }\n\n    .dataframe thead th {\n        text-align: right;\n    }\n</style>\n<table border=\"1\" class=\"dataframe\">\n  <thead>\n    <tr style=\"text-align: right;\">\n      <th></th>\n      <th>ScrapingSite</th>\n      <th>ScrapingDate</th>\n      <th>Origin</th>\n      <th>Destination</th>\n      <th>MaritimeServiceName</th>\n      <th>OriginName</th>\n      <th>DestinationName</th>\n      <th>RouteHeaderId</th>\n      <th>PortOfLoadId</th>\n      <th>PortOfDischargeId</th>\n      <th>...</th>\n      <th>VesselName</th>\n      <th>DepartureVoyageNo</th>\n      <th>EstimatedTotalTransitTimeDays</th>\n      <th>EstimatedTotalTransitTimeHours</th>\n      <th>Legs</th>\n      <th>destination_location</th>\n      <th>origin_location</th>\n      <th>totalResults</th>\n      <th>TotalDistanceMeters</th>\n      <th>totalCo2EmissionsInKg</th>\n    </tr>\n  </thead>\n  <tbody>\n    <tr>\n      <th>22</th>\n      <td>MSC</td>\n      <td>2022-10-31</td>\n      <td>ARBUE</td>\n      <td>BEANR</td>\n      <td>NWC TO SAEC - STRING I</td>\n      <td>BUENOS AIRES</td>\n      <td>ANTWERP</td>\n      <td>1791055</td>\n      <td>512</td>\n      <td>481</td>\n      <td>...</td>\n      <td>CZECH</td>\n      <td>NA244R</td>\n      <td>32 days</td>\n      <td>768.0</td>\n      <td>[{'LegSequence': 1, 'SingleLegOnly': True, 'La...</td>\n      <td>NaN</td>\n      <td>NaN</td>\n      <td>&lt;NA&gt;</td>\n      <td>&lt;NA&gt;</td>\n      <td>&lt;NA&gt;</td>\n    </tr>\n    <tr>\n      <th>23</th>\n      <td>MSC</td>\n      <td>2022-10-31</td>\n      <td>ARBUE</td>\n      <td>BEANR</td>\n      <td>NWC TO SAEC - STRING I</td>\n      <td>BUENOS AIRES</td>\n      <td>ANTWERP</td>\n      <td>1791055</td>\n      <td>512</td>\n      <td>481</td>\n      <td>...</td>\n      <td>MSC ATHENS</td>\n      <td>NA245R</td>\n      <td>38 days</td>\n      <td>912.0</td>\n      <td>[{'LegSequence': 1, 'SingleLegOnly': True, 'La...</td>\n      <td>NaN</td>\n      <td>NaN</td>\n      <td>&lt;NA&gt;</td>\n      <td>&lt;NA&gt;</td>\n      <td>&lt;NA&gt;</td>\n    </tr>\n    <tr>\n      <th>24</th>\n      <td>MSC</td>\n      <td>2022-10-31</td>\n      <td>ARBUE</td>\n      <td>BEANR</td>\n      <td>NWC TO SAEC - STRING I</td>\n      <td>BUENOS AIRES</td>\n      <td>ANTWERP</td>\n      <td>1791055</td>\n      <td>512</td>\n      <td>481</td>\n      <td>...</td>\n      <td>MSC PALAK</td>\n      <td>NA246R</td>\n      <td>38 days</td>\n      <td>912.0</td>\n      <td>[{'LegSequence': 1, 'SingleLegOnly': True, 'La...</td>\n      <td>NaN</td>\n      <td>NaN</td>\n      <td>&lt;NA&gt;</td>\n      <td>&lt;NA&gt;</td>\n      <td>&lt;NA&gt;</td>\n    </tr>\n  </tbody>\n</table>\n<p>3 rows × 32 columns</p>\n</div>"
     },
     "execution_count": 5,
     "metadata": {},
     "output_type": "execute_result"
    }
   ],
   "source": [
    "pd.read_pickle('../pickles/all_connections_combined.pickle').head(3)"
   ],
   "metadata": {
    "collapsed": false,
    "ExecuteTime": {
     "start_time": "2023-04-20T12:50:10.532575Z",
     "end_time": "2023-04-20T12:50:24.002236Z"
    }
   }
  }
 ],
 "metadata": {
  "kernelspec": {
   "display_name": "Python 3",
   "language": "python",
   "name": "python3"
  },
  "language_info": {
   "codemirror_mode": {
    "name": "ipython",
    "version": 2
   },
   "file_extension": ".py",
   "mimetype": "text/x-python",
   "name": "python",
   "nbconvert_exporter": "python",
   "pygments_lexer": "ipython2",
   "version": "2.7.6"
  }
 },
 "nbformat": 4,
 "nbformat_minor": 0
}
