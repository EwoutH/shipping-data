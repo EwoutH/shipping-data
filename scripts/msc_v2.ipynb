{
 "cells": [
  {
   "cell_type": "markdown",
   "source": [
    "### Merge daily dataframes to one single dataframe"
   ],
   "metadata": {
    "collapsed": false
   }
  },
  {
   "cell_type": "code",
   "execution_count": 1,
   "outputs": [],
   "source": [
    "# Imports\n",
    "import pandas as pd\n",
    "import pickle"
   ],
   "metadata": {
    "collapsed": false,
    "ExecuteTime": {
     "start_time": "2023-04-02T18:36:59.121633Z",
     "end_time": "2023-04-02T18:36:59.408673Z"
    }
   }
  },
  {
   "cell_type": "code",
   "execution_count": 2,
   "outputs": [
    {
     "name": "stdout",
     "output_type": "stream",
     "text": [
      "133 dates included (2022-10-31 to 2023-03-12).\n"
     ]
    }
   ],
   "source": [
    "# Define the date range\n",
    "start_date = '2022-10-31'\n",
    "end_date = '2023-03-12'\n",
    "\n",
    "# Create a list of dates in YYYY-MM-DD format\n",
    "dates = pd.date_range(start_date, end_date).strftime(\"%Y-%m-%d\").tolist()\n",
    "print(f\"{len(dates)} dates included ({start_date} to {end_date}).\")"
   ],
   "metadata": {
    "collapsed": false,
    "ExecuteTime": {
     "start_time": "2023-04-02T18:36:59.408673Z",
     "end_time": "2023-04-02T18:36:59.414414Z"
    }
   }
  },
  {
   "cell_type": "markdown",
   "source": [
    "#### Read the pickle files as dicts and add them to a list"
   ],
   "metadata": {
    "collapsed": false
   }
  },
  {
   "cell_type": "code",
   "execution_count": 3,
   "outputs": [
    {
     "name": "stdout",
     "output_type": "stream",
     "text": [
      "Data for 2022-11-10 missing!\n",
      "Data for 2022-11-23 missing!\n",
      "Data for 2022-11-24 missing!\n",
      "Data for 2022-11-25 missing!\n",
      "Data for 2022-11-26 missing!\n",
      "Data for 2022-11-27 missing!\n",
      "Data for 2022-11-28 missing!\n",
      "Data for 2022-12-14 missing!\n",
      "Data for 2023-02-07 missing!\n",
      "Data for 2023-03-09 missing!\n"
     ]
    }
   ],
   "source": [
    "# Loop through the dates and read the pickle files. Each pickle file contains a list of dictionaries, each dictionary contains the details of one route.\n",
    "processed_list = []\n",
    "missing = 0\n",
    "for date in dates:\n",
    "    # Read the pickle for each date. It contains a list of dictionaries, each dictionary contains the details of one harbor combination.\n",
    "    try:\n",
    "        with open(f'../pickles/msc_daily_v2/connections_{date}.pickle', 'rb') as f:\n",
    "            results_list = pickle.load(f)\n",
    "    except:\n",
    "        missing += 1\n",
    "        print(f\"Data for {date} missing!\")\n",
    "\n",
    "    # Unpack the list of dictionaries. Each dictionary contains the details of one route. The \"Key\" key contains another dictionary with the route details. Flatten it into the main dictionary. Put the new items at the beginning of the dictionary.\n",
    "    for result in results_list:\n",
    "        # Flatten the information in the \"Keys\" dictionary.\n",
    "        result = (result['Key'] | result)\n",
    "        result.pop('Key')\n",
    "\n",
    "        # Create a dictionary with the details that's identical for all routes in the list.\n",
    "        non_route_specific_results = result.copy()\n",
    "        non_route_specific_results.pop(\"Routes\")\n",
    "\n",
    "        # Loop through the list of routes, create a new dictionary for each route and append it to the list.\n",
    "        routes_details_list = result['Routes']\n",
    "        for route in routes_details_list:\n",
    "            # Merge the non-route-specific details with the route-specific details.\n",
    "            new_dict = non_route_specific_results.copy()\n",
    "            new_dict[\"NumberOfLegs\"] = len(route[\"RouteScheduleLegDetails\"])\n",
    "            new_dict = (new_dict | route)\n",
    "            new_dict[\"ScrapingDate\"] = date\n",
    "            processed_list.append(new_dict)"
   ],
   "metadata": {
    "collapsed": false,
    "ExecuteTime": {
     "start_time": "2023-04-02T18:36:59.414414Z",
     "end_time": "2023-04-02T18:37:02.409329Z"
    }
   }
  },
  {
   "cell_type": "markdown",
   "source": [
    "#### Create a single dataframe from the list of dictionaries"
   ],
   "metadata": {
    "collapsed": false
   }
  },
  {
   "cell_type": "code",
   "execution_count": 4,
   "outputs": [
    {
     "name": "stdout",
     "output_type": "stream",
     "text": [
      "Total number of routes: 126918, spread over 123 days.\n",
      "91353 identical rows dropped, 71.98% of the total number of rows, with 35565 remaining.\n"
     ]
    }
   ],
   "source": [
    "# Create a dataframe from the list of dictionaries\n",
    "df = pd.DataFrame(processed_list)\n",
    "\n",
    "# Drop the duplicate PortOfLoadUnCode and PortOfDischargeUnCode columns.\n",
    "df = df.drop(columns=[\"PortOfLoadUnCode\", \"PortOfDischargeUnCode\", \"PortOfLoad\", \"EstimatedDepartureTime\", \"EstimatedDepartureTimeFormatted\"])\n",
    "\n",
    "# Move the second last and third last columns to the beginning of the dataframe\n",
    "cols = df.columns.tolist()\n",
    "cols = [cols[-1]] + cols[-3:-1] + cols[:-3]\n",
    "df = df[cols]\n",
    "\n",
    "print(f\"Total number of routes: {len(df)}, spread over {len(dates)-missing} days.\")\n",
    "\n",
    "# Assign the optimal data types to the columns.\n",
    "df = df.convert_dtypes()\n",
    "\n",
    "# Drop rows which are identical, except for the ScrapingDate column.\n",
    "rows_before = len(df)\n",
    "columns_to_check = [col for col in df.columns.to_list() if col not in [\"ScrapingDate\", \"CutOffs\", \"RouteScheduleLegDetails\"]]\n",
    "\n",
    "df = df.drop_duplicates(subset=columns_to_check, keep='first')\n",
    "\n",
    "# Print the number of identical rows dropped.\n",
    "print(f\"{rows_before - len(df)} identical rows dropped, {1-(len(df)/rows_before):.2%} of the total number of rows, with {len(df)} remaining.\")"
   ],
   "metadata": {
    "collapsed": false,
    "ExecuteTime": {
     "start_time": "2023-04-02T18:37:02.409329Z",
     "end_time": "2023-04-02T18:37:03.393386Z"
    }
   }
  },
  {
   "cell_type": "markdown",
   "source": [
    "#### Rename columns\n",
    "Translate column names following https://docs.google.com/spreadsheets/d/1MkXMOXTt2jIEqUUjSN4Zx1sN-ISponH9DnHL_O1X_l4/edit#gid=412081908"
   ],
   "metadata": {
    "collapsed": false
   }
  },
  {
   "cell_type": "code",
   "execution_count": 5,
   "outputs": [
    {
     "data": {
      "text/plain": "       Combined       Format_unit       Maersk            MSC   \n0  ScrapingDate  str (YYYY-MM-DD)          NaN   ScrapingDate  \\\n1  ScrapingSite        Name (str)       Maersk            MSC   \n2        Origin   UNLOCCODE (str)       Origin         Origin   \n3   Destination   UNLOCCODE (str)  Destination    Destination   \n4    OriginName               str          NaN  PortOfLoading   \n\n         Routescanner  \n0        ScrapingDate  \n1        Routescanner  \n2       origin_locode  \n3  destination_locode  \n4         origin_name  ",
      "text/html": "<div>\n<style scoped>\n    .dataframe tbody tr th:only-of-type {\n        vertical-align: middle;\n    }\n\n    .dataframe tbody tr th {\n        vertical-align: top;\n    }\n\n    .dataframe thead th {\n        text-align: right;\n    }\n</style>\n<table border=\"1\" class=\"dataframe\">\n  <thead>\n    <tr style=\"text-align: right;\">\n      <th></th>\n      <th>Combined</th>\n      <th>Format_unit</th>\n      <th>Maersk</th>\n      <th>MSC</th>\n      <th>Routescanner</th>\n    </tr>\n  </thead>\n  <tbody>\n    <tr>\n      <th>0</th>\n      <td>ScrapingDate</td>\n      <td>str (YYYY-MM-DD)</td>\n      <td>NaN</td>\n      <td>ScrapingDate</td>\n      <td>ScrapingDate</td>\n    </tr>\n    <tr>\n      <th>1</th>\n      <td>ScrapingSite</td>\n      <td>Name (str)</td>\n      <td>Maersk</td>\n      <td>MSC</td>\n      <td>Routescanner</td>\n    </tr>\n    <tr>\n      <th>2</th>\n      <td>Origin</td>\n      <td>UNLOCCODE (str)</td>\n      <td>Origin</td>\n      <td>Origin</td>\n      <td>origin_locode</td>\n    </tr>\n    <tr>\n      <th>3</th>\n      <td>Destination</td>\n      <td>UNLOCCODE (str)</td>\n      <td>Destination</td>\n      <td>Destination</td>\n      <td>destination_locode</td>\n    </tr>\n    <tr>\n      <th>4</th>\n      <td>OriginName</td>\n      <td>str</td>\n      <td>NaN</td>\n      <td>PortOfLoading</td>\n      <td>origin_name</td>\n    </tr>\n  </tbody>\n</table>\n</div>"
     },
     "execution_count": 5,
     "metadata": {},
     "output_type": "execute_result"
    }
   ],
   "source": [
    "# Read translation table from Google Sheets\n",
    "SHEET_ID = '1MkXMOXTt2jIEqUUjSN4Zx1sN-ISponH9DnHL_O1X_l4'\n",
    "SHEET_NAME = 'Combined'\n",
    "url = f'https://docs.google.com/spreadsheets/d/{SHEET_ID}/gviz/tq?tqx=out:csv&sheet={SHEET_NAME}'\n",
    "name_df = pd.read_csv(url, header=0, on_bad_lines='skip')\n",
    "name_df.head()"
   ],
   "metadata": {
    "collapsed": false,
    "ExecuteTime": {
     "start_time": "2023-04-02T18:37:03.393386Z",
     "end_time": "2023-04-02T18:37:04.046396Z"
    }
   }
  },
  {
   "cell_type": "code",
   "execution_count": 6,
   "outputs": [
    {
     "data": {
      "text/plain": "  ScrapingDate Origin Destination MaritimeServiceName    OriginName   \n0   2022-10-31  CLARI       BEANR       LLAMA SERVICE         ARICA  \\\n1   2022-10-31  CLARI       BEANR       LLAMA SERVICE         ARICA   \n2   2022-10-31  CLARI       NLRTM       LLAMA SERVICE         ARICA   \n3   2022-10-31  CLARI       NLRTM       LLAMA SERVICE         ARICA   \n4   2022-10-31  COBUN       BEANR               AZTEC  BUENAVENTURA   \n\n  DestinationName  RouteHeaderId  PortOfLoadId  PortOfDischargeId TransitTime   \n0         ANTWERP        1857438           456                481     34 days  \\\n1         ANTWERP        1857438           456                481     34 days   \n2       ROTTERDAM        1857439           456                208     33 days   \n3       ROTTERDAM        1857439           456                208     33 days   \n4         ANTWERP        1856444           451                481     26 days   \n\n   ...                                            CutOffs   \n0  ...  {'ContainerYardCutOffDate': 'Mon 31st Oct 2022...  \\\n1  ...  {'ContainerYardCutOffDate': '', 'ReeferCutOffD...   \n2  ...  {'ContainerYardCutOffDate': 'Mon 31st Oct 2022...   \n3  ...  {'ContainerYardCutOffDate': '', 'ReeferCutOffD...   \n4  ...  {'ContainerYardCutOffDate': 'Wed 2nd Nov 2022 ...   \n\n  EstimatedDepartureDateFormatted EstimatedDepartureTime   \n0                Thu 3rd Nov 2022    2022-11-03T23:30:00  \\\n1               Fri 11th Nov 2022    2022-11-11T08:00:00   \n2                Thu 3rd Nov 2022    2022-11-03T23:30:00   \n3               Fri 11th Nov 2022    2022-11-11T08:00:00   \n4                Sun 6th Nov 2022    2022-11-06T22:00:00   \n\n   EstimatedArrivalDateFormatted EstimatedArrivalTime      VesselName   \n0               Tue 6th Dec 2022  2022-12-06T16:15:00  MSC BALTIC III  \\\n1               Wed 7th Dec 2022  2022-12-07T11:00:00  MSC BALTIC III   \n2               Mon 5th Dec 2022  2022-12-05T05:15:00  MSC BALTIC III   \n3               Fri 9th Dec 2022  2022-12-09T01:15:00  MSC BALTIC III   \n4               Tue 6th Dec 2022  2022-12-06T16:15:00         VANTAGE   \n\n  DepartureVoyageNo EstimatedTotalTransitTimeDays   \n0            PM243R                       33 days  \\\n1            PM244R                       26 days   \n2            PM243R                       32 days   \n3            PM244R                       28 days   \n4             2237W                       30 days   \n\n  EstimatedTotalTransitTimeHours   \n0                            792  \\\n1                            624   \n2                            768   \n3                            672   \n4                            720   \n\n                                                Legs  \n0  [{'LegSequence': 1, 'SingleLegOnly': False, 'L...  \n1  [{'LegSequence': 1, 'SingleLegOnly': False, 'L...  \n2  [{'LegSequence': 1, 'SingleLegOnly': False, 'L...  \n3  [{'LegSequence': 1, 'SingleLegOnly': False, 'L...  \n4  [{'LegSequence': 1, 'SingleLegOnly': False, 'L...  \n\n[5 rows x 26 columns]",
      "text/html": "<div>\n<style scoped>\n    .dataframe tbody tr th:only-of-type {\n        vertical-align: middle;\n    }\n\n    .dataframe tbody tr th {\n        vertical-align: top;\n    }\n\n    .dataframe thead th {\n        text-align: right;\n    }\n</style>\n<table border=\"1\" class=\"dataframe\">\n  <thead>\n    <tr style=\"text-align: right;\">\n      <th></th>\n      <th>ScrapingDate</th>\n      <th>Origin</th>\n      <th>Destination</th>\n      <th>MaritimeServiceName</th>\n      <th>OriginName</th>\n      <th>DestinationName</th>\n      <th>RouteHeaderId</th>\n      <th>PortOfLoadId</th>\n      <th>PortOfDischargeId</th>\n      <th>TransitTime</th>\n      <th>...</th>\n      <th>CutOffs</th>\n      <th>EstimatedDepartureDateFormatted</th>\n      <th>EstimatedDepartureTime</th>\n      <th>EstimatedArrivalDateFormatted</th>\n      <th>EstimatedArrivalTime</th>\n      <th>VesselName</th>\n      <th>DepartureVoyageNo</th>\n      <th>EstimatedTotalTransitTimeDays</th>\n      <th>EstimatedTotalTransitTimeHours</th>\n      <th>Legs</th>\n    </tr>\n  </thead>\n  <tbody>\n    <tr>\n      <th>0</th>\n      <td>2022-10-31</td>\n      <td>CLARI</td>\n      <td>BEANR</td>\n      <td>LLAMA SERVICE</td>\n      <td>ARICA</td>\n      <td>ANTWERP</td>\n      <td>1857438</td>\n      <td>456</td>\n      <td>481</td>\n      <td>34 days</td>\n      <td>...</td>\n      <td>{'ContainerYardCutOffDate': 'Mon 31st Oct 2022...</td>\n      <td>Thu 3rd Nov 2022</td>\n      <td>2022-11-03T23:30:00</td>\n      <td>Tue 6th Dec 2022</td>\n      <td>2022-12-06T16:15:00</td>\n      <td>MSC BALTIC III</td>\n      <td>PM243R</td>\n      <td>33 days</td>\n      <td>792</td>\n      <td>[{'LegSequence': 1, 'SingleLegOnly': False, 'L...</td>\n    </tr>\n    <tr>\n      <th>1</th>\n      <td>2022-10-31</td>\n      <td>CLARI</td>\n      <td>BEANR</td>\n      <td>LLAMA SERVICE</td>\n      <td>ARICA</td>\n      <td>ANTWERP</td>\n      <td>1857438</td>\n      <td>456</td>\n      <td>481</td>\n      <td>34 days</td>\n      <td>...</td>\n      <td>{'ContainerYardCutOffDate': '', 'ReeferCutOffD...</td>\n      <td>Fri 11th Nov 2022</td>\n      <td>2022-11-11T08:00:00</td>\n      <td>Wed 7th Dec 2022</td>\n      <td>2022-12-07T11:00:00</td>\n      <td>MSC BALTIC III</td>\n      <td>PM244R</td>\n      <td>26 days</td>\n      <td>624</td>\n      <td>[{'LegSequence': 1, 'SingleLegOnly': False, 'L...</td>\n    </tr>\n    <tr>\n      <th>2</th>\n      <td>2022-10-31</td>\n      <td>CLARI</td>\n      <td>NLRTM</td>\n      <td>LLAMA SERVICE</td>\n      <td>ARICA</td>\n      <td>ROTTERDAM</td>\n      <td>1857439</td>\n      <td>456</td>\n      <td>208</td>\n      <td>33 days</td>\n      <td>...</td>\n      <td>{'ContainerYardCutOffDate': 'Mon 31st Oct 2022...</td>\n      <td>Thu 3rd Nov 2022</td>\n      <td>2022-11-03T23:30:00</td>\n      <td>Mon 5th Dec 2022</td>\n      <td>2022-12-05T05:15:00</td>\n      <td>MSC BALTIC III</td>\n      <td>PM243R</td>\n      <td>32 days</td>\n      <td>768</td>\n      <td>[{'LegSequence': 1, 'SingleLegOnly': False, 'L...</td>\n    </tr>\n    <tr>\n      <th>3</th>\n      <td>2022-10-31</td>\n      <td>CLARI</td>\n      <td>NLRTM</td>\n      <td>LLAMA SERVICE</td>\n      <td>ARICA</td>\n      <td>ROTTERDAM</td>\n      <td>1857439</td>\n      <td>456</td>\n      <td>208</td>\n      <td>33 days</td>\n      <td>...</td>\n      <td>{'ContainerYardCutOffDate': '', 'ReeferCutOffD...</td>\n      <td>Fri 11th Nov 2022</td>\n      <td>2022-11-11T08:00:00</td>\n      <td>Fri 9th Dec 2022</td>\n      <td>2022-12-09T01:15:00</td>\n      <td>MSC BALTIC III</td>\n      <td>PM244R</td>\n      <td>28 days</td>\n      <td>672</td>\n      <td>[{'LegSequence': 1, 'SingleLegOnly': False, 'L...</td>\n    </tr>\n    <tr>\n      <th>4</th>\n      <td>2022-10-31</td>\n      <td>COBUN</td>\n      <td>BEANR</td>\n      <td>AZTEC</td>\n      <td>BUENAVENTURA</td>\n      <td>ANTWERP</td>\n      <td>1856444</td>\n      <td>451</td>\n      <td>481</td>\n      <td>26 days</td>\n      <td>...</td>\n      <td>{'ContainerYardCutOffDate': 'Wed 2nd Nov 2022 ...</td>\n      <td>Sun 6th Nov 2022</td>\n      <td>2022-11-06T22:00:00</td>\n      <td>Tue 6th Dec 2022</td>\n      <td>2022-12-06T16:15:00</td>\n      <td>VANTAGE</td>\n      <td>2237W</td>\n      <td>30 days</td>\n      <td>720</td>\n      <td>[{'LegSequence': 1, 'SingleLegOnly': False, 'L...</td>\n    </tr>\n  </tbody>\n</table>\n<p>5 rows × 26 columns</p>\n</div>"
     },
     "execution_count": 6,
     "metadata": {},
     "output_type": "execute_result"
    }
   ],
   "source": [
    "# Create a dictionary with the MSC values as keys and the Combined values as values.\n",
    "name_dict = dict(zip(name_df['MSC'], name_df['Combined']))\n",
    "\n",
    "# Rename the columns of df using the dictionary.\n",
    "df = df.rename(columns=name_dict)\n",
    "df.head()"
   ],
   "metadata": {
    "collapsed": false,
    "ExecuteTime": {
     "start_time": "2023-04-02T18:37:04.046396Z",
     "end_time": "2023-04-02T18:37:04.091951Z"
    }
   }
  },
  {
   "cell_type": "markdown",
   "source": [
    "#### Save the dataframe"
   ],
   "metadata": {
    "collapsed": false
   }
  },
  {
   "cell_type": "code",
   "execution_count": 7,
   "outputs": [],
   "source": [
    "# Save the dataframe to a pickle file.\n",
    "filename = \"msc_v2_connections_combined\"\n",
    "df.to_pickle(f\"../pickles/{filename}.pickle\")\n",
    "df.to_csv(f\"../data/{filename}.csv\")"
   ],
   "metadata": {
    "collapsed": false,
    "ExecuteTime": {
     "start_time": "2023-04-02T18:37:04.091951Z",
     "end_time": "2023-04-02T18:37:06.766168Z"
    }
   }
  },
  {
   "cell_type": "code",
   "execution_count": 8,
   "outputs": [
    {
     "data": {
      "text/plain": "       ScrapingDate Origin Destination MaritimeServiceName    OriginName   \n0        2022-10-31  CLARI       BEANR       LLAMA SERVICE         ARICA  \\\n1        2022-10-31  CLARI       BEANR       LLAMA SERVICE         ARICA   \n2        2022-10-31  CLARI       NLRTM       LLAMA SERVICE         ARICA   \n3        2022-10-31  CLARI       NLRTM       LLAMA SERVICE         ARICA   \n4        2022-10-31  COBUN       BEANR               AZTEC  BUENAVENTURA   \n...             ...    ...         ...                 ...           ...   \n126881   2023-03-12  VNVUT       NLRTM         NEW ORIGAMI      VUNG TAU   \n126889   2023-03-12  VNVUT       BEZEE         NEW ORIGAMI      VUNG TAU   \n126898   2023-03-12  ARZAE       BEANR   COMMERCIAL FEEDER        ZARATE   \n126907   2023-03-12  ARZAE       NLRTM   COMMERCIAL FEEDER        ZARATE   \n126917   2023-03-12  ARZAE       BEZEE   COMMERCIAL FEEDER        ZARATE   \n\n       DestinationName  RouteHeaderId  PortOfLoadId  PortOfDischargeId   \n0              ANTWERP        1857438           456                481  \\\n1              ANTWERP        1857438           456                481   \n2            ROTTERDAM        1857439           456                208   \n3            ROTTERDAM        1857439           456                208   \n4              ANTWERP        1856444           451                481   \n...                ...            ...           ...                ...   \n126881       ROTTERDAM        2028443          1292                208   \n126889       ZEEBRUGGE        2302478          1292                589   \n126898         ANTWERP        2262776           938                481   \n126907       ROTTERDAM        2262674           938                208   \n126917       ZEEBRUGGE        2400279           938                589   \n\n       TransitTime  ...                                            CutOffs   \n0          34 days  ...  {'ContainerYardCutOffDate': 'Mon 31st Oct 2022...  \\\n1          34 days  ...  {'ContainerYardCutOffDate': '', 'ReeferCutOffD...   \n2          33 days  ...  {'ContainerYardCutOffDate': 'Mon 31st Oct 2022...   \n3          33 days  ...  {'ContainerYardCutOffDate': '', 'ReeferCutOffD...   \n4          26 days  ...  {'ContainerYardCutOffDate': 'Wed 2nd Nov 2022 ...   \n...            ...  ...                                                ...   \n126881     27 days  ...  {'ContainerYardCutOffDate': '', 'ReeferCutOffD...   \n126889     38 days  ...  {'ContainerYardCutOffDate': '', 'ReeferCutOffD...   \n126898     42 days  ...  {'ContainerYardCutOffDate': '', 'ReeferCutOffD...   \n126907     34 days  ...  {'ContainerYardCutOffDate': '', 'ReeferCutOffD...   \n126917     44 days  ...  {'ContainerYardCutOffDate': '', 'ReeferCutOffD...   \n\n       EstimatedDepartureDateFormatted EstimatedDepartureTime   \n0                     Thu 3rd Nov 2022    2022-11-03T23:30:00  \\\n1                    Fri 11th Nov 2022    2022-11-11T08:00:00   \n2                     Thu 3rd Nov 2022    2022-11-03T23:30:00   \n3                    Fri 11th Nov 2022    2022-11-11T08:00:00   \n4                     Sun 6th Nov 2022    2022-11-06T22:00:00   \n...                                ...                    ...   \n126881                Sun 7th May 2023    2023-05-07T18:45:00   \n126889                Sun 7th May 2023    2023-05-07T18:45:00   \n126898                Sun 7th May 2023    2023-05-07T20:00:00   \n126907                Sun 7th May 2023    2023-05-07T20:00:00   \n126917                Sun 7th May 2023    2023-05-07T20:00:00   \n\n        EstimatedArrivalDateFormatted EstimatedArrivalTime      VesselName   \n0                    Tue 6th Dec 2022  2022-12-06T16:15:00  MSC BALTIC III  \\\n1                    Wed 7th Dec 2022  2022-12-07T11:00:00  MSC BALTIC III   \n2                    Mon 5th Dec 2022  2022-12-05T05:15:00  MSC BALTIC III   \n3                    Fri 9th Dec 2022  2022-12-09T01:15:00  MSC BALTIC III   \n4                    Tue 6th Dec 2022  2022-12-06T16:15:00         VANTAGE   \n...                               ...                  ...             ...   \n126881               Fri 2nd Jun 2023  2023-06-02T09:00:00   MSC MATILDE V   \n126889              Tue 13th Jun 2023  2023-06-13T04:00:00   MSC MATILDE V   \n126898              Sun 18th Jun 2023  2023-06-18T04:00:00             TBN   \n126907               Fri 9th Jun 2023  2023-06-09T17:00:00             TBN   \n126917              Tue 20th Jun 2023  2023-06-20T04:00:00             TBN   \n\n       DepartureVoyageNo EstimatedTotalTransitTimeDays   \n0                 PM243R                       33 days  \\\n1                 PM244R                       26 days   \n2                 PM243R                       32 days   \n3                 PM244R                       28 days   \n4                  2237W                       30 days   \n...                  ...                           ...   \n126881            HI317A                       26 days   \n126889            HI317A                       37 days   \n126898               TBN                       42 days   \n126907               TBN                       34 days   \n126917               TBN                       44 days   \n\n       EstimatedTotalTransitTimeHours   \n0                                 792  \\\n1                                 624   \n2                                 768   \n3                                 672   \n4                                 720   \n...                               ...   \n126881                            624   \n126889                            888   \n126898                           1008   \n126907                            816   \n126917                           1056   \n\n                                                     Legs  \n0       [{'LegSequence': 1, 'SingleLegOnly': False, 'L...  \n1       [{'LegSequence': 1, 'SingleLegOnly': False, 'L...  \n2       [{'LegSequence': 1, 'SingleLegOnly': False, 'L...  \n3       [{'LegSequence': 1, 'SingleLegOnly': False, 'L...  \n4       [{'LegSequence': 1, 'SingleLegOnly': False, 'L...  \n...                                                   ...  \n126881  [{'LegSequence': 1, 'SingleLegOnly': False, 'L...  \n126889  [{'LegSequence': 1, 'SingleLegOnly': False, 'L...  \n126898  [{'LegSequence': 1, 'SingleLegOnly': False, 'L...  \n126907  [{'LegSequence': 1, 'SingleLegOnly': False, 'L...  \n126917  [{'LegSequence': 1, 'SingleLegOnly': False, 'L...  \n\n[35565 rows x 26 columns]",
      "text/html": "<div>\n<style scoped>\n    .dataframe tbody tr th:only-of-type {\n        vertical-align: middle;\n    }\n\n    .dataframe tbody tr th {\n        vertical-align: top;\n    }\n\n    .dataframe thead th {\n        text-align: right;\n    }\n</style>\n<table border=\"1\" class=\"dataframe\">\n  <thead>\n    <tr style=\"text-align: right;\">\n      <th></th>\n      <th>ScrapingDate</th>\n      <th>Origin</th>\n      <th>Destination</th>\n      <th>MaritimeServiceName</th>\n      <th>OriginName</th>\n      <th>DestinationName</th>\n      <th>RouteHeaderId</th>\n      <th>PortOfLoadId</th>\n      <th>PortOfDischargeId</th>\n      <th>TransitTime</th>\n      <th>...</th>\n      <th>CutOffs</th>\n      <th>EstimatedDepartureDateFormatted</th>\n      <th>EstimatedDepartureTime</th>\n      <th>EstimatedArrivalDateFormatted</th>\n      <th>EstimatedArrivalTime</th>\n      <th>VesselName</th>\n      <th>DepartureVoyageNo</th>\n      <th>EstimatedTotalTransitTimeDays</th>\n      <th>EstimatedTotalTransitTimeHours</th>\n      <th>Legs</th>\n    </tr>\n  </thead>\n  <tbody>\n    <tr>\n      <th>0</th>\n      <td>2022-10-31</td>\n      <td>CLARI</td>\n      <td>BEANR</td>\n      <td>LLAMA SERVICE</td>\n      <td>ARICA</td>\n      <td>ANTWERP</td>\n      <td>1857438</td>\n      <td>456</td>\n      <td>481</td>\n      <td>34 days</td>\n      <td>...</td>\n      <td>{'ContainerYardCutOffDate': 'Mon 31st Oct 2022...</td>\n      <td>Thu 3rd Nov 2022</td>\n      <td>2022-11-03T23:30:00</td>\n      <td>Tue 6th Dec 2022</td>\n      <td>2022-12-06T16:15:00</td>\n      <td>MSC BALTIC III</td>\n      <td>PM243R</td>\n      <td>33 days</td>\n      <td>792</td>\n      <td>[{'LegSequence': 1, 'SingleLegOnly': False, 'L...</td>\n    </tr>\n    <tr>\n      <th>1</th>\n      <td>2022-10-31</td>\n      <td>CLARI</td>\n      <td>BEANR</td>\n      <td>LLAMA SERVICE</td>\n      <td>ARICA</td>\n      <td>ANTWERP</td>\n      <td>1857438</td>\n      <td>456</td>\n      <td>481</td>\n      <td>34 days</td>\n      <td>...</td>\n      <td>{'ContainerYardCutOffDate': '', 'ReeferCutOffD...</td>\n      <td>Fri 11th Nov 2022</td>\n      <td>2022-11-11T08:00:00</td>\n      <td>Wed 7th Dec 2022</td>\n      <td>2022-12-07T11:00:00</td>\n      <td>MSC BALTIC III</td>\n      <td>PM244R</td>\n      <td>26 days</td>\n      <td>624</td>\n      <td>[{'LegSequence': 1, 'SingleLegOnly': False, 'L...</td>\n    </tr>\n    <tr>\n      <th>2</th>\n      <td>2022-10-31</td>\n      <td>CLARI</td>\n      <td>NLRTM</td>\n      <td>LLAMA SERVICE</td>\n      <td>ARICA</td>\n      <td>ROTTERDAM</td>\n      <td>1857439</td>\n      <td>456</td>\n      <td>208</td>\n      <td>33 days</td>\n      <td>...</td>\n      <td>{'ContainerYardCutOffDate': 'Mon 31st Oct 2022...</td>\n      <td>Thu 3rd Nov 2022</td>\n      <td>2022-11-03T23:30:00</td>\n      <td>Mon 5th Dec 2022</td>\n      <td>2022-12-05T05:15:00</td>\n      <td>MSC BALTIC III</td>\n      <td>PM243R</td>\n      <td>32 days</td>\n      <td>768</td>\n      <td>[{'LegSequence': 1, 'SingleLegOnly': False, 'L...</td>\n    </tr>\n    <tr>\n      <th>3</th>\n      <td>2022-10-31</td>\n      <td>CLARI</td>\n      <td>NLRTM</td>\n      <td>LLAMA SERVICE</td>\n      <td>ARICA</td>\n      <td>ROTTERDAM</td>\n      <td>1857439</td>\n      <td>456</td>\n      <td>208</td>\n      <td>33 days</td>\n      <td>...</td>\n      <td>{'ContainerYardCutOffDate': '', 'ReeferCutOffD...</td>\n      <td>Fri 11th Nov 2022</td>\n      <td>2022-11-11T08:00:00</td>\n      <td>Fri 9th Dec 2022</td>\n      <td>2022-12-09T01:15:00</td>\n      <td>MSC BALTIC III</td>\n      <td>PM244R</td>\n      <td>28 days</td>\n      <td>672</td>\n      <td>[{'LegSequence': 1, 'SingleLegOnly': False, 'L...</td>\n    </tr>\n    <tr>\n      <th>4</th>\n      <td>2022-10-31</td>\n      <td>COBUN</td>\n      <td>BEANR</td>\n      <td>AZTEC</td>\n      <td>BUENAVENTURA</td>\n      <td>ANTWERP</td>\n      <td>1856444</td>\n      <td>451</td>\n      <td>481</td>\n      <td>26 days</td>\n      <td>...</td>\n      <td>{'ContainerYardCutOffDate': 'Wed 2nd Nov 2022 ...</td>\n      <td>Sun 6th Nov 2022</td>\n      <td>2022-11-06T22:00:00</td>\n      <td>Tue 6th Dec 2022</td>\n      <td>2022-12-06T16:15:00</td>\n      <td>VANTAGE</td>\n      <td>2237W</td>\n      <td>30 days</td>\n      <td>720</td>\n      <td>[{'LegSequence': 1, 'SingleLegOnly': False, 'L...</td>\n    </tr>\n    <tr>\n      <th>...</th>\n      <td>...</td>\n      <td>...</td>\n      <td>...</td>\n      <td>...</td>\n      <td>...</td>\n      <td>...</td>\n      <td>...</td>\n      <td>...</td>\n      <td>...</td>\n      <td>...</td>\n      <td>...</td>\n      <td>...</td>\n      <td>...</td>\n      <td>...</td>\n      <td>...</td>\n      <td>...</td>\n      <td>...</td>\n      <td>...</td>\n      <td>...</td>\n      <td>...</td>\n      <td>...</td>\n    </tr>\n    <tr>\n      <th>126881</th>\n      <td>2023-03-12</td>\n      <td>VNVUT</td>\n      <td>NLRTM</td>\n      <td>NEW ORIGAMI</td>\n      <td>VUNG TAU</td>\n      <td>ROTTERDAM</td>\n      <td>2028443</td>\n      <td>1292</td>\n      <td>208</td>\n      <td>27 days</td>\n      <td>...</td>\n      <td>{'ContainerYardCutOffDate': '', 'ReeferCutOffD...</td>\n      <td>Sun 7th May 2023</td>\n      <td>2023-05-07T18:45:00</td>\n      <td>Fri 2nd Jun 2023</td>\n      <td>2023-06-02T09:00:00</td>\n      <td>MSC MATILDE V</td>\n      <td>HI317A</td>\n      <td>26 days</td>\n      <td>624</td>\n      <td>[{'LegSequence': 1, 'SingleLegOnly': False, 'L...</td>\n    </tr>\n    <tr>\n      <th>126889</th>\n      <td>2023-03-12</td>\n      <td>VNVUT</td>\n      <td>BEZEE</td>\n      <td>NEW ORIGAMI</td>\n      <td>VUNG TAU</td>\n      <td>ZEEBRUGGE</td>\n      <td>2302478</td>\n      <td>1292</td>\n      <td>589</td>\n      <td>38 days</td>\n      <td>...</td>\n      <td>{'ContainerYardCutOffDate': '', 'ReeferCutOffD...</td>\n      <td>Sun 7th May 2023</td>\n      <td>2023-05-07T18:45:00</td>\n      <td>Tue 13th Jun 2023</td>\n      <td>2023-06-13T04:00:00</td>\n      <td>MSC MATILDE V</td>\n      <td>HI317A</td>\n      <td>37 days</td>\n      <td>888</td>\n      <td>[{'LegSequence': 1, 'SingleLegOnly': False, 'L...</td>\n    </tr>\n    <tr>\n      <th>126898</th>\n      <td>2023-03-12</td>\n      <td>ARZAE</td>\n      <td>BEANR</td>\n      <td>COMMERCIAL FEEDER</td>\n      <td>ZARATE</td>\n      <td>ANTWERP</td>\n      <td>2262776</td>\n      <td>938</td>\n      <td>481</td>\n      <td>42 days</td>\n      <td>...</td>\n      <td>{'ContainerYardCutOffDate': '', 'ReeferCutOffD...</td>\n      <td>Sun 7th May 2023</td>\n      <td>2023-05-07T20:00:00</td>\n      <td>Sun 18th Jun 2023</td>\n      <td>2023-06-18T04:00:00</td>\n      <td>TBN</td>\n      <td>TBN</td>\n      <td>42 days</td>\n      <td>1008</td>\n      <td>[{'LegSequence': 1, 'SingleLegOnly': False, 'L...</td>\n    </tr>\n    <tr>\n      <th>126907</th>\n      <td>2023-03-12</td>\n      <td>ARZAE</td>\n      <td>NLRTM</td>\n      <td>COMMERCIAL FEEDER</td>\n      <td>ZARATE</td>\n      <td>ROTTERDAM</td>\n      <td>2262674</td>\n      <td>938</td>\n      <td>208</td>\n      <td>34 days</td>\n      <td>...</td>\n      <td>{'ContainerYardCutOffDate': '', 'ReeferCutOffD...</td>\n      <td>Sun 7th May 2023</td>\n      <td>2023-05-07T20:00:00</td>\n      <td>Fri 9th Jun 2023</td>\n      <td>2023-06-09T17:00:00</td>\n      <td>TBN</td>\n      <td>TBN</td>\n      <td>34 days</td>\n      <td>816</td>\n      <td>[{'LegSequence': 1, 'SingleLegOnly': False, 'L...</td>\n    </tr>\n    <tr>\n      <th>126917</th>\n      <td>2023-03-12</td>\n      <td>ARZAE</td>\n      <td>BEZEE</td>\n      <td>COMMERCIAL FEEDER</td>\n      <td>ZARATE</td>\n      <td>ZEEBRUGGE</td>\n      <td>2400279</td>\n      <td>938</td>\n      <td>589</td>\n      <td>44 days</td>\n      <td>...</td>\n      <td>{'ContainerYardCutOffDate': '', 'ReeferCutOffD...</td>\n      <td>Sun 7th May 2023</td>\n      <td>2023-05-07T20:00:00</td>\n      <td>Tue 20th Jun 2023</td>\n      <td>2023-06-20T04:00:00</td>\n      <td>TBN</td>\n      <td>TBN</td>\n      <td>44 days</td>\n      <td>1056</td>\n      <td>[{'LegSequence': 1, 'SingleLegOnly': False, 'L...</td>\n    </tr>\n  </tbody>\n</table>\n<p>35565 rows × 26 columns</p>\n</div>"
     },
     "execution_count": 8,
     "metadata": {},
     "output_type": "execute_result"
    }
   ],
   "source": [
    "pd.read_pickle(\"../pickles/msc_v2_connections_combined.pickle\")"
   ],
   "metadata": {
    "collapsed": false,
    "ExecuteTime": {
     "start_time": "2023-04-02T18:37:06.766168Z",
     "end_time": "2023-04-02T18:37:07.648700Z"
    }
   }
  }
 ],
 "metadata": {
  "kernelspec": {
   "display_name": "Python 3",
   "language": "python",
   "name": "python3"
  },
  "language_info": {
   "codemirror_mode": {
    "name": "ipython",
    "version": 2
   },
   "file_extension": ".py",
   "mimetype": "text/x-python",
   "name": "python",
   "nbconvert_exporter": "python",
   "pygments_lexer": "ipython2",
   "version": "2.7.6"
  }
 },
 "nbformat": 4,
 "nbformat_minor": 0
}
