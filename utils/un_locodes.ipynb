{
 "cells": [
  {
   "cell_type": "markdown",
   "source": [
    "### A brief helper notebook to parse UN_LOCODEs to full names"
   ],
   "metadata": {
    "collapsed": false
   }
  },
  {
   "cell_type": "code",
   "execution_count": 2,
   "metadata": {
    "collapsed": true
   },
   "outputs": [],
   "source": [
    "import pandas as pd"
   ]
  },
  {
   "cell_type": "code",
   "execution_count": 3,
   "outputs": [
    {
     "data": {
      "text/plain": "  CountryCode           CountryName\n0          AD               Andorra\n1          AE  United Arab Emirates\n2          AF           Afghanistan",
      "text/html": "<div>\n<style scoped>\n    .dataframe tbody tr th:only-of-type {\n        vertical-align: middle;\n    }\n\n    .dataframe tbody tr th {\n        vertical-align: top;\n    }\n\n    .dataframe thead th {\n        text-align: right;\n    }\n</style>\n<table border=\"1\" class=\"dataframe\">\n  <thead>\n    <tr style=\"text-align: right;\">\n      <th></th>\n      <th>CountryCode</th>\n      <th>CountryName</th>\n    </tr>\n  </thead>\n  <tbody>\n    <tr>\n      <th>0</th>\n      <td>AD</td>\n      <td>Andorra</td>\n    </tr>\n    <tr>\n      <th>1</th>\n      <td>AE</td>\n      <td>United Arab Emirates</td>\n    </tr>\n    <tr>\n      <th>2</th>\n      <td>AF</td>\n      <td>Afghanistan</td>\n    </tr>\n  </tbody>\n</table>\n</div>"
     },
     "execution_count": 3,
     "metadata": {},
     "output_type": "execute_result"
    }
   ],
   "source": [
    "# Create DataFrames from UN-LOCODE CSVs\n",
    "country_df = pd.read_csv(\"../utils/country-codes.csv\")\n",
    "country_df.head(3)"
   ],
   "metadata": {
    "collapsed": false
   }
  },
  {
   "cell_type": "code",
   "execution_count": 4,
   "outputs": [
    {
     "data": {
      "text/plain": "  Country Location   Code              Name  NameWoDiacritics Subdivision  \\\n0      AD      ALV  ADALV  Andorra la Vella  Andorra la Vella         NaN   \n1      AD      CAN  ADCAN           Canillo           Canillo         NaN   \n2      AD      ENC  ADENC            Encamp            Encamp         NaN   \n\n  Status  Function   Date IATA   Coordinates Remarks  \n0     AI  --34-6--  601.0  NaN  4230N 00131E     NaN  \n1     RL  --3-----  307.0  NaN  4234N 00135E     NaN  \n2     RL  --3-----  307.0  NaN  4232N 00134E     NaN  ",
      "text/html": "<div>\n<style scoped>\n    .dataframe tbody tr th:only-of-type {\n        vertical-align: middle;\n    }\n\n    .dataframe tbody tr th {\n        vertical-align: top;\n    }\n\n    .dataframe thead th {\n        text-align: right;\n    }\n</style>\n<table border=\"1\" class=\"dataframe\">\n  <thead>\n    <tr style=\"text-align: right;\">\n      <th></th>\n      <th>Country</th>\n      <th>Location</th>\n      <th>Code</th>\n      <th>Name</th>\n      <th>NameWoDiacritics</th>\n      <th>Subdivision</th>\n      <th>Status</th>\n      <th>Function</th>\n      <th>Date</th>\n      <th>IATA</th>\n      <th>Coordinates</th>\n      <th>Remarks</th>\n    </tr>\n  </thead>\n  <tbody>\n    <tr>\n      <th>0</th>\n      <td>AD</td>\n      <td>ALV</td>\n      <td>ADALV</td>\n      <td>Andorra la Vella</td>\n      <td>Andorra la Vella</td>\n      <td>NaN</td>\n      <td>AI</td>\n      <td>--34-6--</td>\n      <td>601.0</td>\n      <td>NaN</td>\n      <td>4230N 00131E</td>\n      <td>NaN</td>\n    </tr>\n    <tr>\n      <th>1</th>\n      <td>AD</td>\n      <td>CAN</td>\n      <td>ADCAN</td>\n      <td>Canillo</td>\n      <td>Canillo</td>\n      <td>NaN</td>\n      <td>RL</td>\n      <td>--3-----</td>\n      <td>307.0</td>\n      <td>NaN</td>\n      <td>4234N 00135E</td>\n      <td>NaN</td>\n    </tr>\n    <tr>\n      <th>2</th>\n      <td>AD</td>\n      <td>ENC</td>\n      <td>ADENC</td>\n      <td>Encamp</td>\n      <td>Encamp</td>\n      <td>NaN</td>\n      <td>RL</td>\n      <td>--3-----</td>\n      <td>307.0</td>\n      <td>NaN</td>\n      <td>4232N 00134E</td>\n      <td>NaN</td>\n    </tr>\n  </tbody>\n</table>\n</div>"
     },
     "execution_count": 4,
     "metadata": {},
     "output_type": "execute_result"
    }
   ],
   "source": [
    "# Create DataFrames from UN-LOCODE CSVs\n",
    "country_df = pd.read_csv(\"../utils/country-codes.csv\")\n",
    "code_df = pd.read_csv(\"../utils/code-list.csv\")\n",
    "code_df.drop(\"Change\", inplace=True, axis='columns')\n",
    "code_df.insert(2, \"Code\", code_df[\"Country\"] + code_df[\"Location\"])\n",
    "code_df.head(3)"
   ],
   "metadata": {
    "collapsed": false
   }
  }
 ],
 "metadata": {
  "kernelspec": {
   "display_name": "Python 3",
   "language": "python",
   "name": "python3"
  },
  "language_info": {
   "codemirror_mode": {
    "name": "ipython",
    "version": 2
   },
   "file_extension": ".py",
   "mimetype": "text/x-python",
   "name": "python",
   "nbconvert_exporter": "python",
   "pygments_lexer": "ipython2",
   "version": "2.7.6"
  }
 },
 "nbformat": 4,
 "nbformat_minor": 0
}
