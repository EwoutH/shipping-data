{
 "cells": [
  {
   "cell_type": "code",
   "execution_count": 1,
   "metadata": {
    "collapsed": true,
    "pycharm": {
     "name": "#%%\n"
    }
   },
   "outputs": [],
   "source": [
    "from selenium import webdriver\n",
    "from selenium.webdriver.common.by import By\n",
    "from selenium.webdriver.common.keys import Keys #currently not used\n",
    "from selenium.webdriver.chrome.options import Options\n",
    "from selenium.webdriver.common.action_chains import ActionChains\n",
    "from bs4 import BeautifulSoup\n",
    "from selenium.webdriver.chrome.service import Service\n",
    "from webdriver_manager.chrome import ChromeDriverManager\n",
    "import time\n",
    "import pandas as pd"
   ]
  },
  {
   "cell_type": "code",
   "execution_count": 2,
   "outputs": [
    {
     "name": "stderr",
     "output_type": "stream",
     "text": [
      "[WDM] - Downloading: 100%|██████████| 6.46M/6.46M [00:00<00:00, 25.3MB/s]\n"
     ]
    }
   ],
   "source": [
    "#sets up the options of the chromedriver\n",
    "opts = Options()\n",
    "opts.add_argument(\"window-size=1280,720\") #locks the window size\n",
    "opts.add_argument(\"user-agent=Chrome/106.0.5249.119\") #Prevents sites from blocking traffic\n",
    "headless = True\n",
    "\n",
    "if headless: #if True, open chrome on the background without window\n",
    "    opts.headless = False\n",
    "\n",
    "driver = webdriver.Chrome(service=Service(ChromeDriverManager().install()), options=opts)"
   ],
   "metadata": {
    "collapsed": false,
    "pycharm": {
     "name": "#%%\n"
    }
   }
  },
  {
   "cell_type": "code",
   "execution_count": 3,
   "outputs": [],
   "source": [
    "#Open Maersk point to point site\n",
    "driver.get(\"https://www.maersk.com/schedules/pointToPoint\")\n",
    "time.sleep(3)\n",
    "#Click to allow cookies\n",
    "driver.find_element(By.XPATH,\"//*[@id='coiPage-1']/div[2]/button[3]\").click()\n",
    "\n",
    "#fill in the origin location\n",
    "originloc = driver.find_element(By.ID,'originLocation')\n",
    "originloc.send_keys(\"Santos (Sao Paulo), Brazil\")\n",
    "\n",
    "#a dropdown menu has to be clicked in order to confirm the origin location. This clicks the correct port\n",
    "time.sleep(3) #Makes sure that the element is actually clickable\n",
    "action = ActionChains(driver)\n",
    "action.move_to_element_with_offset(originloc, 0, 50)\n",
    "action.click()\n",
    "action.perform()\n",
    "\n",
    "#Fills in the destination location automatically.\n",
    "destinationloc = driver.find_element(By.ID,'destinationLocation')\n",
    "destinationloc.send_keys(\"Rotterdam\")\n",
    "\n",
    "#a dropdown menu has to be clicked in order to confirm the origin location. This clicks the correct port\n",
    "time.sleep(3)\n",
    "action = ActionChains(driver)\n",
    "action.move_to_element_with_offset(destinationloc, 0, 50)\n",
    "action.click()\n",
    "action.perform()\n",
    "\n",
    "#Click the search button\n",
    "search_button = driver.find_element(By.XPATH,'//*[@id=\"app\"]/div[2]/span/form/div[6]/button')\n",
    "search_button.click()\n",
    "\n",
    "time.sleep(4)\n",
    "#This list contains all the Xpaths to the buttons that expand the route details\n",
    "list_xpath_routedetails =[\"//*[@id='app']/div[2]/div[1]/div[3]/div/div[4]/button/span\",\"//*[@id='app']/div[2]/div[1]/div[4]/div/div[4]/button/span\",\"//*[@id='app']/div[2]/div[1]/div[5]/div/div[4]/button/span\",\n",
    "                          \"//*[@id='app']/div[2]/div[1]/div[6]/div/div[4]/button/span\",\"//*[@id='app']/div[2]/div[1]/div[7]/div/div[4]/button/span\"]\n",
    "\n",
    "time.sleep(3)\n",
    "#Clicks the buttons to expand the route details\n",
    "for i in list_xpath_routedetails:\n",
    "    driver.find_element(By.XPATH,i).click()\n",
    "\n",
    "#Copy's the page to use in Beautifulsoup\n",
    "page_source = driver.page_source\n",
    "soup = BeautifulSoup(page_source)\n",
    "\n",
    "#Closes the webdriver after a few seconds\n",
    "driver.quit()"
   ],
   "metadata": {
    "collapsed": false,
    "pycharm": {
     "name": "#%%\n"
    }
   }
  },
  {
   "cell_type": "code",
   "execution_count": 4,
   "outputs": [],
   "source": [
    "#Lists all the data on routes. The data on routes is already grouped.\n",
    "routes = soup.find_all(\"div\", class_=\"ptp-results__transport-plan\")"
   ],
   "metadata": {
    "collapsed": false,
    "pycharm": {
     "name": "#%%\n"
    }
   }
  },
  {
   "cell_type": "code",
   "execution_count": null,
   "outputs": [],
   "source": [],
   "metadata": {
    "collapsed": false,
    "pycharm": {
     "name": "#%%\n"
    }
   }
  },
  {
   "cell_type": "code",
   "execution_count": 5,
   "outputs": [],
   "source": [
    "def process_data_route(route,list_routes):\n",
    "    #The origin port is the first port in the list, destination the last\n",
    "    origin = list_ports[0]\n",
    "    destination = list_ports[-1]\n",
    "\n",
    "    print(origin)\n",
    "    print(destination)\n",
    "\n",
    "    info_destination = route.find(class_=\"ptp-results__transport-plan--item-final\")\n",
    "    arrival_date = info_destination.find(class_=\"transport-label font--small\")\n",
    "    arrival_date = arrival_date.find_all(class_=\"font--small\")\n",
    "    print(arrival_date[1].text)\n",
    "\n",
    "    info_departure = route.find(class_=\"transport-label font--small\")\n",
    "\n",
    "    departure_date = info_departure.find(class_=\"font--small\").text\n",
    "    print(departure_date)\n",
    "\n",
    "    vessel_name = info_departure.find(class_=\"rich-text\").text\n",
    "    vessel_name = vessel_name.split()\n",
    "    vessel_name.remove('Departing')\n",
    "    vessel_name.remove('on')\n",
    "    vessel_name.remove(\"/\")\n",
    "    vessel_name.pop(-1)\n",
    "    vessel_name = ' '.join(vessel_name)\n",
    "    print(vessel_name)\n",
    "\n",
    "    vessel_info = route.find(class_=\"vessel\")\n",
    "\n",
    "    imo = vessel_info.find(class_=\"imo\").text\n",
    "    imo = imo.removeprefix('IMO Number')\n",
    "    print(imo)\n",
    "\n",
    "    service = vessel_info.find(class_=\"service\").text\n",
    "    service = service.removeprefix('Service')\n",
    "    print(service)\n",
    "\n",
    "    flag = vessel_info.find(class_=\"flag\").text\n",
    "    flag = flag.removeprefix('Flag')\n",
    "    print(flag)\n",
    "\n",
    "    callsign = vessel_info.find(class_=\"callsign\").text\n",
    "    callsign = callsign.removeprefix('Call Sign')\n",
    "    print(callsign)\n",
    "\n",
    "    built_year_ship = vessel_info.find(class_=\"built\").text\n",
    "    built_year_ship = built_year_ship.removeprefix('Built')\n",
    "    print(built_year_ship)\n",
    "\n",
    "    if len(list_ports)>2: #If the route contains only a origin and destination, the code will be different from routes with transshipment ports\n",
    "        process_data_transfer(route,list_ports)"
   ],
   "metadata": {
    "collapsed": false,
    "pycharm": {
     "name": "#%%\n"
    }
   }
  },
  {
   "cell_type": "code",
   "execution_count": 6,
   "outputs": [],
   "source": [
    "def process_data_transfer(route,list_ports):\n",
    "    for i in range(1,len(list_ports)-1):\n",
    "        #item 1 is a port, 2 a ship, 3 a port and so on\n",
    "        #The following if statement makes sure that data of a port\n",
    "        #is actually read as a port\n",
    "        if (i % 2) == 1:\n",
    "            transit_port = route.find_all(class_=\"ptp-results__transport-plan--item\")[i]\n",
    "\n",
    "            info_arrival = transit_port.find(class_=\"transport-label font--small\")\n",
    "\n",
    "            arrival_date = info_arrival.find_all(class_=\"font--small\")[1].text\n",
    "            print(arrival_date)\n",
    "\n",
    "            transit_ship = route.find_all(class_=\"ptp-results__transport-plan--item\")[i+1]\n",
    "\n",
    "            info_departure = transit_ship.find(class_=\"transport-label font--small\")\n",
    "            departure_date = info_departure.find(class_=\"font--small\").text\n",
    "            print(departure_date)\n",
    "\n",
    "            vessel_name = info_departure.find(class_=\"rich-text\").text\n",
    "            vessel_name = vessel_name.split()\n",
    "            vessel_name.remove('Departing')\n",
    "            vessel_name.remove('on')\n",
    "            vessel_name.remove(\"/\")\n",
    "            vessel_name.pop(-1)\n",
    "            vessel_name = ' '.join(vessel_name)\n",
    "            print(vessel_name)\n",
    "\n",
    "            vessel_info = transit_ship.find(class_=\"vessel\")\n",
    "\n",
    "            imo = vessel_info.find(class_=\"imo\").text\n",
    "            imo = imo.removeprefix('IMO Number')\n",
    "            print(imo)\n",
    "\n",
    "            service = vessel_info.find(class_=\"service\").text\n",
    "            service = service.removeprefix('Service')\n",
    "            print(service)\n",
    "\n",
    "\n",
    "            flag = vessel_info.find(class_=\"flag\").text\n",
    "            flag = flag.removeprefix('Flag')\n",
    "            print(flag)\n",
    "\n",
    "            callsign = vessel_info.find(class_=\"callsign\").text\n",
    "            callsign = callsign.removeprefix('Call Sign')\n",
    "            print(callsign)\n",
    "\n",
    "            built_year_ship = vessel_info.find(class_=\"built\").text\n",
    "            built_year_ship = built_year_ship.removeprefix('Built')\n",
    "            print(built_year_ship)"
   ],
   "metadata": {
    "collapsed": false,
    "pycharm": {
     "name": "#%%\n"
    }
   }
  },
  {
   "cell_type": "code",
   "execution_count": 7,
   "outputs": [],
   "source": [
    "route = routes[0]\n",
    "\n",
    "#The Maersk site does not show all ports that are on the route\n",
    "#It only provides information on ports which are either origin, destination or transshipment ports\n",
    "#Transshipment in this context means a port where the container is moved to a different ship.\n",
    "#The following few lines detects all ports in a route\n",
    "ports = route.find_all(\"div\", class_=\"location\")\n",
    "list_ports =[]\n",
    "for p in ports:\n",
    "    city = p.find(\"div\", class_=\"font--default--bold\").text\n",
    "    terminal = p.find(\"div\", class_=\"font--small\").text\n",
    "    port = city + ' ' + terminal\n",
    "    list_ports.append(port)"
   ],
   "metadata": {
    "collapsed": false,
    "pycharm": {
     "name": "#%%\n"
    }
   }
  },
  {
   "cell_type": "code",
   "execution_count": 8,
   "outputs": [
    {
     "name": "stdout",
     "output_type": "stream",
     "text": [
      "Santos Brasil Terminal Portuario\n",
      "Rotterdam Hutchison Ports Delta II\n",
      "10 Dec 2022 07:00\n",
      "17 Nov 2022 07:00\n",
      "SEBASTIAO CABOTO\n",
      "-\n",
      "BOSSANOVA XL\n",
      "-\n",
      "-\n",
      "-\n",
      "29 Nov 2022 20:00\n",
      "03 Dec 2022 18:00\n",
      "CAP SAN LORENZO\n",
      "9622227\n",
      "NEOSAMBA\n",
      "DK\n",
      "OXOF2\n",
      "2013\n"
     ]
    }
   ],
   "source": [
    "process_data_route(route,list_ports)"
   ],
   "metadata": {
    "collapsed": false,
    "pycharm": {
     "name": "#%%\n"
    }
   }
  },
  {
   "cell_type": "code",
   "execution_count": 8,
   "outputs": [],
   "source": [],
   "metadata": {
    "collapsed": false,
    "pycharm": {
     "name": "#%%\n"
    }
   }
  }
 ],
 "metadata": {
  "kernelspec": {
   "display_name": "Python 3",
   "language": "python",
   "name": "python3"
  },
  "language_info": {
   "codemirror_mode": {
    "name": "ipython",
    "version": 2
   },
   "file_extension": ".py",
   "mimetype": "text/x-python",
   "name": "python",
   "nbconvert_exporter": "python",
   "pygments_lexer": "ipython2",
   "version": "2.7.6"
  }
 },
 "nbformat": 4,
 "nbformat_minor": 0
}